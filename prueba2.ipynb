{
 "cells": [
  {
   "cell_type": "markdown",
   "metadata": {},
   "source": [
    "Pedro Biain Alvarez \n",
    "uc2024170406@student.uc.pt\n",
    "\n",
    "Dario Jose Iglesisas\n",
    "\n"
   ]
  },
  {
   "cell_type": "code",
   "execution_count": 81,
   "metadata": {},
   "outputs": [
    {
     "name": "stderr",
     "output_type": "stream",
     "text": [
      "c:\\Users\\bykon\\AppData\\Local\\Programs\\Python\\Python310\\lib\\site-packages\\openpyxl\\styles\\stylesheet.py:237: UserWarning:\n",
      "\n",
      "Workbook contains no default style, apply openpyxl's default\n",
      "\n"
     ]
    },
    {
     "data": {
      "text/html": [
       "<div>\n",
       "<style scoped>\n",
       "    .dataframe tbody tr th:only-of-type {\n",
       "        vertical-align: middle;\n",
       "    }\n",
       "\n",
       "    .dataframe tbody tr th {\n",
       "        vertical-align: top;\n",
       "    }\n",
       "\n",
       "    .dataframe thead th {\n",
       "        text-align: right;\n",
       "    }\n",
       "</style>\n",
       "<table border=\"1\" class=\"dataframe\">\n",
       "  <thead>\n",
       "    <tr style=\"text-align: right;\">\n",
       "      <th></th>\n",
       "      <th>Provincia</th>\n",
       "      <th>Total</th>\n",
       "      <th>Española</th>\n",
       "      <th>Extranjera</th>\n",
       "    </tr>\n",
       "  </thead>\n",
       "  <tbody>\n",
       "    <tr>\n",
       "      <th>1</th>\n",
       "      <td>01 Araba/Álava</td>\n",
       "      <td>336308</td>\n",
       "      <td>301302</td>\n",
       "      <td>35006</td>\n",
       "    </tr>\n",
       "    <tr>\n",
       "      <th>2</th>\n",
       "      <td>02 Albacete</td>\n",
       "      <td>387529</td>\n",
       "      <td>356856</td>\n",
       "      <td>30673</td>\n",
       "    </tr>\n",
       "    <tr>\n",
       "      <th>3</th>\n",
       "      <td>03 Alicante/Alacant</td>\n",
       "      <td>1955268</td>\n",
       "      <td>1518766</td>\n",
       "      <td>436502</td>\n",
       "    </tr>\n",
       "    <tr>\n",
       "      <th>4</th>\n",
       "      <td>04 Almería</td>\n",
       "      <td>753364</td>\n",
       "      <td>583918</td>\n",
       "      <td>169446</td>\n",
       "    </tr>\n",
       "    <tr>\n",
       "      <th>5</th>\n",
       "      <td>05 Ávila</td>\n",
       "      <td>159764</td>\n",
       "      <td>146896</td>\n",
       "      <td>12868</td>\n",
       "    </tr>\n",
       "    <tr>\n",
       "      <th>6</th>\n",
       "      <td>06 Badajoz</td>\n",
       "      <td>666049</td>\n",
       "      <td>642287</td>\n",
       "      <td>23762</td>\n",
       "    </tr>\n",
       "    <tr>\n",
       "      <th>7</th>\n",
       "      <td>07 Balears, Illes</td>\n",
       "      <td>1209906</td>\n",
       "      <td>962237</td>\n",
       "      <td>247669</td>\n",
       "    </tr>\n",
       "    <tr>\n",
       "      <th>8</th>\n",
       "      <td>08 Barcelona</td>\n",
       "      <td>5797356</td>\n",
       "      <td>4846649</td>\n",
       "      <td>950707</td>\n",
       "    </tr>\n",
       "    <tr>\n",
       "      <th>9</th>\n",
       "      <td>09 Burgos</td>\n",
       "      <td>357370</td>\n",
       "      <td>324220</td>\n",
       "      <td>33150</td>\n",
       "    </tr>\n",
       "    <tr>\n",
       "      <th>10</th>\n",
       "      <td>10 Cáceres</td>\n",
       "      <td>388257</td>\n",
       "      <td>372577</td>\n",
       "      <td>15680</td>\n",
       "    </tr>\n",
       "    <tr>\n",
       "      <th>11</th>\n",
       "      <td>11 Cádiz</td>\n",
       "      <td>1254866</td>\n",
       "      <td>1195185</td>\n",
       "      <td>59681</td>\n",
       "    </tr>\n",
       "    <tr>\n",
       "      <th>12</th>\n",
       "      <td>12 Castellón/Castelló</td>\n",
       "      <td>604086</td>\n",
       "      <td>503118</td>\n",
       "      <td>100968</td>\n",
       "    </tr>\n",
       "    <tr>\n",
       "      <th>13</th>\n",
       "      <td>13 Ciudad Real</td>\n",
       "      <td>491927</td>\n",
       "      <td>457054</td>\n",
       "      <td>34873</td>\n",
       "    </tr>\n",
       "    <tr>\n",
       "      <th>14</th>\n",
       "      <td>14 Córdoba</td>\n",
       "      <td>775002</td>\n",
       "      <td>748997</td>\n",
       "      <td>26005</td>\n",
       "    </tr>\n",
       "    <tr>\n",
       "      <th>15</th>\n",
       "      <td>15 Coruña, A</td>\n",
       "      <td>1123884</td>\n",
       "      <td>1068748</td>\n",
       "      <td>55136</td>\n",
       "    </tr>\n",
       "    <tr>\n",
       "      <th>16</th>\n",
       "      <td>16 Cuenca</td>\n",
       "      <td>198436</td>\n",
       "      <td>172214</td>\n",
       "      <td>26222</td>\n",
       "    </tr>\n",
       "    <tr>\n",
       "      <th>17</th>\n",
       "      <td>17 Girona</td>\n",
       "      <td>808672</td>\n",
       "      <td>637190</td>\n",
       "      <td>171482</td>\n",
       "    </tr>\n",
       "    <tr>\n",
       "      <th>18</th>\n",
       "      <td>18 Granada</td>\n",
       "      <td>934072</td>\n",
       "      <td>856467</td>\n",
       "      <td>77605</td>\n",
       "    </tr>\n",
       "    <tr>\n",
       "      <th>19</th>\n",
       "      <td>19 Guadalajara</td>\n",
       "      <td>275082</td>\n",
       "      <td>233675</td>\n",
       "      <td>41407</td>\n",
       "    </tr>\n",
       "    <tr>\n",
       "      <th>20</th>\n",
       "      <td>20 Gipuzkoa</td>\n",
       "      <td>726712</td>\n",
       "      <td>660601</td>\n",
       "      <td>66111</td>\n",
       "    </tr>\n",
       "    <tr>\n",
       "      <th>21</th>\n",
       "      <td>21 Huelva</td>\n",
       "      <td>534084</td>\n",
       "      <td>477639</td>\n",
       "      <td>56445</td>\n",
       "    </tr>\n",
       "    <tr>\n",
       "      <th>22</th>\n",
       "      <td>22 Huesca</td>\n",
       "      <td>226878</td>\n",
       "      <td>194952</td>\n",
       "      <td>31926</td>\n",
       "    </tr>\n",
       "    <tr>\n",
       "      <th>23</th>\n",
       "      <td>23 Jaén</td>\n",
       "      <td>620637</td>\n",
       "      <td>600652</td>\n",
       "      <td>19985</td>\n",
       "    </tr>\n",
       "    <tr>\n",
       "      <th>24</th>\n",
       "      <td>24 León</td>\n",
       "      <td>448573</td>\n",
       "      <td>425175</td>\n",
       "      <td>23398</td>\n",
       "    </tr>\n",
       "    <tr>\n",
       "      <th>25</th>\n",
       "      <td>25 Lleida</td>\n",
       "      <td>447343</td>\n",
       "      <td>358987</td>\n",
       "      <td>88356</td>\n",
       "    </tr>\n",
       "    <tr>\n",
       "      <th>26</th>\n",
       "      <td>26 Rioja, La</td>\n",
       "      <td>322282</td>\n",
       "      <td>277946</td>\n",
       "      <td>44336</td>\n",
       "    </tr>\n",
       "    <tr>\n",
       "      <th>27</th>\n",
       "      <td>27 Lugo</td>\n",
       "      <td>324267</td>\n",
       "      <td>304508</td>\n",
       "      <td>19759</td>\n",
       "    </tr>\n",
       "    <tr>\n",
       "      <th>28</th>\n",
       "      <td>28 Madrid</td>\n",
       "      <td>6871903</td>\n",
       "      <td>5830014</td>\n",
       "      <td>1041889</td>\n",
       "    </tr>\n",
       "    <tr>\n",
       "      <th>29</th>\n",
       "      <td>29 Málaga</td>\n",
       "      <td>1752728</td>\n",
       "      <td>1438368</td>\n",
       "      <td>314360</td>\n",
       "    </tr>\n",
       "    <tr>\n",
       "      <th>30</th>\n",
       "      <td>30 Murcia</td>\n",
       "      <td>1551692</td>\n",
       "      <td>1314926</td>\n",
       "      <td>236766</td>\n",
       "    </tr>\n",
       "    <tr>\n",
       "      <th>31</th>\n",
       "      <td>31 Navarra</td>\n",
       "      <td>672155</td>\n",
       "      <td>591214</td>\n",
       "      <td>80941</td>\n",
       "    </tr>\n",
       "    <tr>\n",
       "      <th>32</th>\n",
       "      <td>32 Ourense</td>\n",
       "      <td>304563</td>\n",
       "      <td>285080</td>\n",
       "      <td>19483</td>\n",
       "    </tr>\n",
       "    <tr>\n",
       "      <th>33</th>\n",
       "      <td>33 Asturias</td>\n",
       "      <td>1006060</td>\n",
       "      <td>952488</td>\n",
       "      <td>53572</td>\n",
       "    </tr>\n",
       "    <tr>\n",
       "      <th>34</th>\n",
       "      <td>34 Palencia</td>\n",
       "      <td>157787</td>\n",
       "      <td>149206</td>\n",
       "      <td>8581</td>\n",
       "    </tr>\n",
       "    <tr>\n",
       "      <th>35</th>\n",
       "      <td>35 Palmas, Las</td>\n",
       "      <td>1145843</td>\n",
       "      <td>991714</td>\n",
       "      <td>154129</td>\n",
       "    </tr>\n",
       "    <tr>\n",
       "      <th>36</th>\n",
       "      <td>36 Pontevedra</td>\n",
       "      <td>946710</td>\n",
       "      <td>901782</td>\n",
       "      <td>44928</td>\n",
       "    </tr>\n",
       "    <tr>\n",
       "      <th>37</th>\n",
       "      <td>37 Salamanca</td>\n",
       "      <td>327089</td>\n",
       "      <td>308483</td>\n",
       "      <td>18606</td>\n",
       "    </tr>\n",
       "    <tr>\n",
       "      <th>38</th>\n",
       "      <td>38 Santa Cruz de Tenerife</td>\n",
       "      <td>1067173</td>\n",
       "      <td>906779</td>\n",
       "      <td>160394</td>\n",
       "    </tr>\n",
       "    <tr>\n",
       "      <th>39</th>\n",
       "      <td>39 Cantabria</td>\n",
       "      <td>588387</td>\n",
       "      <td>546676</td>\n",
       "      <td>41711</td>\n",
       "    </tr>\n",
       "    <tr>\n",
       "      <th>40</th>\n",
       "      <td>40 Segovia</td>\n",
       "      <td>155332</td>\n",
       "      <td>135317</td>\n",
       "      <td>20015</td>\n",
       "    </tr>\n",
       "    <tr>\n",
       "      <th>41</th>\n",
       "      <td>41 Sevilla</td>\n",
       "      <td>1959394</td>\n",
       "      <td>1869197</td>\n",
       "      <td>90197</td>\n",
       "    </tr>\n",
       "    <tr>\n",
       "      <th>42</th>\n",
       "      <td>42 Soria</td>\n",
       "      <td>89528</td>\n",
       "      <td>79165</td>\n",
       "      <td>10363</td>\n",
       "    </tr>\n",
       "    <tr>\n",
       "      <th>43</th>\n",
       "      <td>43 Tarragona</td>\n",
       "      <td>848592</td>\n",
       "      <td>697156</td>\n",
       "      <td>151436</td>\n",
       "    </tr>\n",
       "    <tr>\n",
       "      <th>44</th>\n",
       "      <td>44 Teruel</td>\n",
       "      <td>135046</td>\n",
       "      <td>118354</td>\n",
       "      <td>16692</td>\n",
       "    </tr>\n",
       "    <tr>\n",
       "      <th>45</th>\n",
       "      <td>45 Toledo</td>\n",
       "      <td>731112</td>\n",
       "      <td>644114</td>\n",
       "      <td>86998</td>\n",
       "    </tr>\n",
       "    <tr>\n",
       "      <th>46</th>\n",
       "      <td>46 Valencia/València</td>\n",
       "      <td>2656841</td>\n",
       "      <td>2306155</td>\n",
       "      <td>350686</td>\n",
       "    </tr>\n",
       "    <tr>\n",
       "      <th>47</th>\n",
       "      <td>47 Valladolid</td>\n",
       "      <td>521333</td>\n",
       "      <td>487981</td>\n",
       "      <td>33352</td>\n",
       "    </tr>\n",
       "    <tr>\n",
       "      <th>48</th>\n",
       "      <td>48 Bizkaia</td>\n",
       "      <td>1153282</td>\n",
       "      <td>1054185</td>\n",
       "      <td>99097</td>\n",
       "    </tr>\n",
       "    <tr>\n",
       "      <th>49</th>\n",
       "      <td>49 Zamora</td>\n",
       "      <td>166927</td>\n",
       "      <td>159326</td>\n",
       "      <td>7601</td>\n",
       "    </tr>\n",
       "    <tr>\n",
       "      <th>50</th>\n",
       "      <td>50 Zaragoza</td>\n",
       "      <td>979365</td>\n",
       "      <td>846939</td>\n",
       "      <td>132426</td>\n",
       "    </tr>\n",
       "  </tbody>\n",
       "</table>\n",
       "</div>"
      ],
      "text/plain": [
       "                    Provincia    Total Española Extranjera\n",
       "1              01 Araba/Álava   336308   301302      35006\n",
       "2                 02 Albacete   387529   356856      30673\n",
       "3         03 Alicante/Alacant  1955268  1518766     436502\n",
       "4                  04 Almería   753364   583918     169446\n",
       "5                    05 Ávila   159764   146896      12868\n",
       "6                  06 Badajoz   666049   642287      23762\n",
       "7           07 Balears, Illes  1209906   962237     247669\n",
       "8                08 Barcelona  5797356  4846649     950707\n",
       "9                   09 Burgos   357370   324220      33150\n",
       "10                 10 Cáceres   388257   372577      15680\n",
       "11                   11 Cádiz  1254866  1195185      59681\n",
       "12      12 Castellón/Castelló   604086   503118     100968\n",
       "13             13 Ciudad Real   491927   457054      34873\n",
       "14                 14 Córdoba   775002   748997      26005\n",
       "15               15 Coruña, A  1123884  1068748      55136\n",
       "16                  16 Cuenca   198436   172214      26222\n",
       "17                  17 Girona   808672   637190     171482\n",
       "18                 18 Granada   934072   856467      77605\n",
       "19             19 Guadalajara   275082   233675      41407\n",
       "20                20 Gipuzkoa   726712   660601      66111\n",
       "21                  21 Huelva   534084   477639      56445\n",
       "22                  22 Huesca   226878   194952      31926\n",
       "23                    23 Jaén   620637   600652      19985\n",
       "24                    24 León   448573   425175      23398\n",
       "25                  25 Lleida   447343   358987      88356\n",
       "26               26 Rioja, La   322282   277946      44336\n",
       "27                    27 Lugo   324267   304508      19759\n",
       "28                  28 Madrid  6871903  5830014    1041889\n",
       "29                  29 Málaga  1752728  1438368     314360\n",
       "30                  30 Murcia  1551692  1314926     236766\n",
       "31                 31 Navarra   672155   591214      80941\n",
       "32                 32 Ourense   304563   285080      19483\n",
       "33                33 Asturias  1006060   952488      53572\n",
       "34                34 Palencia   157787   149206       8581\n",
       "35             35 Palmas, Las  1145843   991714     154129\n",
       "36              36 Pontevedra   946710   901782      44928\n",
       "37               37 Salamanca   327089   308483      18606\n",
       "38  38 Santa Cruz de Tenerife  1067173   906779     160394\n",
       "39               39 Cantabria   588387   546676      41711\n",
       "40                 40 Segovia   155332   135317      20015\n",
       "41                 41 Sevilla  1959394  1869197      90197\n",
       "42                   42 Soria    89528    79165      10363\n",
       "43               43 Tarragona   848592   697156     151436\n",
       "44                  44 Teruel   135046   118354      16692\n",
       "45                  45 Toledo   731112   644114      86998\n",
       "46       46 Valencia/València  2656841  2306155     350686\n",
       "47              47 Valladolid   521333   487981      33352\n",
       "48                 48 Bizkaia  1153282  1054185      99097\n",
       "49                  49 Zamora   166927   159326       7601\n",
       "50                50 Zaragoza   979365   846939     132426"
      ]
     },
     "execution_count": 81,
     "metadata": {},
     "output_type": "execute_result"
    }
   ],
   "source": [
    "import pandas as pd\n",
    "\n",
    "# Carga las bases de datos de población y coordenadas\n",
    "poblacion_df = pd.read_excel(\"poblacion.xlsx\")  # Base de datos de población\n",
    "poblacion_df = poblacion_df.iloc[6:].reset_index(drop=True)\n",
    "poblacion_df = poblacion_df[1:]\n",
    "poblacion_df.columns = ['Provincia','Total','Española','Extranjera']\n",
    "poblacion_df = poblacion_df.iloc[:-8]\n",
    "poblacion_df.head(50)\n",
    "#print(len(poblacion_df))\n",
    "\n",
    "\n",
    "\n"
   ]
  },
  {
   "cell_type": "code",
   "execution_count": 82,
   "metadata": {},
   "outputs": [
    {
     "name": "stdout",
     "output_type": "stream",
     "text": [
      "                    Provincia    Total Española Extranjera\n",
      "0              01 Araba/Álava   336308   301302      35006\n",
      "1                 02 Albacete   387529   356856      30673\n",
      "2         03 Alicante/Alacant  1955268  1518766     436502\n",
      "3                  04 Almería   753364   583918     169446\n",
      "4                 33 Asturias  1006060   952488      53572\n",
      "5                15 Coruña, A  1123884  1068748      55136\n",
      "6                    05 Ávila   159764   146896      12868\n",
      "7                  06 Badajoz   666049   642287      23762\n",
      "8                08 Barcelona  5797356  4846649     950707\n",
      "9                   09 Burgos   357370   324220      33150\n",
      "10                 10 Cáceres   388257   372577      15680\n",
      "11                   11 Cádiz  1254866  1195185      59681\n",
      "12               39 Cantabria   588387   546676      41711\n",
      "13      12 Castellón/Castelló   604086   503118     100968\n",
      "14             13 Ciudad Real   491927   457054      34873\n",
      "15                 14 Córdoba   775002   748997      26005\n",
      "16                  16 Cuenca   198436   172214      26222\n",
      "17                  17 Girona   808672   637190     171482\n",
      "18                 18 Granada   934072   856467      77605\n",
      "19             19 Guadalajara   275082   233675      41407\n",
      "20                20 Gipuzkoa   726712   660601      66111\n",
      "21                  21 Huelva   534084   477639      56445\n",
      "22                  22 Huesca   226878   194952      31926\n",
      "23          07 Balears, Illes  1209906   962237     247669\n",
      "24                    23 Jaén   620637   600652      19985\n",
      "25               26 Rioja, La   322282   277946      44336\n",
      "26             35 Palmas, Las  1145843   991714     154129\n",
      "27                    24 León   448573   425175      23398\n",
      "28                  25 Lleida   447343   358987      88356\n",
      "29                    27 Lugo   324267   304508      19759\n",
      "30                  28 Madrid  6871903  5830014    1041889\n",
      "31                  29 Málaga  1752728  1438368     314360\n",
      "32                  30 Murcia  1551692  1314926     236766\n",
      "33                 31 Navarra   672155   591214      80941\n",
      "34                 32 Ourense   304563   285080      19483\n",
      "35                34 Palencia   157787   149206       8581\n",
      "36              36 Pontevedra   946710   901782      44928\n",
      "37               37 Salamanca   327089   308483      18606\n",
      "38  38 Santa Cruz de Tenerife  1067173   906779     160394\n",
      "39                 40 Segovia   155332   135317      20015\n",
      "40                 41 Sevilla  1959394  1869197      90197\n",
      "41                   42 Soria    89528    79165      10363\n",
      "42               43 Tarragona   848592   697156     151436\n",
      "43                  44 Teruel   135046   118354      16692\n",
      "44                  45 Toledo   731112   644114      86998\n",
      "45       46 Valencia/València  2656841  2306155     350686\n",
      "46              47 Valladolid   521333   487981      33352\n",
      "47                 48 Bizkaia  1153282  1054185      99097\n",
      "48                  49 Zamora   166927   159326       7601\n",
      "49                50 Zaragoza   979365   846939     132426\n"
     ]
    }
   ],
   "source": [
    "orden = ['01 Araba/Álava','02 Albacete','03 Alicante/Alacant','04 Almería','33 Asturias', '15 Coruña, A','05 Ávila',\n",
    "         '06 Badajoz','08 Barcelona','09 Burgos',\n",
    "         '10 Cáceres','11 Cádiz','39 Cantabria','12 Castellón/Castelló','13 Ciudad Real','14 Córdoba','16 Cuenca',\n",
    "         '17 Girona','18 Granada','19 Guadalajara','20 Gipuzkoa',\n",
    "         '21 Huelva','22 Huesca',\n",
    "         '07 Balears, Illes',\n",
    "         '23 Jaén',\n",
    "         '26 Rioja, La','35 Palmas, Las','24 León','25 Lleida','27 Lugo',\n",
    "         '28 Madrid','29 Málaga','30 Murcia',\n",
    "         '31 Navarra',\n",
    "         '32 Ourense',\n",
    "         '34 Palencia','36 Pontevedra',\n",
    "         '37 Salamanca','38 Santa Cruz de Tenerife', '40 Segovia','41 Sevilla','42 Soria',\n",
    "         '43 Tarragona', '44 Teruel', '45 Toledo',\n",
    "         '46 Valencia/València','47 Valladolid','48 Bizkaia',\n",
    "         '49 Zamora','50 Zaragoza']\n",
    "\n",
    "\n",
    "\n",
    "# Reordenar filas\n",
    "poblacion_df = poblacion_df.set_index(\"Provincia\").loc[orden].reset_index()\n",
    "print(poblacion_df)\n",
    "\n"
   ]
  },
  {
   "cell_type": "code",
   "execution_count": 88,
   "metadata": {},
   "outputs": [
    {
     "data": {
      "text/html": [
       "<div>\n",
       "<style scoped>\n",
       "    .dataframe tbody tr th:only-of-type {\n",
       "        vertical-align: middle;\n",
       "    }\n",
       "\n",
       "    .dataframe tbody tr th {\n",
       "        vertical-align: top;\n",
       "    }\n",
       "\n",
       "    .dataframe thead th {\n",
       "        text-align: right;\n",
       "    }\n",
       "</style>\n",
       "<table border=\"1\" class=\"dataframe\">\n",
       "  <thead>\n",
       "    <tr style=\"text-align: right;\">\n",
       "      <th></th>\n",
       "      <th>Provincia</th>\n",
       "      <th>Total</th>\n",
       "      <th>Española</th>\n",
       "      <th>Extranjera</th>\n",
       "    </tr>\n",
       "  </thead>\n",
       "  <tbody>\n",
       "    <tr>\n",
       "      <th>0</th>\n",
       "      <td>01 Araba/Álava</td>\n",
       "      <td>336308</td>\n",
       "      <td>301302</td>\n",
       "      <td>35006</td>\n",
       "    </tr>\n",
       "    <tr>\n",
       "      <th>1</th>\n",
       "      <td>02 Albacete</td>\n",
       "      <td>387529</td>\n",
       "      <td>356856</td>\n",
       "      <td>30673</td>\n",
       "    </tr>\n",
       "    <tr>\n",
       "      <th>2</th>\n",
       "      <td>03 Alicante/Alacant</td>\n",
       "      <td>1955268</td>\n",
       "      <td>1518766</td>\n",
       "      <td>436502</td>\n",
       "    </tr>\n",
       "    <tr>\n",
       "      <th>3</th>\n",
       "      <td>04 Almería</td>\n",
       "      <td>753364</td>\n",
       "      <td>583918</td>\n",
       "      <td>169446</td>\n",
       "    </tr>\n",
       "    <tr>\n",
       "      <th>4</th>\n",
       "      <td>15 Coruña, A</td>\n",
       "      <td>1006060</td>\n",
       "      <td>952488</td>\n",
       "      <td>53572</td>\n",
       "    </tr>\n",
       "    <tr>\n",
       "      <th>5</th>\n",
       "      <td>33 Asturias</td>\n",
       "      <td>1123884</td>\n",
       "      <td>1068748</td>\n",
       "      <td>55136</td>\n",
       "    </tr>\n",
       "    <tr>\n",
       "      <th>6</th>\n",
       "      <td>05 Ávila</td>\n",
       "      <td>159764</td>\n",
       "      <td>146896</td>\n",
       "      <td>12868</td>\n",
       "    </tr>\n",
       "    <tr>\n",
       "      <th>7</th>\n",
       "      <td>06 Badajoz</td>\n",
       "      <td>666049</td>\n",
       "      <td>642287</td>\n",
       "      <td>23762</td>\n",
       "    </tr>\n",
       "    <tr>\n",
       "      <th>8</th>\n",
       "      <td>08 Barcelona</td>\n",
       "      <td>5797356</td>\n",
       "      <td>4846649</td>\n",
       "      <td>950707</td>\n",
       "    </tr>\n",
       "    <tr>\n",
       "      <th>9</th>\n",
       "      <td>09 Burgos</td>\n",
       "      <td>357370</td>\n",
       "      <td>324220</td>\n",
       "      <td>33150</td>\n",
       "    </tr>\n",
       "    <tr>\n",
       "      <th>10</th>\n",
       "      <td>10 Cáceres</td>\n",
       "      <td>388257</td>\n",
       "      <td>372577</td>\n",
       "      <td>15680</td>\n",
       "    </tr>\n",
       "    <tr>\n",
       "      <th>11</th>\n",
       "      <td>11 Cádiz</td>\n",
       "      <td>1254866</td>\n",
       "      <td>1195185</td>\n",
       "      <td>59681</td>\n",
       "    </tr>\n",
       "    <tr>\n",
       "      <th>12</th>\n",
       "      <td>39 Cantabria</td>\n",
       "      <td>588387</td>\n",
       "      <td>546676</td>\n",
       "      <td>41711</td>\n",
       "    </tr>\n",
       "    <tr>\n",
       "      <th>13</th>\n",
       "      <td>12 Castellón/Castelló</td>\n",
       "      <td>604086</td>\n",
       "      <td>503118</td>\n",
       "      <td>100968</td>\n",
       "    </tr>\n",
       "    <tr>\n",
       "      <th>14</th>\n",
       "      <td>13 Ciudad Real</td>\n",
       "      <td>491927</td>\n",
       "      <td>457054</td>\n",
       "      <td>34873</td>\n",
       "    </tr>\n",
       "    <tr>\n",
       "      <th>15</th>\n",
       "      <td>14 Córdoba</td>\n",
       "      <td>775002</td>\n",
       "      <td>748997</td>\n",
       "      <td>26005</td>\n",
       "    </tr>\n",
       "    <tr>\n",
       "      <th>16</th>\n",
       "      <td>16 Cuenca</td>\n",
       "      <td>198436</td>\n",
       "      <td>172214</td>\n",
       "      <td>26222</td>\n",
       "    </tr>\n",
       "    <tr>\n",
       "      <th>17</th>\n",
       "      <td>17 Girona</td>\n",
       "      <td>808672</td>\n",
       "      <td>637190</td>\n",
       "      <td>171482</td>\n",
       "    </tr>\n",
       "    <tr>\n",
       "      <th>18</th>\n",
       "      <td>18 Granada</td>\n",
       "      <td>934072</td>\n",
       "      <td>856467</td>\n",
       "      <td>77605</td>\n",
       "    </tr>\n",
       "    <tr>\n",
       "      <th>19</th>\n",
       "      <td>19 Guadalajara</td>\n",
       "      <td>275082</td>\n",
       "      <td>233675</td>\n",
       "      <td>41407</td>\n",
       "    </tr>\n",
       "    <tr>\n",
       "      <th>20</th>\n",
       "      <td>20 Gipuzkoa</td>\n",
       "      <td>726712</td>\n",
       "      <td>660601</td>\n",
       "      <td>66111</td>\n",
       "    </tr>\n",
       "    <tr>\n",
       "      <th>21</th>\n",
       "      <td>21 Huelva</td>\n",
       "      <td>534084</td>\n",
       "      <td>477639</td>\n",
       "      <td>56445</td>\n",
       "    </tr>\n",
       "    <tr>\n",
       "      <th>22</th>\n",
       "      <td>22 Huesca</td>\n",
       "      <td>226878</td>\n",
       "      <td>194952</td>\n",
       "      <td>31926</td>\n",
       "    </tr>\n",
       "    <tr>\n",
       "      <th>23</th>\n",
       "      <td>07 Balears, Illes</td>\n",
       "      <td>1209906</td>\n",
       "      <td>962237</td>\n",
       "      <td>247669</td>\n",
       "    </tr>\n",
       "    <tr>\n",
       "      <th>24</th>\n",
       "      <td>23 Jaén</td>\n",
       "      <td>620637</td>\n",
       "      <td>600652</td>\n",
       "      <td>19985</td>\n",
       "    </tr>\n",
       "    <tr>\n",
       "      <th>25</th>\n",
       "      <td>26 Rioja, La</td>\n",
       "      <td>322282</td>\n",
       "      <td>277946</td>\n",
       "      <td>44336</td>\n",
       "    </tr>\n",
       "    <tr>\n",
       "      <th>26</th>\n",
       "      <td>35 Palmas, Las</td>\n",
       "      <td>1145843</td>\n",
       "      <td>991714</td>\n",
       "      <td>154129</td>\n",
       "    </tr>\n",
       "    <tr>\n",
       "      <th>27</th>\n",
       "      <td>24 León</td>\n",
       "      <td>448573</td>\n",
       "      <td>425175</td>\n",
       "      <td>23398</td>\n",
       "    </tr>\n",
       "    <tr>\n",
       "      <th>28</th>\n",
       "      <td>25 Lleida</td>\n",
       "      <td>447343</td>\n",
       "      <td>358987</td>\n",
       "      <td>88356</td>\n",
       "    </tr>\n",
       "    <tr>\n",
       "      <th>29</th>\n",
       "      <td>27 Lugo</td>\n",
       "      <td>324267</td>\n",
       "      <td>304508</td>\n",
       "      <td>19759</td>\n",
       "    </tr>\n",
       "    <tr>\n",
       "      <th>30</th>\n",
       "      <td>28 Madrid</td>\n",
       "      <td>6871903</td>\n",
       "      <td>5830014</td>\n",
       "      <td>1041889</td>\n",
       "    </tr>\n",
       "    <tr>\n",
       "      <th>31</th>\n",
       "      <td>29 Málaga</td>\n",
       "      <td>1752728</td>\n",
       "      <td>1438368</td>\n",
       "      <td>314360</td>\n",
       "    </tr>\n",
       "    <tr>\n",
       "      <th>32</th>\n",
       "      <td>30 Murcia</td>\n",
       "      <td>1551692</td>\n",
       "      <td>1314926</td>\n",
       "      <td>236766</td>\n",
       "    </tr>\n",
       "    <tr>\n",
       "      <th>33</th>\n",
       "      <td>31 Navarra</td>\n",
       "      <td>672155</td>\n",
       "      <td>591214</td>\n",
       "      <td>80941</td>\n",
       "    </tr>\n",
       "    <tr>\n",
       "      <th>34</th>\n",
       "      <td>32 Ourense</td>\n",
       "      <td>304563</td>\n",
       "      <td>285080</td>\n",
       "      <td>19483</td>\n",
       "    </tr>\n",
       "    <tr>\n",
       "      <th>35</th>\n",
       "      <td>34 Palencia</td>\n",
       "      <td>157787</td>\n",
       "      <td>149206</td>\n",
       "      <td>8581</td>\n",
       "    </tr>\n",
       "    <tr>\n",
       "      <th>36</th>\n",
       "      <td>36 Pontevedra</td>\n",
       "      <td>946710</td>\n",
       "      <td>901782</td>\n",
       "      <td>44928</td>\n",
       "    </tr>\n",
       "    <tr>\n",
       "      <th>37</th>\n",
       "      <td>37 Salamanca</td>\n",
       "      <td>327089</td>\n",
       "      <td>308483</td>\n",
       "      <td>18606</td>\n",
       "    </tr>\n",
       "    <tr>\n",
       "      <th>38</th>\n",
       "      <td>38 Santa Cruz de Tenerife</td>\n",
       "      <td>1067173</td>\n",
       "      <td>906779</td>\n",
       "      <td>160394</td>\n",
       "    </tr>\n",
       "    <tr>\n",
       "      <th>39</th>\n",
       "      <td>40 Segovia</td>\n",
       "      <td>155332</td>\n",
       "      <td>135317</td>\n",
       "      <td>20015</td>\n",
       "    </tr>\n",
       "    <tr>\n",
       "      <th>40</th>\n",
       "      <td>41 Sevilla</td>\n",
       "      <td>1959394</td>\n",
       "      <td>1869197</td>\n",
       "      <td>90197</td>\n",
       "    </tr>\n",
       "    <tr>\n",
       "      <th>41</th>\n",
       "      <td>42 Soria</td>\n",
       "      <td>89528</td>\n",
       "      <td>79165</td>\n",
       "      <td>10363</td>\n",
       "    </tr>\n",
       "    <tr>\n",
       "      <th>42</th>\n",
       "      <td>43 Tarragona</td>\n",
       "      <td>848592</td>\n",
       "      <td>697156</td>\n",
       "      <td>151436</td>\n",
       "    </tr>\n",
       "    <tr>\n",
       "      <th>43</th>\n",
       "      <td>44 Teruel</td>\n",
       "      <td>135046</td>\n",
       "      <td>118354</td>\n",
       "      <td>16692</td>\n",
       "    </tr>\n",
       "    <tr>\n",
       "      <th>44</th>\n",
       "      <td>45 Toledo</td>\n",
       "      <td>731112</td>\n",
       "      <td>644114</td>\n",
       "      <td>86998</td>\n",
       "    </tr>\n",
       "    <tr>\n",
       "      <th>45</th>\n",
       "      <td>46 Valencia/València</td>\n",
       "      <td>2656841</td>\n",
       "      <td>2306155</td>\n",
       "      <td>350686</td>\n",
       "    </tr>\n",
       "    <tr>\n",
       "      <th>46</th>\n",
       "      <td>47 Valladolid</td>\n",
       "      <td>521333</td>\n",
       "      <td>487981</td>\n",
       "      <td>33352</td>\n",
       "    </tr>\n",
       "    <tr>\n",
       "      <th>47</th>\n",
       "      <td>48 Bizkaia</td>\n",
       "      <td>1153282</td>\n",
       "      <td>1054185</td>\n",
       "      <td>99097</td>\n",
       "    </tr>\n",
       "    <tr>\n",
       "      <th>48</th>\n",
       "      <td>49 Zamora</td>\n",
       "      <td>166927</td>\n",
       "      <td>159326</td>\n",
       "      <td>7601</td>\n",
       "    </tr>\n",
       "    <tr>\n",
       "      <th>49</th>\n",
       "      <td>50 Zaragoza</td>\n",
       "      <td>979365</td>\n",
       "      <td>846939</td>\n",
       "      <td>132426</td>\n",
       "    </tr>\n",
       "  </tbody>\n",
       "</table>\n",
       "</div>"
      ],
      "text/plain": [
       "                    Provincia    Total Española Extranjera\n",
       "0              01 Araba/Álava   336308   301302      35006\n",
       "1                 02 Albacete   387529   356856      30673\n",
       "2         03 Alicante/Alacant  1955268  1518766     436502\n",
       "3                  04 Almería   753364   583918     169446\n",
       "4                15 Coruña, A  1006060   952488      53572\n",
       "5                 33 Asturias  1123884  1068748      55136\n",
       "6                    05 Ávila   159764   146896      12868\n",
       "7                  06 Badajoz   666049   642287      23762\n",
       "8                08 Barcelona  5797356  4846649     950707\n",
       "9                   09 Burgos   357370   324220      33150\n",
       "10                 10 Cáceres   388257   372577      15680\n",
       "11                   11 Cádiz  1254866  1195185      59681\n",
       "12               39 Cantabria   588387   546676      41711\n",
       "13      12 Castellón/Castelló   604086   503118     100968\n",
       "14             13 Ciudad Real   491927   457054      34873\n",
       "15                 14 Córdoba   775002   748997      26005\n",
       "16                  16 Cuenca   198436   172214      26222\n",
       "17                  17 Girona   808672   637190     171482\n",
       "18                 18 Granada   934072   856467      77605\n",
       "19             19 Guadalajara   275082   233675      41407\n",
       "20                20 Gipuzkoa   726712   660601      66111\n",
       "21                  21 Huelva   534084   477639      56445\n",
       "22                  22 Huesca   226878   194952      31926\n",
       "23          07 Balears, Illes  1209906   962237     247669\n",
       "24                    23 Jaén   620637   600652      19985\n",
       "25               26 Rioja, La   322282   277946      44336\n",
       "26             35 Palmas, Las  1145843   991714     154129\n",
       "27                    24 León   448573   425175      23398\n",
       "28                  25 Lleida   447343   358987      88356\n",
       "29                    27 Lugo   324267   304508      19759\n",
       "30                  28 Madrid  6871903  5830014    1041889\n",
       "31                  29 Málaga  1752728  1438368     314360\n",
       "32                  30 Murcia  1551692  1314926     236766\n",
       "33                 31 Navarra   672155   591214      80941\n",
       "34                 32 Ourense   304563   285080      19483\n",
       "35                34 Palencia   157787   149206       8581\n",
       "36              36 Pontevedra   946710   901782      44928\n",
       "37               37 Salamanca   327089   308483      18606\n",
       "38  38 Santa Cruz de Tenerife  1067173   906779     160394\n",
       "39                 40 Segovia   155332   135317      20015\n",
       "40                 41 Sevilla  1959394  1869197      90197\n",
       "41                   42 Soria    89528    79165      10363\n",
       "42               43 Tarragona   848592   697156     151436\n",
       "43                  44 Teruel   135046   118354      16692\n",
       "44                  45 Toledo   731112   644114      86998\n",
       "45       46 Valencia/València  2656841  2306155     350686\n",
       "46              47 Valladolid   521333   487981      33352\n",
       "47                 48 Bizkaia  1153282  1054185      99097\n",
       "48                  49 Zamora   166927   159326       7601\n",
       "49                50 Zaragoza   979365   846939     132426"
      ]
     },
     "execution_count": 88,
     "metadata": {},
     "output_type": "execute_result"
    }
   ],
   "source": [
    "provincias_nuevas = ['01 Araba/Álava','02 Albacete','03 Alicante/Alacant','04 Almería','15 Coruña, A','33 Asturias','05 Ávila',\n",
    "         '06 Badajoz','08 Barcelona','09 Burgos',\n",
    "         '10 Cáceres','11 Cádiz','39 Cantabria','12 Castellón/Castelló','13 Ciudad Real','14 Córdoba','16 Cuenca',\n",
    "         '17 Girona','18 Granada','19 Guadalajara','20 Gipuzkoa',\n",
    "         '21 Huelva','22 Huesca',\n",
    "         '07 Balears, Illes',\n",
    "         '23 Jaén',\n",
    "         '26 Rioja, La','35 Palmas, Las','24 León','25 Lleida','27 Lugo',\n",
    "         '28 Madrid','29 Málaga','30 Murcia',\n",
    "         '31 Navarra',\n",
    "         '32 Ourense',\n",
    "         '34 Palencia','36 Pontevedra',\n",
    "         '37 Salamanca','38 Santa Cruz de Tenerife', '40 Segovia','41 Sevilla','42 Soria',\n",
    "         '43 Tarragona', '44 Teruel', '45 Toledo',\n",
    "         '46 Valencia/València','47 Valladolid','48 Bizkaia',\n",
    "         '49 Zamora','50 Zaragoza']\n",
    "# Reemplazar los valores de la columna 'provincia' con la lista de provincias\n",
    "poblacion_df['Provincia'] = provincias_nuevas\n",
    "poblacion_df = pd.DataFrame(poblacion_df)\n",
    "poblacion_df.head(50)"
   ]
  },
  {
   "cell_type": "code",
   "execution_count": 89,
   "metadata": {},
   "outputs": [
    {
     "data": {
      "text/html": [
       "<div>\n",
       "<style scoped>\n",
       "    .dataframe tbody tr th:only-of-type {\n",
       "        vertical-align: middle;\n",
       "    }\n",
       "\n",
       "    .dataframe tbody tr th {\n",
       "        vertical-align: top;\n",
       "    }\n",
       "\n",
       "    .dataframe thead th {\n",
       "        text-align: right;\n",
       "    }\n",
       "</style>\n",
       "<table border=\"1\" class=\"dataframe\">\n",
       "  <thead>\n",
       "    <tr style=\"text-align: right;\">\n",
       "      <th></th>\n",
       "      <th>Provincia</th>\n",
       "      <th>Latitud</th>\n",
       "      <th>Longitud</th>\n",
       "      <th>provincia</th>\n",
       "      <th>latitud</th>\n",
       "      <th>longitud</th>\n",
       "    </tr>\n",
       "  </thead>\n",
       "  <tbody>\n",
       "    <tr>\n",
       "      <th>0</th>\n",
       "      <td>Álava</td>\n",
       "      <td>42.8500</td>\n",
       "      <td>-2.6725</td>\n",
       "      <td>NaN</td>\n",
       "      <td>NaN</td>\n",
       "      <td>NaN</td>\n",
       "    </tr>\n",
       "    <tr>\n",
       "      <th>1</th>\n",
       "      <td>Albacete</td>\n",
       "      <td>38.9940</td>\n",
       "      <td>-1.8585</td>\n",
       "      <td>NaN</td>\n",
       "      <td>NaN</td>\n",
       "      <td>NaN</td>\n",
       "    </tr>\n",
       "    <tr>\n",
       "      <th>2</th>\n",
       "      <td>Alicante</td>\n",
       "      <td>38.3452</td>\n",
       "      <td>-0.4810</td>\n",
       "      <td>NaN</td>\n",
       "      <td>NaN</td>\n",
       "      <td>NaN</td>\n",
       "    </tr>\n",
       "    <tr>\n",
       "      <th>3</th>\n",
       "      <td>Almería</td>\n",
       "      <td>36.8340</td>\n",
       "      <td>-2.4637</td>\n",
       "      <td>NaN</td>\n",
       "      <td>NaN</td>\n",
       "      <td>NaN</td>\n",
       "    </tr>\n",
       "    <tr>\n",
       "      <th>4</th>\n",
       "      <td>Asturias</td>\n",
       "      <td>43.3610</td>\n",
       "      <td>-5.8494</td>\n",
       "      <td>NaN</td>\n",
       "      <td>NaN</td>\n",
       "      <td>NaN</td>\n",
       "    </tr>\n",
       "    <tr>\n",
       "      <th>5</th>\n",
       "      <td>NaN</td>\n",
       "      <td>NaN</td>\n",
       "      <td>NaN</td>\n",
       "      <td>A Coruña</td>\n",
       "      <td>43.3623</td>\n",
       "      <td>-8.4115</td>\n",
       "    </tr>\n",
       "    <tr>\n",
       "      <th>6</th>\n",
       "      <td>Ávila</td>\n",
       "      <td>40.6560</td>\n",
       "      <td>-4.6999</td>\n",
       "      <td>NaN</td>\n",
       "      <td>NaN</td>\n",
       "      <td>NaN</td>\n",
       "    </tr>\n",
       "    <tr>\n",
       "      <th>7</th>\n",
       "      <td>Badajoz</td>\n",
       "      <td>38.8795</td>\n",
       "      <td>-6.9707</td>\n",
       "      <td>NaN</td>\n",
       "      <td>NaN</td>\n",
       "      <td>NaN</td>\n",
       "    </tr>\n",
       "    <tr>\n",
       "      <th>8</th>\n",
       "      <td>Barcelona</td>\n",
       "      <td>41.3784</td>\n",
       "      <td>2.1926</td>\n",
       "      <td>NaN</td>\n",
       "      <td>NaN</td>\n",
       "      <td>NaN</td>\n",
       "    </tr>\n",
       "    <tr>\n",
       "      <th>9</th>\n",
       "      <td>Burgos</td>\n",
       "      <td>42.3400</td>\n",
       "      <td>-3.6997</td>\n",
       "      <td>NaN</td>\n",
       "      <td>NaN</td>\n",
       "      <td>NaN</td>\n",
       "    </tr>\n",
       "    <tr>\n",
       "      <th>10</th>\n",
       "      <td>Cáceres</td>\n",
       "      <td>39.4753</td>\n",
       "      <td>-6.3729</td>\n",
       "      <td>NaN</td>\n",
       "      <td>NaN</td>\n",
       "      <td>NaN</td>\n",
       "    </tr>\n",
       "    <tr>\n",
       "      <th>11</th>\n",
       "      <td>Cádiz</td>\n",
       "      <td>36.5297</td>\n",
       "      <td>-6.2919</td>\n",
       "      <td>NaN</td>\n",
       "      <td>NaN</td>\n",
       "      <td>NaN</td>\n",
       "    </tr>\n",
       "    <tr>\n",
       "      <th>12</th>\n",
       "      <td>Cantabria</td>\n",
       "      <td>43.4623</td>\n",
       "      <td>-3.8043</td>\n",
       "      <td>NaN</td>\n",
       "      <td>NaN</td>\n",
       "      <td>NaN</td>\n",
       "    </tr>\n",
       "    <tr>\n",
       "      <th>13</th>\n",
       "      <td>Castellón de la Plana</td>\n",
       "      <td>39.9834</td>\n",
       "      <td>-0.0330</td>\n",
       "      <td>NaN</td>\n",
       "      <td>NaN</td>\n",
       "      <td>NaN</td>\n",
       "    </tr>\n",
       "    <tr>\n",
       "      <th>14</th>\n",
       "      <td>Ciudad Real</td>\n",
       "      <td>38.9833</td>\n",
       "      <td>-3.9333</td>\n",
       "      <td>NaN</td>\n",
       "      <td>NaN</td>\n",
       "      <td>NaN</td>\n",
       "    </tr>\n",
       "    <tr>\n",
       "      <th>15</th>\n",
       "      <td>Córdoba</td>\n",
       "      <td>37.8882</td>\n",
       "      <td>-4.7794</td>\n",
       "      <td>NaN</td>\n",
       "      <td>NaN</td>\n",
       "      <td>NaN</td>\n",
       "    </tr>\n",
       "    <tr>\n",
       "      <th>16</th>\n",
       "      <td>Cuenca</td>\n",
       "      <td>40.0735</td>\n",
       "      <td>-2.1367</td>\n",
       "      <td>NaN</td>\n",
       "      <td>NaN</td>\n",
       "      <td>NaN</td>\n",
       "    </tr>\n",
       "    <tr>\n",
       "      <th>17</th>\n",
       "      <td>Gerona</td>\n",
       "      <td>41.9794</td>\n",
       "      <td>2.8213</td>\n",
       "      <td>NaN</td>\n",
       "      <td>NaN</td>\n",
       "      <td>NaN</td>\n",
       "    </tr>\n",
       "    <tr>\n",
       "      <th>18</th>\n",
       "      <td>Granada</td>\n",
       "      <td>37.1773</td>\n",
       "      <td>-3.5986</td>\n",
       "      <td>NaN</td>\n",
       "      <td>NaN</td>\n",
       "      <td>NaN</td>\n",
       "    </tr>\n",
       "    <tr>\n",
       "      <th>19</th>\n",
       "      <td>Guadalajara</td>\n",
       "      <td>40.6333</td>\n",
       "      <td>-3.1667</td>\n",
       "      <td>NaN</td>\n",
       "      <td>NaN</td>\n",
       "      <td>NaN</td>\n",
       "    </tr>\n",
       "    <tr>\n",
       "      <th>20</th>\n",
       "      <td>Gipuzkoa</td>\n",
       "      <td>43.3183</td>\n",
       "      <td>-2.9340</td>\n",
       "      <td>NaN</td>\n",
       "      <td>NaN</td>\n",
       "      <td>NaN</td>\n",
       "    </tr>\n",
       "    <tr>\n",
       "      <th>21</th>\n",
       "      <td>Huelva</td>\n",
       "      <td>37.2617</td>\n",
       "      <td>-6.9447</td>\n",
       "      <td>NaN</td>\n",
       "      <td>NaN</td>\n",
       "      <td>NaN</td>\n",
       "    </tr>\n",
       "    <tr>\n",
       "      <th>22</th>\n",
       "      <td>Huesca</td>\n",
       "      <td>42.1401</td>\n",
       "      <td>-0.4080</td>\n",
       "      <td>NaN</td>\n",
       "      <td>NaN</td>\n",
       "      <td>NaN</td>\n",
       "    </tr>\n",
       "    <tr>\n",
       "      <th>23</th>\n",
       "      <td>Islas Baleares</td>\n",
       "      <td>39.5696</td>\n",
       "      <td>2.6502</td>\n",
       "      <td>NaN</td>\n",
       "      <td>NaN</td>\n",
       "      <td>NaN</td>\n",
       "    </tr>\n",
       "    <tr>\n",
       "      <th>24</th>\n",
       "      <td>Jaén</td>\n",
       "      <td>37.7799</td>\n",
       "      <td>-3.7794</td>\n",
       "      <td>NaN</td>\n",
       "      <td>NaN</td>\n",
       "      <td>NaN</td>\n",
       "    </tr>\n",
       "    <tr>\n",
       "      <th>25</th>\n",
       "      <td>La Rioja</td>\n",
       "      <td>42.4687</td>\n",
       "      <td>-2.4448</td>\n",
       "      <td>NaN</td>\n",
       "      <td>NaN</td>\n",
       "      <td>NaN</td>\n",
       "    </tr>\n",
       "    <tr>\n",
       "      <th>26</th>\n",
       "      <td>Las Palmas</td>\n",
       "      <td>28.1235</td>\n",
       "      <td>-15.4367</td>\n",
       "      <td>NaN</td>\n",
       "      <td>NaN</td>\n",
       "      <td>NaN</td>\n",
       "    </tr>\n",
       "    <tr>\n",
       "      <th>27</th>\n",
       "      <td>León</td>\n",
       "      <td>42.5987</td>\n",
       "      <td>-3.5670</td>\n",
       "      <td>NaN</td>\n",
       "      <td>NaN</td>\n",
       "      <td>NaN</td>\n",
       "    </tr>\n",
       "    <tr>\n",
       "      <th>28</th>\n",
       "      <td>Lleida</td>\n",
       "      <td>41.6177</td>\n",
       "      <td>0.6226</td>\n",
       "      <td>NaN</td>\n",
       "      <td>NaN</td>\n",
       "      <td>NaN</td>\n",
       "    </tr>\n",
       "    <tr>\n",
       "      <th>29</th>\n",
       "      <td>Lugo</td>\n",
       "      <td>43.0027</td>\n",
       "      <td>-7.5584</td>\n",
       "      <td>NaN</td>\n",
       "      <td>NaN</td>\n",
       "      <td>NaN</td>\n",
       "    </tr>\n",
       "    <tr>\n",
       "      <th>30</th>\n",
       "      <td>Madrid</td>\n",
       "      <td>40.4168</td>\n",
       "      <td>-3.7038</td>\n",
       "      <td>NaN</td>\n",
       "      <td>NaN</td>\n",
       "      <td>NaN</td>\n",
       "    </tr>\n",
       "    <tr>\n",
       "      <th>31</th>\n",
       "      <td>Málaga</td>\n",
       "      <td>36.7213</td>\n",
       "      <td>-4.4216</td>\n",
       "      <td>NaN</td>\n",
       "      <td>NaN</td>\n",
       "      <td>NaN</td>\n",
       "    </tr>\n",
       "    <tr>\n",
       "      <th>32</th>\n",
       "      <td>Murcia</td>\n",
       "      <td>37.9835</td>\n",
       "      <td>-1.1296</td>\n",
       "      <td>NaN</td>\n",
       "      <td>NaN</td>\n",
       "      <td>NaN</td>\n",
       "    </tr>\n",
       "    <tr>\n",
       "      <th>33</th>\n",
       "      <td>Navarra</td>\n",
       "      <td>42.8125</td>\n",
       "      <td>-1.6458</td>\n",
       "      <td>NaN</td>\n",
       "      <td>NaN</td>\n",
       "      <td>NaN</td>\n",
       "    </tr>\n",
       "    <tr>\n",
       "      <th>34</th>\n",
       "      <td>Ourense</td>\n",
       "      <td>42.3358</td>\n",
       "      <td>-7.8633</td>\n",
       "      <td>NaN</td>\n",
       "      <td>NaN</td>\n",
       "      <td>NaN</td>\n",
       "    </tr>\n",
       "    <tr>\n",
       "      <th>35</th>\n",
       "      <td>Palencia</td>\n",
       "      <td>42.0080</td>\n",
       "      <td>-4.5235</td>\n",
       "      <td>NaN</td>\n",
       "      <td>NaN</td>\n",
       "      <td>NaN</td>\n",
       "    </tr>\n",
       "    <tr>\n",
       "      <th>36</th>\n",
       "      <td>Pontevedra</td>\n",
       "      <td>42.4385</td>\n",
       "      <td>-8.6445</td>\n",
       "      <td>NaN</td>\n",
       "      <td>NaN</td>\n",
       "      <td>NaN</td>\n",
       "    </tr>\n",
       "    <tr>\n",
       "      <th>37</th>\n",
       "      <td>Salamanca</td>\n",
       "      <td>40.9704</td>\n",
       "      <td>-5.6635</td>\n",
       "      <td>NaN</td>\n",
       "      <td>NaN</td>\n",
       "      <td>NaN</td>\n",
       "    </tr>\n",
       "    <tr>\n",
       "      <th>38</th>\n",
       "      <td>Santa Cruz de Tenerife</td>\n",
       "      <td>28.4636</td>\n",
       "      <td>-16.2519</td>\n",
       "      <td>NaN</td>\n",
       "      <td>NaN</td>\n",
       "      <td>NaN</td>\n",
       "    </tr>\n",
       "    <tr>\n",
       "      <th>39</th>\n",
       "      <td>Segovia</td>\n",
       "      <td>40.9481</td>\n",
       "      <td>-4.1075</td>\n",
       "      <td>NaN</td>\n",
       "      <td>NaN</td>\n",
       "      <td>NaN</td>\n",
       "    </tr>\n",
       "    <tr>\n",
       "      <th>40</th>\n",
       "      <td>Sevilla</td>\n",
       "      <td>37.3886</td>\n",
       "      <td>-5.9823</td>\n",
       "      <td>NaN</td>\n",
       "      <td>NaN</td>\n",
       "      <td>NaN</td>\n",
       "    </tr>\n",
       "    <tr>\n",
       "      <th>41</th>\n",
       "      <td>Soria</td>\n",
       "      <td>41.7632</td>\n",
       "      <td>-2.4676</td>\n",
       "      <td>NaN</td>\n",
       "      <td>NaN</td>\n",
       "      <td>NaN</td>\n",
       "    </tr>\n",
       "    <tr>\n",
       "      <th>42</th>\n",
       "      <td>Tarragona</td>\n",
       "      <td>41.1189</td>\n",
       "      <td>-1.9812</td>\n",
       "      <td>NaN</td>\n",
       "      <td>NaN</td>\n",
       "      <td>NaN</td>\n",
       "    </tr>\n",
       "    <tr>\n",
       "      <th>43</th>\n",
       "      <td>Teruel</td>\n",
       "      <td>40.3451</td>\n",
       "      <td>-1.1063</td>\n",
       "      <td>NaN</td>\n",
       "      <td>NaN</td>\n",
       "      <td>NaN</td>\n",
       "    </tr>\n",
       "    <tr>\n",
       "      <th>44</th>\n",
       "      <td>Toledo</td>\n",
       "      <td>39.8628</td>\n",
       "      <td>-4.0273</td>\n",
       "      <td>NaN</td>\n",
       "      <td>NaN</td>\n",
       "      <td>NaN</td>\n",
       "    </tr>\n",
       "    <tr>\n",
       "      <th>45</th>\n",
       "      <td>Valencia</td>\n",
       "      <td>39.4699</td>\n",
       "      <td>-0.3763</td>\n",
       "      <td>NaN</td>\n",
       "      <td>NaN</td>\n",
       "      <td>NaN</td>\n",
       "    </tr>\n",
       "    <tr>\n",
       "      <th>46</th>\n",
       "      <td>Valladolid</td>\n",
       "      <td>41.6523</td>\n",
       "      <td>-4.7245</td>\n",
       "      <td>NaN</td>\n",
       "      <td>NaN</td>\n",
       "      <td>NaN</td>\n",
       "    </tr>\n",
       "    <tr>\n",
       "      <th>47</th>\n",
       "      <td>Vizcaya</td>\n",
       "      <td>43.2630</td>\n",
       "      <td>-2.9340</td>\n",
       "      <td>NaN</td>\n",
       "      <td>NaN</td>\n",
       "      <td>NaN</td>\n",
       "    </tr>\n",
       "    <tr>\n",
       "      <th>48</th>\n",
       "      <td>Zamora</td>\n",
       "      <td>41.5037</td>\n",
       "      <td>-5.7498</td>\n",
       "      <td>NaN</td>\n",
       "      <td>NaN</td>\n",
       "      <td>NaN</td>\n",
       "    </tr>\n",
       "    <tr>\n",
       "      <th>49</th>\n",
       "      <td>Zaragoza</td>\n",
       "      <td>41.6488</td>\n",
       "      <td>-0.8891</td>\n",
       "      <td>NaN</td>\n",
       "      <td>NaN</td>\n",
       "      <td>NaN</td>\n",
       "    </tr>\n",
       "  </tbody>\n",
       "</table>\n",
       "</div>"
      ],
      "text/plain": [
       "                 Provincia  Latitud  Longitud provincia  latitud  longitud\n",
       "0                    Álava  42.8500   -2.6725       NaN      NaN       NaN\n",
       "1                 Albacete  38.9940   -1.8585       NaN      NaN       NaN\n",
       "2                 Alicante  38.3452   -0.4810       NaN      NaN       NaN\n",
       "3                  Almería  36.8340   -2.4637       NaN      NaN       NaN\n",
       "4                 Asturias  43.3610   -5.8494       NaN      NaN       NaN\n",
       "5                      NaN      NaN       NaN  A Coruña  43.3623   -8.4115\n",
       "6                    Ávila  40.6560   -4.6999       NaN      NaN       NaN\n",
       "7                  Badajoz  38.8795   -6.9707       NaN      NaN       NaN\n",
       "8                Barcelona  41.3784    2.1926       NaN      NaN       NaN\n",
       "9                   Burgos  42.3400   -3.6997       NaN      NaN       NaN\n",
       "10                 Cáceres  39.4753   -6.3729       NaN      NaN       NaN\n",
       "11                   Cádiz  36.5297   -6.2919       NaN      NaN       NaN\n",
       "12               Cantabria  43.4623   -3.8043       NaN      NaN       NaN\n",
       "13   Castellón de la Plana  39.9834   -0.0330       NaN      NaN       NaN\n",
       "14             Ciudad Real  38.9833   -3.9333       NaN      NaN       NaN\n",
       "15                 Córdoba  37.8882   -4.7794       NaN      NaN       NaN\n",
       "16                  Cuenca  40.0735   -2.1367       NaN      NaN       NaN\n",
       "17                  Gerona  41.9794    2.8213       NaN      NaN       NaN\n",
       "18                 Granada  37.1773   -3.5986       NaN      NaN       NaN\n",
       "19             Guadalajara  40.6333   -3.1667       NaN      NaN       NaN\n",
       "20                Gipuzkoa  43.3183   -2.9340       NaN      NaN       NaN\n",
       "21                  Huelva  37.2617   -6.9447       NaN      NaN       NaN\n",
       "22                  Huesca  42.1401   -0.4080       NaN      NaN       NaN\n",
       "23          Islas Baleares  39.5696    2.6502       NaN      NaN       NaN\n",
       "24                    Jaén  37.7799   -3.7794       NaN      NaN       NaN\n",
       "25                La Rioja  42.4687   -2.4448       NaN      NaN       NaN\n",
       "26              Las Palmas  28.1235  -15.4367       NaN      NaN       NaN\n",
       "27                    León  42.5987   -3.5670       NaN      NaN       NaN\n",
       "28                  Lleida  41.6177    0.6226       NaN      NaN       NaN\n",
       "29                    Lugo  43.0027   -7.5584       NaN      NaN       NaN\n",
       "30                  Madrid  40.4168   -3.7038       NaN      NaN       NaN\n",
       "31                  Málaga  36.7213   -4.4216       NaN      NaN       NaN\n",
       "32                  Murcia  37.9835   -1.1296       NaN      NaN       NaN\n",
       "33                 Navarra  42.8125   -1.6458       NaN      NaN       NaN\n",
       "34                 Ourense  42.3358   -7.8633       NaN      NaN       NaN\n",
       "35                Palencia  42.0080   -4.5235       NaN      NaN       NaN\n",
       "36              Pontevedra  42.4385   -8.6445       NaN      NaN       NaN\n",
       "37               Salamanca  40.9704   -5.6635       NaN      NaN       NaN\n",
       "38  Santa Cruz de Tenerife  28.4636  -16.2519       NaN      NaN       NaN\n",
       "39                 Segovia  40.9481   -4.1075       NaN      NaN       NaN\n",
       "40                 Sevilla  37.3886   -5.9823       NaN      NaN       NaN\n",
       "41                   Soria  41.7632   -2.4676       NaN      NaN       NaN\n",
       "42               Tarragona  41.1189   -1.9812       NaN      NaN       NaN\n",
       "43                  Teruel  40.3451   -1.1063       NaN      NaN       NaN\n",
       "44                  Toledo  39.8628   -4.0273       NaN      NaN       NaN\n",
       "45                Valencia  39.4699   -0.3763       NaN      NaN       NaN\n",
       "46              Valladolid  41.6523   -4.7245       NaN      NaN       NaN\n",
       "47                 Vizcaya  43.2630   -2.9340       NaN      NaN       NaN\n",
       "48                  Zamora  41.5037   -5.7498       NaN      NaN       NaN\n",
       "49                Zaragoza  41.6488   -0.8891       NaN      NaN       NaN"
      ]
     },
     "execution_count": 89,
     "metadata": {},
     "output_type": "execute_result"
    }
   ],
   "source": [
    "df_provincias = pd.read_csv(\"provincias_actualizado.csv\")  # Base de datos de coordenadas\n",
    "df_provincias = pd.DataFrame(df_provincias)\n",
    "df_provincias.head(50)\n",
    "\n",
    "\n"
   ]
  },
  {
   "cell_type": "code",
   "execution_count": 90,
   "metadata": {},
   "outputs": [
    {
     "data": {
      "text/html": [
       "<div>\n",
       "<style scoped>\n",
       "    .dataframe tbody tr th:only-of-type {\n",
       "        vertical-align: middle;\n",
       "    }\n",
       "\n",
       "    .dataframe tbody tr th {\n",
       "        vertical-align: top;\n",
       "    }\n",
       "\n",
       "    .dataframe thead th {\n",
       "        text-align: right;\n",
       "    }\n",
       "</style>\n",
       "<table border=\"1\" class=\"dataframe\">\n",
       "  <thead>\n",
       "    <tr style=\"text-align: right;\">\n",
       "      <th></th>\n",
       "      <th>Provincia</th>\n",
       "      <th>Latitud</th>\n",
       "      <th>Longitud</th>\n",
       "    </tr>\n",
       "  </thead>\n",
       "  <tbody>\n",
       "    <tr>\n",
       "      <th>0</th>\n",
       "      <td>Álava</td>\n",
       "      <td>42.8500</td>\n",
       "      <td>-2.6725</td>\n",
       "    </tr>\n",
       "    <tr>\n",
       "      <th>1</th>\n",
       "      <td>Albacete</td>\n",
       "      <td>38.9940</td>\n",
       "      <td>-1.8585</td>\n",
       "    </tr>\n",
       "    <tr>\n",
       "      <th>2</th>\n",
       "      <td>Alicante</td>\n",
       "      <td>38.3452</td>\n",
       "      <td>-0.4810</td>\n",
       "    </tr>\n",
       "    <tr>\n",
       "      <th>3</th>\n",
       "      <td>Almería</td>\n",
       "      <td>36.8340</td>\n",
       "      <td>-2.4637</td>\n",
       "    </tr>\n",
       "    <tr>\n",
       "      <th>4</th>\n",
       "      <td>Asturias</td>\n",
       "      <td>43.3610</td>\n",
       "      <td>-5.8494</td>\n",
       "    </tr>\n",
       "    <tr>\n",
       "      <th>5</th>\n",
       "      <td>A Coruña</td>\n",
       "      <td>43.3623</td>\n",
       "      <td>-8.4115</td>\n",
       "    </tr>\n",
       "    <tr>\n",
       "      <th>6</th>\n",
       "      <td>Ávila</td>\n",
       "      <td>40.6560</td>\n",
       "      <td>-4.6999</td>\n",
       "    </tr>\n",
       "    <tr>\n",
       "      <th>7</th>\n",
       "      <td>Badajoz</td>\n",
       "      <td>38.8795</td>\n",
       "      <td>-6.9707</td>\n",
       "    </tr>\n",
       "    <tr>\n",
       "      <th>8</th>\n",
       "      <td>Barcelona</td>\n",
       "      <td>41.3784</td>\n",
       "      <td>2.1926</td>\n",
       "    </tr>\n",
       "    <tr>\n",
       "      <th>9</th>\n",
       "      <td>Burgos</td>\n",
       "      <td>42.3400</td>\n",
       "      <td>-3.6997</td>\n",
       "    </tr>\n",
       "    <tr>\n",
       "      <th>10</th>\n",
       "      <td>Cáceres</td>\n",
       "      <td>39.4753</td>\n",
       "      <td>-6.3729</td>\n",
       "    </tr>\n",
       "    <tr>\n",
       "      <th>11</th>\n",
       "      <td>Cádiz</td>\n",
       "      <td>36.5297</td>\n",
       "      <td>-6.2919</td>\n",
       "    </tr>\n",
       "    <tr>\n",
       "      <th>12</th>\n",
       "      <td>Cantabria</td>\n",
       "      <td>43.4623</td>\n",
       "      <td>-3.8043</td>\n",
       "    </tr>\n",
       "    <tr>\n",
       "      <th>13</th>\n",
       "      <td>Castellón de la Plana</td>\n",
       "      <td>39.9834</td>\n",
       "      <td>-0.0330</td>\n",
       "    </tr>\n",
       "    <tr>\n",
       "      <th>14</th>\n",
       "      <td>Ciudad Real</td>\n",
       "      <td>38.9833</td>\n",
       "      <td>-3.9333</td>\n",
       "    </tr>\n",
       "    <tr>\n",
       "      <th>15</th>\n",
       "      <td>Córdoba</td>\n",
       "      <td>37.8882</td>\n",
       "      <td>-4.7794</td>\n",
       "    </tr>\n",
       "    <tr>\n",
       "      <th>16</th>\n",
       "      <td>Cuenca</td>\n",
       "      <td>40.0735</td>\n",
       "      <td>-2.1367</td>\n",
       "    </tr>\n",
       "    <tr>\n",
       "      <th>17</th>\n",
       "      <td>Gerona</td>\n",
       "      <td>41.9794</td>\n",
       "      <td>2.8213</td>\n",
       "    </tr>\n",
       "    <tr>\n",
       "      <th>18</th>\n",
       "      <td>Granada</td>\n",
       "      <td>37.1773</td>\n",
       "      <td>-3.5986</td>\n",
       "    </tr>\n",
       "    <tr>\n",
       "      <th>19</th>\n",
       "      <td>Guadalajara</td>\n",
       "      <td>40.6333</td>\n",
       "      <td>-3.1667</td>\n",
       "    </tr>\n",
       "    <tr>\n",
       "      <th>20</th>\n",
       "      <td>Gipuzkoa</td>\n",
       "      <td>43.3183</td>\n",
       "      <td>-2.9340</td>\n",
       "    </tr>\n",
       "    <tr>\n",
       "      <th>21</th>\n",
       "      <td>Huelva</td>\n",
       "      <td>37.2617</td>\n",
       "      <td>-6.9447</td>\n",
       "    </tr>\n",
       "    <tr>\n",
       "      <th>22</th>\n",
       "      <td>Huesca</td>\n",
       "      <td>42.1401</td>\n",
       "      <td>-0.4080</td>\n",
       "    </tr>\n",
       "    <tr>\n",
       "      <th>23</th>\n",
       "      <td>Islas Baleares</td>\n",
       "      <td>39.5696</td>\n",
       "      <td>2.6502</td>\n",
       "    </tr>\n",
       "    <tr>\n",
       "      <th>24</th>\n",
       "      <td>Jaén</td>\n",
       "      <td>37.7799</td>\n",
       "      <td>-3.7794</td>\n",
       "    </tr>\n",
       "    <tr>\n",
       "      <th>25</th>\n",
       "      <td>La Rioja</td>\n",
       "      <td>42.4687</td>\n",
       "      <td>-2.4448</td>\n",
       "    </tr>\n",
       "    <tr>\n",
       "      <th>26</th>\n",
       "      <td>Las Palmas</td>\n",
       "      <td>28.1235</td>\n",
       "      <td>-15.4367</td>\n",
       "    </tr>\n",
       "    <tr>\n",
       "      <th>27</th>\n",
       "      <td>León</td>\n",
       "      <td>42.5987</td>\n",
       "      <td>-3.5670</td>\n",
       "    </tr>\n",
       "    <tr>\n",
       "      <th>28</th>\n",
       "      <td>Lleida</td>\n",
       "      <td>41.6177</td>\n",
       "      <td>0.6226</td>\n",
       "    </tr>\n",
       "    <tr>\n",
       "      <th>29</th>\n",
       "      <td>Lugo</td>\n",
       "      <td>43.0027</td>\n",
       "      <td>-7.5584</td>\n",
       "    </tr>\n",
       "    <tr>\n",
       "      <th>30</th>\n",
       "      <td>Madrid</td>\n",
       "      <td>40.4168</td>\n",
       "      <td>-3.7038</td>\n",
       "    </tr>\n",
       "    <tr>\n",
       "      <th>31</th>\n",
       "      <td>Málaga</td>\n",
       "      <td>36.7213</td>\n",
       "      <td>-4.4216</td>\n",
       "    </tr>\n",
       "    <tr>\n",
       "      <th>32</th>\n",
       "      <td>Murcia</td>\n",
       "      <td>37.9835</td>\n",
       "      <td>-1.1296</td>\n",
       "    </tr>\n",
       "    <tr>\n",
       "      <th>33</th>\n",
       "      <td>Navarra</td>\n",
       "      <td>42.8125</td>\n",
       "      <td>-1.6458</td>\n",
       "    </tr>\n",
       "    <tr>\n",
       "      <th>34</th>\n",
       "      <td>Ourense</td>\n",
       "      <td>42.3358</td>\n",
       "      <td>-7.8633</td>\n",
       "    </tr>\n",
       "    <tr>\n",
       "      <th>35</th>\n",
       "      <td>Palencia</td>\n",
       "      <td>42.0080</td>\n",
       "      <td>-4.5235</td>\n",
       "    </tr>\n",
       "    <tr>\n",
       "      <th>36</th>\n",
       "      <td>Pontevedra</td>\n",
       "      <td>42.4385</td>\n",
       "      <td>-8.6445</td>\n",
       "    </tr>\n",
       "    <tr>\n",
       "      <th>37</th>\n",
       "      <td>Salamanca</td>\n",
       "      <td>40.9704</td>\n",
       "      <td>-5.6635</td>\n",
       "    </tr>\n",
       "    <tr>\n",
       "      <th>38</th>\n",
       "      <td>Santa Cruz de Tenerife</td>\n",
       "      <td>28.4636</td>\n",
       "      <td>-16.2519</td>\n",
       "    </tr>\n",
       "    <tr>\n",
       "      <th>39</th>\n",
       "      <td>Segovia</td>\n",
       "      <td>40.9481</td>\n",
       "      <td>-4.1075</td>\n",
       "    </tr>\n",
       "    <tr>\n",
       "      <th>40</th>\n",
       "      <td>Sevilla</td>\n",
       "      <td>37.3886</td>\n",
       "      <td>-5.9823</td>\n",
       "    </tr>\n",
       "    <tr>\n",
       "      <th>41</th>\n",
       "      <td>Soria</td>\n",
       "      <td>41.7632</td>\n",
       "      <td>-2.4676</td>\n",
       "    </tr>\n",
       "    <tr>\n",
       "      <th>42</th>\n",
       "      <td>Tarragona</td>\n",
       "      <td>41.1189</td>\n",
       "      <td>-1.9812</td>\n",
       "    </tr>\n",
       "    <tr>\n",
       "      <th>43</th>\n",
       "      <td>Teruel</td>\n",
       "      <td>40.3451</td>\n",
       "      <td>-1.1063</td>\n",
       "    </tr>\n",
       "    <tr>\n",
       "      <th>44</th>\n",
       "      <td>Toledo</td>\n",
       "      <td>39.8628</td>\n",
       "      <td>-4.0273</td>\n",
       "    </tr>\n",
       "    <tr>\n",
       "      <th>45</th>\n",
       "      <td>Valencia</td>\n",
       "      <td>39.4699</td>\n",
       "      <td>-0.3763</td>\n",
       "    </tr>\n",
       "    <tr>\n",
       "      <th>46</th>\n",
       "      <td>Valladolid</td>\n",
       "      <td>41.6523</td>\n",
       "      <td>-4.7245</td>\n",
       "    </tr>\n",
       "    <tr>\n",
       "      <th>47</th>\n",
       "      <td>Vizcaya</td>\n",
       "      <td>43.2630</td>\n",
       "      <td>-2.9340</td>\n",
       "    </tr>\n",
       "    <tr>\n",
       "      <th>48</th>\n",
       "      <td>Zamora</td>\n",
       "      <td>41.5037</td>\n",
       "      <td>-5.7498</td>\n",
       "    </tr>\n",
       "    <tr>\n",
       "      <th>49</th>\n",
       "      <td>Zaragoza</td>\n",
       "      <td>41.6488</td>\n",
       "      <td>-0.8891</td>\n",
       "    </tr>\n",
       "  </tbody>\n",
       "</table>\n",
       "</div>"
      ],
      "text/plain": [
       "                 Provincia  Latitud  Longitud\n",
       "0                    Álava  42.8500   -2.6725\n",
       "1                 Albacete  38.9940   -1.8585\n",
       "2                 Alicante  38.3452   -0.4810\n",
       "3                  Almería  36.8340   -2.4637\n",
       "4                 Asturias  43.3610   -5.8494\n",
       "5                 A Coruña  43.3623   -8.4115\n",
       "6                    Ávila  40.6560   -4.6999\n",
       "7                  Badajoz  38.8795   -6.9707\n",
       "8                Barcelona  41.3784    2.1926\n",
       "9                   Burgos  42.3400   -3.6997\n",
       "10                 Cáceres  39.4753   -6.3729\n",
       "11                   Cádiz  36.5297   -6.2919\n",
       "12               Cantabria  43.4623   -3.8043\n",
       "13   Castellón de la Plana  39.9834   -0.0330\n",
       "14             Ciudad Real  38.9833   -3.9333\n",
       "15                 Córdoba  37.8882   -4.7794\n",
       "16                  Cuenca  40.0735   -2.1367\n",
       "17                  Gerona  41.9794    2.8213\n",
       "18                 Granada  37.1773   -3.5986\n",
       "19             Guadalajara  40.6333   -3.1667\n",
       "20                Gipuzkoa  43.3183   -2.9340\n",
       "21                  Huelva  37.2617   -6.9447\n",
       "22                  Huesca  42.1401   -0.4080\n",
       "23          Islas Baleares  39.5696    2.6502\n",
       "24                    Jaén  37.7799   -3.7794\n",
       "25                La Rioja  42.4687   -2.4448\n",
       "26              Las Palmas  28.1235  -15.4367\n",
       "27                    León  42.5987   -3.5670\n",
       "28                  Lleida  41.6177    0.6226\n",
       "29                    Lugo  43.0027   -7.5584\n",
       "30                  Madrid  40.4168   -3.7038\n",
       "31                  Málaga  36.7213   -4.4216\n",
       "32                  Murcia  37.9835   -1.1296\n",
       "33                 Navarra  42.8125   -1.6458\n",
       "34                 Ourense  42.3358   -7.8633\n",
       "35                Palencia  42.0080   -4.5235\n",
       "36              Pontevedra  42.4385   -8.6445\n",
       "37               Salamanca  40.9704   -5.6635\n",
       "38  Santa Cruz de Tenerife  28.4636  -16.2519\n",
       "39                 Segovia  40.9481   -4.1075\n",
       "40                 Sevilla  37.3886   -5.9823\n",
       "41                   Soria  41.7632   -2.4676\n",
       "42               Tarragona  41.1189   -1.9812\n",
       "43                  Teruel  40.3451   -1.1063\n",
       "44                  Toledo  39.8628   -4.0273\n",
       "45                Valencia  39.4699   -0.3763\n",
       "46              Valladolid  41.6523   -4.7245\n",
       "47                 Vizcaya  43.2630   -2.9340\n",
       "48                  Zamora  41.5037   -5.7498\n",
       "49                Zaragoza  41.6488   -0.8891"
      ]
     },
     "execution_count": 90,
     "metadata": {},
     "output_type": "execute_result"
    }
   ],
   "source": [
    "\n",
    "df_provincias.iloc[5, 0:3] = df_provincias.iloc[5, 3:6].values\n",
    "# Mantener todas las columnas excepto las últimas 3\n",
    "df_provincias = df_provincias.iloc[:, :-3]\n",
    "df_provincias.head(50)\n"
   ]
  },
  {
   "cell_type": "code",
   "execution_count": 91,
   "metadata": {},
   "outputs": [
    {
     "data": {
      "text/html": [
       "<div>\n",
       "<style scoped>\n",
       "    .dataframe tbody tr th:only-of-type {\n",
       "        vertical-align: middle;\n",
       "    }\n",
       "\n",
       "    .dataframe tbody tr th {\n",
       "        vertical-align: top;\n",
       "    }\n",
       "\n",
       "    .dataframe thead th {\n",
       "        text-align: right;\n",
       "    }\n",
       "</style>\n",
       "<table border=\"1\" class=\"dataframe\">\n",
       "  <thead>\n",
       "    <tr style=\"text-align: right;\">\n",
       "      <th></th>\n",
       "      <th>Provincia</th>\n",
       "      <th>Latitud</th>\n",
       "      <th>Longitud</th>\n",
       "    </tr>\n",
       "  </thead>\n",
       "  <tbody>\n",
       "    <tr>\n",
       "      <th>0</th>\n",
       "      <td>01 Araba/Álava</td>\n",
       "      <td>42.8500</td>\n",
       "      <td>-2.6725</td>\n",
       "    </tr>\n",
       "    <tr>\n",
       "      <th>1</th>\n",
       "      <td>02 Albacete</td>\n",
       "      <td>38.9940</td>\n",
       "      <td>-1.8585</td>\n",
       "    </tr>\n",
       "    <tr>\n",
       "      <th>2</th>\n",
       "      <td>03 Alicante/Alacant</td>\n",
       "      <td>38.3452</td>\n",
       "      <td>-0.4810</td>\n",
       "    </tr>\n",
       "    <tr>\n",
       "      <th>3</th>\n",
       "      <td>04 Almería</td>\n",
       "      <td>36.8340</td>\n",
       "      <td>-2.4637</td>\n",
       "    </tr>\n",
       "    <tr>\n",
       "      <th>4</th>\n",
       "      <td>15 Coruña, A</td>\n",
       "      <td>43.3610</td>\n",
       "      <td>-5.8494</td>\n",
       "    </tr>\n",
       "    <tr>\n",
       "      <th>5</th>\n",
       "      <td>33 Asturias</td>\n",
       "      <td>43.3623</td>\n",
       "      <td>-8.4115</td>\n",
       "    </tr>\n",
       "    <tr>\n",
       "      <th>6</th>\n",
       "      <td>05 Ávila</td>\n",
       "      <td>40.6560</td>\n",
       "      <td>-4.6999</td>\n",
       "    </tr>\n",
       "    <tr>\n",
       "      <th>7</th>\n",
       "      <td>06 Badajoz</td>\n",
       "      <td>38.8795</td>\n",
       "      <td>-6.9707</td>\n",
       "    </tr>\n",
       "    <tr>\n",
       "      <th>8</th>\n",
       "      <td>08 Barcelona</td>\n",
       "      <td>41.3784</td>\n",
       "      <td>2.1926</td>\n",
       "    </tr>\n",
       "    <tr>\n",
       "      <th>9</th>\n",
       "      <td>09 Burgos</td>\n",
       "      <td>42.3400</td>\n",
       "      <td>-3.6997</td>\n",
       "    </tr>\n",
       "    <tr>\n",
       "      <th>10</th>\n",
       "      <td>10 Cáceres</td>\n",
       "      <td>39.4753</td>\n",
       "      <td>-6.3729</td>\n",
       "    </tr>\n",
       "    <tr>\n",
       "      <th>11</th>\n",
       "      <td>11 Cádiz</td>\n",
       "      <td>36.5297</td>\n",
       "      <td>-6.2919</td>\n",
       "    </tr>\n",
       "    <tr>\n",
       "      <th>12</th>\n",
       "      <td>39 Cantabria</td>\n",
       "      <td>43.4623</td>\n",
       "      <td>-3.8043</td>\n",
       "    </tr>\n",
       "    <tr>\n",
       "      <th>13</th>\n",
       "      <td>12 Castellón/Castelló</td>\n",
       "      <td>39.9834</td>\n",
       "      <td>-0.0330</td>\n",
       "    </tr>\n",
       "    <tr>\n",
       "      <th>14</th>\n",
       "      <td>13 Ciudad Real</td>\n",
       "      <td>38.9833</td>\n",
       "      <td>-3.9333</td>\n",
       "    </tr>\n",
       "    <tr>\n",
       "      <th>15</th>\n",
       "      <td>14 Córdoba</td>\n",
       "      <td>37.8882</td>\n",
       "      <td>-4.7794</td>\n",
       "    </tr>\n",
       "    <tr>\n",
       "      <th>16</th>\n",
       "      <td>16 Cuenca</td>\n",
       "      <td>40.0735</td>\n",
       "      <td>-2.1367</td>\n",
       "    </tr>\n",
       "    <tr>\n",
       "      <th>17</th>\n",
       "      <td>17 Girona</td>\n",
       "      <td>41.9794</td>\n",
       "      <td>2.8213</td>\n",
       "    </tr>\n",
       "    <tr>\n",
       "      <th>18</th>\n",
       "      <td>18 Granada</td>\n",
       "      <td>37.1773</td>\n",
       "      <td>-3.5986</td>\n",
       "    </tr>\n",
       "    <tr>\n",
       "      <th>19</th>\n",
       "      <td>19 Guadalajara</td>\n",
       "      <td>40.6333</td>\n",
       "      <td>-3.1667</td>\n",
       "    </tr>\n",
       "    <tr>\n",
       "      <th>20</th>\n",
       "      <td>20 Gipuzkoa</td>\n",
       "      <td>43.3183</td>\n",
       "      <td>-2.9340</td>\n",
       "    </tr>\n",
       "    <tr>\n",
       "      <th>21</th>\n",
       "      <td>21 Huelva</td>\n",
       "      <td>37.2617</td>\n",
       "      <td>-6.9447</td>\n",
       "    </tr>\n",
       "    <tr>\n",
       "      <th>22</th>\n",
       "      <td>22 Huesca</td>\n",
       "      <td>42.1401</td>\n",
       "      <td>-0.4080</td>\n",
       "    </tr>\n",
       "    <tr>\n",
       "      <th>23</th>\n",
       "      <td>07 Balears, Illes</td>\n",
       "      <td>39.5696</td>\n",
       "      <td>2.6502</td>\n",
       "    </tr>\n",
       "    <tr>\n",
       "      <th>24</th>\n",
       "      <td>23 Jaén</td>\n",
       "      <td>37.7799</td>\n",
       "      <td>-3.7794</td>\n",
       "    </tr>\n",
       "    <tr>\n",
       "      <th>25</th>\n",
       "      <td>26 Rioja, La</td>\n",
       "      <td>42.4687</td>\n",
       "      <td>-2.4448</td>\n",
       "    </tr>\n",
       "    <tr>\n",
       "      <th>26</th>\n",
       "      <td>35 Palmas, Las</td>\n",
       "      <td>28.1235</td>\n",
       "      <td>-15.4367</td>\n",
       "    </tr>\n",
       "    <tr>\n",
       "      <th>27</th>\n",
       "      <td>24 León</td>\n",
       "      <td>42.5987</td>\n",
       "      <td>-3.5670</td>\n",
       "    </tr>\n",
       "    <tr>\n",
       "      <th>28</th>\n",
       "      <td>25 Lleida</td>\n",
       "      <td>41.6177</td>\n",
       "      <td>0.6226</td>\n",
       "    </tr>\n",
       "    <tr>\n",
       "      <th>29</th>\n",
       "      <td>27 Lugo</td>\n",
       "      <td>43.0027</td>\n",
       "      <td>-7.5584</td>\n",
       "    </tr>\n",
       "    <tr>\n",
       "      <th>30</th>\n",
       "      <td>28 Madrid</td>\n",
       "      <td>40.4168</td>\n",
       "      <td>-3.7038</td>\n",
       "    </tr>\n",
       "    <tr>\n",
       "      <th>31</th>\n",
       "      <td>29 Málaga</td>\n",
       "      <td>36.7213</td>\n",
       "      <td>-4.4216</td>\n",
       "    </tr>\n",
       "    <tr>\n",
       "      <th>32</th>\n",
       "      <td>30 Murcia</td>\n",
       "      <td>37.9835</td>\n",
       "      <td>-1.1296</td>\n",
       "    </tr>\n",
       "    <tr>\n",
       "      <th>33</th>\n",
       "      <td>31 Navarra</td>\n",
       "      <td>42.8125</td>\n",
       "      <td>-1.6458</td>\n",
       "    </tr>\n",
       "    <tr>\n",
       "      <th>34</th>\n",
       "      <td>32 Ourense</td>\n",
       "      <td>42.3358</td>\n",
       "      <td>-7.8633</td>\n",
       "    </tr>\n",
       "    <tr>\n",
       "      <th>35</th>\n",
       "      <td>34 Palencia</td>\n",
       "      <td>42.0080</td>\n",
       "      <td>-4.5235</td>\n",
       "    </tr>\n",
       "    <tr>\n",
       "      <th>36</th>\n",
       "      <td>36 Pontevedra</td>\n",
       "      <td>42.4385</td>\n",
       "      <td>-8.6445</td>\n",
       "    </tr>\n",
       "    <tr>\n",
       "      <th>37</th>\n",
       "      <td>37 Salamanca</td>\n",
       "      <td>40.9704</td>\n",
       "      <td>-5.6635</td>\n",
       "    </tr>\n",
       "    <tr>\n",
       "      <th>38</th>\n",
       "      <td>38 Santa Cruz de Tenerife</td>\n",
       "      <td>28.4636</td>\n",
       "      <td>-16.2519</td>\n",
       "    </tr>\n",
       "    <tr>\n",
       "      <th>39</th>\n",
       "      <td>40 Segovia</td>\n",
       "      <td>40.9481</td>\n",
       "      <td>-4.1075</td>\n",
       "    </tr>\n",
       "    <tr>\n",
       "      <th>40</th>\n",
       "      <td>41 Sevilla</td>\n",
       "      <td>37.3886</td>\n",
       "      <td>-5.9823</td>\n",
       "    </tr>\n",
       "    <tr>\n",
       "      <th>41</th>\n",
       "      <td>42 Soria</td>\n",
       "      <td>41.7632</td>\n",
       "      <td>-2.4676</td>\n",
       "    </tr>\n",
       "    <tr>\n",
       "      <th>42</th>\n",
       "      <td>43 Tarragona</td>\n",
       "      <td>41.1189</td>\n",
       "      <td>-1.9812</td>\n",
       "    </tr>\n",
       "    <tr>\n",
       "      <th>43</th>\n",
       "      <td>44 Teruel</td>\n",
       "      <td>40.3451</td>\n",
       "      <td>-1.1063</td>\n",
       "    </tr>\n",
       "    <tr>\n",
       "      <th>44</th>\n",
       "      <td>45 Toledo</td>\n",
       "      <td>39.8628</td>\n",
       "      <td>-4.0273</td>\n",
       "    </tr>\n",
       "    <tr>\n",
       "      <th>45</th>\n",
       "      <td>46 Valencia/València</td>\n",
       "      <td>39.4699</td>\n",
       "      <td>-0.3763</td>\n",
       "    </tr>\n",
       "    <tr>\n",
       "      <th>46</th>\n",
       "      <td>47 Valladolid</td>\n",
       "      <td>41.6523</td>\n",
       "      <td>-4.7245</td>\n",
       "    </tr>\n",
       "    <tr>\n",
       "      <th>47</th>\n",
       "      <td>48 Bizkaia</td>\n",
       "      <td>43.2630</td>\n",
       "      <td>-2.9340</td>\n",
       "    </tr>\n",
       "    <tr>\n",
       "      <th>48</th>\n",
       "      <td>49 Zamora</td>\n",
       "      <td>41.5037</td>\n",
       "      <td>-5.7498</td>\n",
       "    </tr>\n",
       "    <tr>\n",
       "      <th>49</th>\n",
       "      <td>50 Zaragoza</td>\n",
       "      <td>41.6488</td>\n",
       "      <td>-0.8891</td>\n",
       "    </tr>\n",
       "  </tbody>\n",
       "</table>\n",
       "</div>"
      ],
      "text/plain": [
       "                    Provincia  Latitud  Longitud\n",
       "0              01 Araba/Álava  42.8500   -2.6725\n",
       "1                 02 Albacete  38.9940   -1.8585\n",
       "2         03 Alicante/Alacant  38.3452   -0.4810\n",
       "3                  04 Almería  36.8340   -2.4637\n",
       "4                15 Coruña, A  43.3610   -5.8494\n",
       "5                 33 Asturias  43.3623   -8.4115\n",
       "6                    05 Ávila  40.6560   -4.6999\n",
       "7                  06 Badajoz  38.8795   -6.9707\n",
       "8                08 Barcelona  41.3784    2.1926\n",
       "9                   09 Burgos  42.3400   -3.6997\n",
       "10                 10 Cáceres  39.4753   -6.3729\n",
       "11                   11 Cádiz  36.5297   -6.2919\n",
       "12               39 Cantabria  43.4623   -3.8043\n",
       "13      12 Castellón/Castelló  39.9834   -0.0330\n",
       "14             13 Ciudad Real  38.9833   -3.9333\n",
       "15                 14 Córdoba  37.8882   -4.7794\n",
       "16                  16 Cuenca  40.0735   -2.1367\n",
       "17                  17 Girona  41.9794    2.8213\n",
       "18                 18 Granada  37.1773   -3.5986\n",
       "19             19 Guadalajara  40.6333   -3.1667\n",
       "20                20 Gipuzkoa  43.3183   -2.9340\n",
       "21                  21 Huelva  37.2617   -6.9447\n",
       "22                  22 Huesca  42.1401   -0.4080\n",
       "23          07 Balears, Illes  39.5696    2.6502\n",
       "24                    23 Jaén  37.7799   -3.7794\n",
       "25               26 Rioja, La  42.4687   -2.4448\n",
       "26             35 Palmas, Las  28.1235  -15.4367\n",
       "27                    24 León  42.5987   -3.5670\n",
       "28                  25 Lleida  41.6177    0.6226\n",
       "29                    27 Lugo  43.0027   -7.5584\n",
       "30                  28 Madrid  40.4168   -3.7038\n",
       "31                  29 Málaga  36.7213   -4.4216\n",
       "32                  30 Murcia  37.9835   -1.1296\n",
       "33                 31 Navarra  42.8125   -1.6458\n",
       "34                 32 Ourense  42.3358   -7.8633\n",
       "35                34 Palencia  42.0080   -4.5235\n",
       "36              36 Pontevedra  42.4385   -8.6445\n",
       "37               37 Salamanca  40.9704   -5.6635\n",
       "38  38 Santa Cruz de Tenerife  28.4636  -16.2519\n",
       "39                 40 Segovia  40.9481   -4.1075\n",
       "40                 41 Sevilla  37.3886   -5.9823\n",
       "41                   42 Soria  41.7632   -2.4676\n",
       "42               43 Tarragona  41.1189   -1.9812\n",
       "43                  44 Teruel  40.3451   -1.1063\n",
       "44                  45 Toledo  39.8628   -4.0273\n",
       "45       46 Valencia/València  39.4699   -0.3763\n",
       "46              47 Valladolid  41.6523   -4.7245\n",
       "47                 48 Bizkaia  43.2630   -2.9340\n",
       "48                  49 Zamora  41.5037   -5.7498\n",
       "49                50 Zaragoza  41.6488   -0.8891"
      ]
     },
     "execution_count": 91,
     "metadata": {},
     "output_type": "execute_result"
    }
   ],
   "source": [
    "provincias_nuevas = ['01 Araba/Álava','02 Albacete','03 Alicante/Alacant','04 Almería', '15 Coruña, A','33 Asturias','05 Ávila',\n",
    "         '06 Badajoz','08 Barcelona','09 Burgos',\n",
    "         '10 Cáceres','11 Cádiz','39 Cantabria','12 Castellón/Castelló','13 Ciudad Real','14 Córdoba','16 Cuenca',\n",
    "         '17 Girona','18 Granada','19 Guadalajara','20 Gipuzkoa',\n",
    "         '21 Huelva','22 Huesca',\n",
    "         '07 Balears, Illes',\n",
    "         '23 Jaén',\n",
    "         '26 Rioja, La','35 Palmas, Las','24 León','25 Lleida','27 Lugo',\n",
    "         '28 Madrid','29 Málaga','30 Murcia',\n",
    "         '31 Navarra',\n",
    "         '32 Ourense',\n",
    "         '34 Palencia','36 Pontevedra',\n",
    "         '37 Salamanca','38 Santa Cruz de Tenerife', '40 Segovia','41 Sevilla','42 Soria',\n",
    "         '43 Tarragona', '44 Teruel', '45 Toledo',\n",
    "         '46 Valencia/València','47 Valladolid','48 Bizkaia',\n",
    "         '49 Zamora','50 Zaragoza']\n",
    "\n",
    "# Reemplazar los valores de la columna 'provincia' con la lista de provincias\n",
    "df_provincias['Provincia'] = provincias_nuevas\n",
    "df_provincias.head(50)"
   ]
  },
  {
   "cell_type": "code",
   "execution_count": 92,
   "metadata": {},
   "outputs": [
    {
     "data": {
      "text/html": [
       "<div>\n",
       "<style scoped>\n",
       "    .dataframe tbody tr th:only-of-type {\n",
       "        vertical-align: middle;\n",
       "    }\n",
       "\n",
       "    .dataframe tbody tr th {\n",
       "        vertical-align: top;\n",
       "    }\n",
       "\n",
       "    .dataframe thead th {\n",
       "        text-align: right;\n",
       "    }\n",
       "</style>\n",
       "<table border=\"1\" class=\"dataframe\">\n",
       "  <thead>\n",
       "    <tr style=\"text-align: right;\">\n",
       "      <th></th>\n",
       "      <th>Provincia</th>\n",
       "      <th>Total</th>\n",
       "      <th>Española</th>\n",
       "      <th>Extranjera</th>\n",
       "      <th>Latitud</th>\n",
       "      <th>Longitud</th>\n",
       "    </tr>\n",
       "  </thead>\n",
       "  <tbody>\n",
       "    <tr>\n",
       "      <th>0</th>\n",
       "      <td>01 Araba/Álava</td>\n",
       "      <td>336308</td>\n",
       "      <td>301302</td>\n",
       "      <td>35006</td>\n",
       "      <td>42.8500</td>\n",
       "      <td>-2.6725</td>\n",
       "    </tr>\n",
       "    <tr>\n",
       "      <th>1</th>\n",
       "      <td>02 Albacete</td>\n",
       "      <td>387529</td>\n",
       "      <td>356856</td>\n",
       "      <td>30673</td>\n",
       "      <td>38.9940</td>\n",
       "      <td>-1.8585</td>\n",
       "    </tr>\n",
       "    <tr>\n",
       "      <th>2</th>\n",
       "      <td>03 Alicante/Alacant</td>\n",
       "      <td>1955268</td>\n",
       "      <td>1518766</td>\n",
       "      <td>436502</td>\n",
       "      <td>38.3452</td>\n",
       "      <td>-0.4810</td>\n",
       "    </tr>\n",
       "    <tr>\n",
       "      <th>3</th>\n",
       "      <td>04 Almería</td>\n",
       "      <td>753364</td>\n",
       "      <td>583918</td>\n",
       "      <td>169446</td>\n",
       "      <td>36.8340</td>\n",
       "      <td>-2.4637</td>\n",
       "    </tr>\n",
       "    <tr>\n",
       "      <th>4</th>\n",
       "      <td>15 Coruña, A</td>\n",
       "      <td>1006060</td>\n",
       "      <td>952488</td>\n",
       "      <td>53572</td>\n",
       "      <td>43.3610</td>\n",
       "      <td>-5.8494</td>\n",
       "    </tr>\n",
       "    <tr>\n",
       "      <th>5</th>\n",
       "      <td>33 Asturias</td>\n",
       "      <td>1123884</td>\n",
       "      <td>1068748</td>\n",
       "      <td>55136</td>\n",
       "      <td>43.3623</td>\n",
       "      <td>-8.4115</td>\n",
       "    </tr>\n",
       "    <tr>\n",
       "      <th>6</th>\n",
       "      <td>05 Ávila</td>\n",
       "      <td>159764</td>\n",
       "      <td>146896</td>\n",
       "      <td>12868</td>\n",
       "      <td>40.6560</td>\n",
       "      <td>-4.6999</td>\n",
       "    </tr>\n",
       "    <tr>\n",
       "      <th>7</th>\n",
       "      <td>06 Badajoz</td>\n",
       "      <td>666049</td>\n",
       "      <td>642287</td>\n",
       "      <td>23762</td>\n",
       "      <td>38.8795</td>\n",
       "      <td>-6.9707</td>\n",
       "    </tr>\n",
       "    <tr>\n",
       "      <th>8</th>\n",
       "      <td>08 Barcelona</td>\n",
       "      <td>5797356</td>\n",
       "      <td>4846649</td>\n",
       "      <td>950707</td>\n",
       "      <td>41.3784</td>\n",
       "      <td>2.1926</td>\n",
       "    </tr>\n",
       "    <tr>\n",
       "      <th>9</th>\n",
       "      <td>09 Burgos</td>\n",
       "      <td>357370</td>\n",
       "      <td>324220</td>\n",
       "      <td>33150</td>\n",
       "      <td>42.3400</td>\n",
       "      <td>-3.6997</td>\n",
       "    </tr>\n",
       "    <tr>\n",
       "      <th>10</th>\n",
       "      <td>10 Cáceres</td>\n",
       "      <td>388257</td>\n",
       "      <td>372577</td>\n",
       "      <td>15680</td>\n",
       "      <td>39.4753</td>\n",
       "      <td>-6.3729</td>\n",
       "    </tr>\n",
       "    <tr>\n",
       "      <th>11</th>\n",
       "      <td>11 Cádiz</td>\n",
       "      <td>1254866</td>\n",
       "      <td>1195185</td>\n",
       "      <td>59681</td>\n",
       "      <td>36.5297</td>\n",
       "      <td>-6.2919</td>\n",
       "    </tr>\n",
       "    <tr>\n",
       "      <th>12</th>\n",
       "      <td>39 Cantabria</td>\n",
       "      <td>588387</td>\n",
       "      <td>546676</td>\n",
       "      <td>41711</td>\n",
       "      <td>43.4623</td>\n",
       "      <td>-3.8043</td>\n",
       "    </tr>\n",
       "    <tr>\n",
       "      <th>13</th>\n",
       "      <td>12 Castellón/Castelló</td>\n",
       "      <td>604086</td>\n",
       "      <td>503118</td>\n",
       "      <td>100968</td>\n",
       "      <td>39.9834</td>\n",
       "      <td>-0.0330</td>\n",
       "    </tr>\n",
       "    <tr>\n",
       "      <th>14</th>\n",
       "      <td>13 Ciudad Real</td>\n",
       "      <td>491927</td>\n",
       "      <td>457054</td>\n",
       "      <td>34873</td>\n",
       "      <td>38.9833</td>\n",
       "      <td>-3.9333</td>\n",
       "    </tr>\n",
       "    <tr>\n",
       "      <th>15</th>\n",
       "      <td>14 Córdoba</td>\n",
       "      <td>775002</td>\n",
       "      <td>748997</td>\n",
       "      <td>26005</td>\n",
       "      <td>37.8882</td>\n",
       "      <td>-4.7794</td>\n",
       "    </tr>\n",
       "    <tr>\n",
       "      <th>16</th>\n",
       "      <td>16 Cuenca</td>\n",
       "      <td>198436</td>\n",
       "      <td>172214</td>\n",
       "      <td>26222</td>\n",
       "      <td>40.0735</td>\n",
       "      <td>-2.1367</td>\n",
       "    </tr>\n",
       "    <tr>\n",
       "      <th>17</th>\n",
       "      <td>17 Girona</td>\n",
       "      <td>808672</td>\n",
       "      <td>637190</td>\n",
       "      <td>171482</td>\n",
       "      <td>41.9794</td>\n",
       "      <td>2.8213</td>\n",
       "    </tr>\n",
       "    <tr>\n",
       "      <th>18</th>\n",
       "      <td>18 Granada</td>\n",
       "      <td>934072</td>\n",
       "      <td>856467</td>\n",
       "      <td>77605</td>\n",
       "      <td>37.1773</td>\n",
       "      <td>-3.5986</td>\n",
       "    </tr>\n",
       "    <tr>\n",
       "      <th>19</th>\n",
       "      <td>19 Guadalajara</td>\n",
       "      <td>275082</td>\n",
       "      <td>233675</td>\n",
       "      <td>41407</td>\n",
       "      <td>40.6333</td>\n",
       "      <td>-3.1667</td>\n",
       "    </tr>\n",
       "    <tr>\n",
       "      <th>20</th>\n",
       "      <td>20 Gipuzkoa</td>\n",
       "      <td>726712</td>\n",
       "      <td>660601</td>\n",
       "      <td>66111</td>\n",
       "      <td>43.3183</td>\n",
       "      <td>-2.9340</td>\n",
       "    </tr>\n",
       "    <tr>\n",
       "      <th>21</th>\n",
       "      <td>21 Huelva</td>\n",
       "      <td>534084</td>\n",
       "      <td>477639</td>\n",
       "      <td>56445</td>\n",
       "      <td>37.2617</td>\n",
       "      <td>-6.9447</td>\n",
       "    </tr>\n",
       "    <tr>\n",
       "      <th>22</th>\n",
       "      <td>22 Huesca</td>\n",
       "      <td>226878</td>\n",
       "      <td>194952</td>\n",
       "      <td>31926</td>\n",
       "      <td>42.1401</td>\n",
       "      <td>-0.4080</td>\n",
       "    </tr>\n",
       "    <tr>\n",
       "      <th>23</th>\n",
       "      <td>07 Balears, Illes</td>\n",
       "      <td>1209906</td>\n",
       "      <td>962237</td>\n",
       "      <td>247669</td>\n",
       "      <td>39.5696</td>\n",
       "      <td>2.6502</td>\n",
       "    </tr>\n",
       "    <tr>\n",
       "      <th>24</th>\n",
       "      <td>23 Jaén</td>\n",
       "      <td>620637</td>\n",
       "      <td>600652</td>\n",
       "      <td>19985</td>\n",
       "      <td>37.7799</td>\n",
       "      <td>-3.7794</td>\n",
       "    </tr>\n",
       "    <tr>\n",
       "      <th>25</th>\n",
       "      <td>26 Rioja, La</td>\n",
       "      <td>322282</td>\n",
       "      <td>277946</td>\n",
       "      <td>44336</td>\n",
       "      <td>42.4687</td>\n",
       "      <td>-2.4448</td>\n",
       "    </tr>\n",
       "    <tr>\n",
       "      <th>26</th>\n",
       "      <td>35 Palmas, Las</td>\n",
       "      <td>1145843</td>\n",
       "      <td>991714</td>\n",
       "      <td>154129</td>\n",
       "      <td>28.1235</td>\n",
       "      <td>-15.4367</td>\n",
       "    </tr>\n",
       "    <tr>\n",
       "      <th>27</th>\n",
       "      <td>24 León</td>\n",
       "      <td>448573</td>\n",
       "      <td>425175</td>\n",
       "      <td>23398</td>\n",
       "      <td>42.5987</td>\n",
       "      <td>-3.5670</td>\n",
       "    </tr>\n",
       "    <tr>\n",
       "      <th>28</th>\n",
       "      <td>25 Lleida</td>\n",
       "      <td>447343</td>\n",
       "      <td>358987</td>\n",
       "      <td>88356</td>\n",
       "      <td>41.6177</td>\n",
       "      <td>0.6226</td>\n",
       "    </tr>\n",
       "    <tr>\n",
       "      <th>29</th>\n",
       "      <td>27 Lugo</td>\n",
       "      <td>324267</td>\n",
       "      <td>304508</td>\n",
       "      <td>19759</td>\n",
       "      <td>43.0027</td>\n",
       "      <td>-7.5584</td>\n",
       "    </tr>\n",
       "    <tr>\n",
       "      <th>30</th>\n",
       "      <td>28 Madrid</td>\n",
       "      <td>6871903</td>\n",
       "      <td>5830014</td>\n",
       "      <td>1041889</td>\n",
       "      <td>40.4168</td>\n",
       "      <td>-3.7038</td>\n",
       "    </tr>\n",
       "    <tr>\n",
       "      <th>31</th>\n",
       "      <td>29 Málaga</td>\n",
       "      <td>1752728</td>\n",
       "      <td>1438368</td>\n",
       "      <td>314360</td>\n",
       "      <td>36.7213</td>\n",
       "      <td>-4.4216</td>\n",
       "    </tr>\n",
       "    <tr>\n",
       "      <th>32</th>\n",
       "      <td>30 Murcia</td>\n",
       "      <td>1551692</td>\n",
       "      <td>1314926</td>\n",
       "      <td>236766</td>\n",
       "      <td>37.9835</td>\n",
       "      <td>-1.1296</td>\n",
       "    </tr>\n",
       "    <tr>\n",
       "      <th>33</th>\n",
       "      <td>31 Navarra</td>\n",
       "      <td>672155</td>\n",
       "      <td>591214</td>\n",
       "      <td>80941</td>\n",
       "      <td>42.8125</td>\n",
       "      <td>-1.6458</td>\n",
       "    </tr>\n",
       "    <tr>\n",
       "      <th>34</th>\n",
       "      <td>32 Ourense</td>\n",
       "      <td>304563</td>\n",
       "      <td>285080</td>\n",
       "      <td>19483</td>\n",
       "      <td>42.3358</td>\n",
       "      <td>-7.8633</td>\n",
       "    </tr>\n",
       "    <tr>\n",
       "      <th>35</th>\n",
       "      <td>34 Palencia</td>\n",
       "      <td>157787</td>\n",
       "      <td>149206</td>\n",
       "      <td>8581</td>\n",
       "      <td>42.0080</td>\n",
       "      <td>-4.5235</td>\n",
       "    </tr>\n",
       "    <tr>\n",
       "      <th>36</th>\n",
       "      <td>36 Pontevedra</td>\n",
       "      <td>946710</td>\n",
       "      <td>901782</td>\n",
       "      <td>44928</td>\n",
       "      <td>42.4385</td>\n",
       "      <td>-8.6445</td>\n",
       "    </tr>\n",
       "    <tr>\n",
       "      <th>37</th>\n",
       "      <td>37 Salamanca</td>\n",
       "      <td>327089</td>\n",
       "      <td>308483</td>\n",
       "      <td>18606</td>\n",
       "      <td>40.9704</td>\n",
       "      <td>-5.6635</td>\n",
       "    </tr>\n",
       "    <tr>\n",
       "      <th>38</th>\n",
       "      <td>38 Santa Cruz de Tenerife</td>\n",
       "      <td>1067173</td>\n",
       "      <td>906779</td>\n",
       "      <td>160394</td>\n",
       "      <td>28.4636</td>\n",
       "      <td>-16.2519</td>\n",
       "    </tr>\n",
       "    <tr>\n",
       "      <th>39</th>\n",
       "      <td>40 Segovia</td>\n",
       "      <td>155332</td>\n",
       "      <td>135317</td>\n",
       "      <td>20015</td>\n",
       "      <td>40.9481</td>\n",
       "      <td>-4.1075</td>\n",
       "    </tr>\n",
       "    <tr>\n",
       "      <th>40</th>\n",
       "      <td>41 Sevilla</td>\n",
       "      <td>1959394</td>\n",
       "      <td>1869197</td>\n",
       "      <td>90197</td>\n",
       "      <td>37.3886</td>\n",
       "      <td>-5.9823</td>\n",
       "    </tr>\n",
       "    <tr>\n",
       "      <th>41</th>\n",
       "      <td>42 Soria</td>\n",
       "      <td>89528</td>\n",
       "      <td>79165</td>\n",
       "      <td>10363</td>\n",
       "      <td>41.7632</td>\n",
       "      <td>-2.4676</td>\n",
       "    </tr>\n",
       "    <tr>\n",
       "      <th>42</th>\n",
       "      <td>43 Tarragona</td>\n",
       "      <td>848592</td>\n",
       "      <td>697156</td>\n",
       "      <td>151436</td>\n",
       "      <td>41.1189</td>\n",
       "      <td>-1.9812</td>\n",
       "    </tr>\n",
       "    <tr>\n",
       "      <th>43</th>\n",
       "      <td>44 Teruel</td>\n",
       "      <td>135046</td>\n",
       "      <td>118354</td>\n",
       "      <td>16692</td>\n",
       "      <td>40.3451</td>\n",
       "      <td>-1.1063</td>\n",
       "    </tr>\n",
       "    <tr>\n",
       "      <th>44</th>\n",
       "      <td>45 Toledo</td>\n",
       "      <td>731112</td>\n",
       "      <td>644114</td>\n",
       "      <td>86998</td>\n",
       "      <td>39.8628</td>\n",
       "      <td>-4.0273</td>\n",
       "    </tr>\n",
       "    <tr>\n",
       "      <th>45</th>\n",
       "      <td>46 Valencia/València</td>\n",
       "      <td>2656841</td>\n",
       "      <td>2306155</td>\n",
       "      <td>350686</td>\n",
       "      <td>39.4699</td>\n",
       "      <td>-0.3763</td>\n",
       "    </tr>\n",
       "    <tr>\n",
       "      <th>46</th>\n",
       "      <td>47 Valladolid</td>\n",
       "      <td>521333</td>\n",
       "      <td>487981</td>\n",
       "      <td>33352</td>\n",
       "      <td>41.6523</td>\n",
       "      <td>-4.7245</td>\n",
       "    </tr>\n",
       "    <tr>\n",
       "      <th>47</th>\n",
       "      <td>48 Bizkaia</td>\n",
       "      <td>1153282</td>\n",
       "      <td>1054185</td>\n",
       "      <td>99097</td>\n",
       "      <td>43.2630</td>\n",
       "      <td>-2.9340</td>\n",
       "    </tr>\n",
       "    <tr>\n",
       "      <th>48</th>\n",
       "      <td>49 Zamora</td>\n",
       "      <td>166927</td>\n",
       "      <td>159326</td>\n",
       "      <td>7601</td>\n",
       "      <td>41.5037</td>\n",
       "      <td>-5.7498</td>\n",
       "    </tr>\n",
       "    <tr>\n",
       "      <th>49</th>\n",
       "      <td>50 Zaragoza</td>\n",
       "      <td>979365</td>\n",
       "      <td>846939</td>\n",
       "      <td>132426</td>\n",
       "      <td>41.6488</td>\n",
       "      <td>-0.8891</td>\n",
       "    </tr>\n",
       "  </tbody>\n",
       "</table>\n",
       "</div>"
      ],
      "text/plain": [
       "                    Provincia    Total Española Extranjera  Latitud  Longitud\n",
       "0              01 Araba/Álava   336308   301302      35006  42.8500   -2.6725\n",
       "1                 02 Albacete   387529   356856      30673  38.9940   -1.8585\n",
       "2         03 Alicante/Alacant  1955268  1518766     436502  38.3452   -0.4810\n",
       "3                  04 Almería   753364   583918     169446  36.8340   -2.4637\n",
       "4                15 Coruña, A  1006060   952488      53572  43.3610   -5.8494\n",
       "5                 33 Asturias  1123884  1068748      55136  43.3623   -8.4115\n",
       "6                    05 Ávila   159764   146896      12868  40.6560   -4.6999\n",
       "7                  06 Badajoz   666049   642287      23762  38.8795   -6.9707\n",
       "8                08 Barcelona  5797356  4846649     950707  41.3784    2.1926\n",
       "9                   09 Burgos   357370   324220      33150  42.3400   -3.6997\n",
       "10                 10 Cáceres   388257   372577      15680  39.4753   -6.3729\n",
       "11                   11 Cádiz  1254866  1195185      59681  36.5297   -6.2919\n",
       "12               39 Cantabria   588387   546676      41711  43.4623   -3.8043\n",
       "13      12 Castellón/Castelló   604086   503118     100968  39.9834   -0.0330\n",
       "14             13 Ciudad Real   491927   457054      34873  38.9833   -3.9333\n",
       "15                 14 Córdoba   775002   748997      26005  37.8882   -4.7794\n",
       "16                  16 Cuenca   198436   172214      26222  40.0735   -2.1367\n",
       "17                  17 Girona   808672   637190     171482  41.9794    2.8213\n",
       "18                 18 Granada   934072   856467      77605  37.1773   -3.5986\n",
       "19             19 Guadalajara   275082   233675      41407  40.6333   -3.1667\n",
       "20                20 Gipuzkoa   726712   660601      66111  43.3183   -2.9340\n",
       "21                  21 Huelva   534084   477639      56445  37.2617   -6.9447\n",
       "22                  22 Huesca   226878   194952      31926  42.1401   -0.4080\n",
       "23          07 Balears, Illes  1209906   962237     247669  39.5696    2.6502\n",
       "24                    23 Jaén   620637   600652      19985  37.7799   -3.7794\n",
       "25               26 Rioja, La   322282   277946      44336  42.4687   -2.4448\n",
       "26             35 Palmas, Las  1145843   991714     154129  28.1235  -15.4367\n",
       "27                    24 León   448573   425175      23398  42.5987   -3.5670\n",
       "28                  25 Lleida   447343   358987      88356  41.6177    0.6226\n",
       "29                    27 Lugo   324267   304508      19759  43.0027   -7.5584\n",
       "30                  28 Madrid  6871903  5830014    1041889  40.4168   -3.7038\n",
       "31                  29 Málaga  1752728  1438368     314360  36.7213   -4.4216\n",
       "32                  30 Murcia  1551692  1314926     236766  37.9835   -1.1296\n",
       "33                 31 Navarra   672155   591214      80941  42.8125   -1.6458\n",
       "34                 32 Ourense   304563   285080      19483  42.3358   -7.8633\n",
       "35                34 Palencia   157787   149206       8581  42.0080   -4.5235\n",
       "36              36 Pontevedra   946710   901782      44928  42.4385   -8.6445\n",
       "37               37 Salamanca   327089   308483      18606  40.9704   -5.6635\n",
       "38  38 Santa Cruz de Tenerife  1067173   906779     160394  28.4636  -16.2519\n",
       "39                 40 Segovia   155332   135317      20015  40.9481   -4.1075\n",
       "40                 41 Sevilla  1959394  1869197      90197  37.3886   -5.9823\n",
       "41                   42 Soria    89528    79165      10363  41.7632   -2.4676\n",
       "42               43 Tarragona   848592   697156     151436  41.1189   -1.9812\n",
       "43                  44 Teruel   135046   118354      16692  40.3451   -1.1063\n",
       "44                  45 Toledo   731112   644114      86998  39.8628   -4.0273\n",
       "45       46 Valencia/València  2656841  2306155     350686  39.4699   -0.3763\n",
       "46              47 Valladolid   521333   487981      33352  41.6523   -4.7245\n",
       "47                 48 Bizkaia  1153282  1054185      99097  43.2630   -2.9340\n",
       "48                  49 Zamora   166927   159326       7601  41.5037   -5.7498\n",
       "49                50 Zaragoza   979365   846939     132426  41.6488   -0.8891"
      ]
     },
     "execution_count": 92,
     "metadata": {},
     "output_type": "execute_result"
    }
   ],
   "source": [
    "poblacion_df = poblacion_df.reset_index(drop=True)  # Reinicia el índice del primer DataFrame\n",
    "df_provincias = df_provincias.reset_index(drop=True)  # Reinicia el índice del segundo DataFrame\n",
    "\n",
    "# Cruza ambas bases de datos en función de un campo común, como el nombre del municipio o código del INE\n",
    "datos_mapeo = pd.merge(poblacion_df, df_provincias, on=\"Provincia\")  # Ajusta el nombre de la columna de cruce\n",
    "datos_mapeo.to_csv('datos_mapeo.csv', index=False)\n",
    "datos_mapeo.head(50)"
   ]
  },
  {
   "cell_type": "markdown",
   "metadata": {},
   "source": [
    "### Primera Visualizacion\n"
   ]
  },
  {
   "cell_type": "code",
   "execution_count": 93,
   "metadata": {},
   "outputs": [
    {
     "ename": "TypeError",
     "evalue": "Image data of dtype object cannot be converted to float",
     "output_type": "error",
     "traceback": [
      "\u001b[1;31m---------------------------------------------------------------------------\u001b[0m",
      "\u001b[1;31mTypeError\u001b[0m                                 Traceback (most recent call last)",
      "Cell \u001b[1;32mIn[93], line 18\u001b[0m\n\u001b[0;32m     16\u001b[0m \u001b[38;5;66;03m# Crear heatmap\u001b[39;00m\n\u001b[0;32m     17\u001b[0m plt\u001b[38;5;241m.\u001b[39mfigure(figsize\u001b[38;5;241m=\u001b[39m(\u001b[38;5;241m8\u001b[39m, \u001b[38;5;241m6\u001b[39m))\n\u001b[1;32m---> 18\u001b[0m \u001b[43msns\u001b[49m\u001b[38;5;241;43m.\u001b[39;49m\u001b[43mheatmap\u001b[49m\u001b[43m(\u001b[49m\u001b[43mheatmap_data\u001b[49m\u001b[43m,\u001b[49m\u001b[43m \u001b[49m\u001b[43mannot\u001b[49m\u001b[38;5;241;43m=\u001b[39;49m\u001b[38;5;28;43;01mTrue\u001b[39;49;00m\u001b[43m,\u001b[49m\u001b[43m \u001b[49m\u001b[43mcmap\u001b[49m\u001b[38;5;241;43m=\u001b[39;49m\u001b[38;5;124;43m\"\u001b[39;49m\u001b[38;5;124;43mcoolwarm\u001b[39;49m\u001b[38;5;124;43m\"\u001b[39;49m\u001b[43m,\u001b[49m\u001b[43m \u001b[49m\u001b[43mcbar_kws\u001b[49m\u001b[38;5;241;43m=\u001b[39;49m\u001b[43m{\u001b[49m\u001b[38;5;124;43m'\u001b[39;49m\u001b[38;5;124;43mlabel\u001b[39;49m\u001b[38;5;124;43m'\u001b[39;49m\u001b[43m:\u001b[49m\u001b[43m \u001b[49m\u001b[38;5;124;43m'\u001b[39;49m\u001b[38;5;124;43mProporción\u001b[39;49m\u001b[38;5;124;43m'\u001b[39;49m\u001b[43m}\u001b[49m\u001b[43m)\u001b[49m\n\u001b[0;32m     19\u001b[0m plt\u001b[38;5;241m.\u001b[39mtitle(\u001b[38;5;124m\"\u001b[39m\u001b[38;5;124mDistribución de Población por Provincia\u001b[39m\u001b[38;5;124m\"\u001b[39m)\n\u001b[0;32m     20\u001b[0m plt\u001b[38;5;241m.\u001b[39mylabel(\u001b[38;5;124m\"\u001b[39m\u001b[38;5;124mCategoría de Población\u001b[39m\u001b[38;5;124m\"\u001b[39m)\n",
      "File \u001b[1;32mc:\\Users\\bykon\\AppData\\Local\\Programs\\Python\\Python310\\lib\\site-packages\\seaborn\\matrix.py:459\u001b[0m, in \u001b[0;36mheatmap\u001b[1;34m(data, vmin, vmax, cmap, center, robust, annot, fmt, annot_kws, linewidths, linecolor, cbar, cbar_kws, cbar_ax, square, xticklabels, yticklabels, mask, ax, **kwargs)\u001b[0m\n\u001b[0;32m    457\u001b[0m \u001b[38;5;28;01mif\u001b[39;00m square:\n\u001b[0;32m    458\u001b[0m     ax\u001b[38;5;241m.\u001b[39mset_aspect(\u001b[38;5;124m\"\u001b[39m\u001b[38;5;124mequal\u001b[39m\u001b[38;5;124m\"\u001b[39m)\n\u001b[1;32m--> 459\u001b[0m \u001b[43mplotter\u001b[49m\u001b[38;5;241;43m.\u001b[39;49m\u001b[43mplot\u001b[49m\u001b[43m(\u001b[49m\u001b[43max\u001b[49m\u001b[43m,\u001b[49m\u001b[43m \u001b[49m\u001b[43mcbar_ax\u001b[49m\u001b[43m,\u001b[49m\u001b[43m \u001b[49m\u001b[43mkwargs\u001b[49m\u001b[43m)\u001b[49m\n\u001b[0;32m    460\u001b[0m \u001b[38;5;28;01mreturn\u001b[39;00m ax\n",
      "File \u001b[1;32mc:\\Users\\bykon\\AppData\\Local\\Programs\\Python\\Python310\\lib\\site-packages\\seaborn\\matrix.py:306\u001b[0m, in \u001b[0;36m_HeatMapper.plot\u001b[1;34m(self, ax, cax, kws)\u001b[0m\n\u001b[0;32m    303\u001b[0m     kws\u001b[38;5;241m.\u001b[39msetdefault(\u001b[38;5;124m\"\u001b[39m\u001b[38;5;124mvmax\u001b[39m\u001b[38;5;124m\"\u001b[39m, \u001b[38;5;28mself\u001b[39m\u001b[38;5;241m.\u001b[39mvmax)\n\u001b[0;32m    305\u001b[0m \u001b[38;5;66;03m# Draw the heatmap\u001b[39;00m\n\u001b[1;32m--> 306\u001b[0m mesh \u001b[38;5;241m=\u001b[39m ax\u001b[38;5;241m.\u001b[39mpcolormesh(\u001b[38;5;28mself\u001b[39m\u001b[38;5;241m.\u001b[39mplot_data, cmap\u001b[38;5;241m=\u001b[39m\u001b[38;5;28mself\u001b[39m\u001b[38;5;241m.\u001b[39mcmap, \u001b[38;5;241m*\u001b[39m\u001b[38;5;241m*\u001b[39mkws)\n\u001b[0;32m    308\u001b[0m \u001b[38;5;66;03m# Set the axis limits\u001b[39;00m\n\u001b[0;32m    309\u001b[0m ax\u001b[38;5;241m.\u001b[39mset(xlim\u001b[38;5;241m=\u001b[39m(\u001b[38;5;241m0\u001b[39m, \u001b[38;5;28mself\u001b[39m\u001b[38;5;241m.\u001b[39mdata\u001b[38;5;241m.\u001b[39mshape[\u001b[38;5;241m1\u001b[39m]), ylim\u001b[38;5;241m=\u001b[39m(\u001b[38;5;241m0\u001b[39m, \u001b[38;5;28mself\u001b[39m\u001b[38;5;241m.\u001b[39mdata\u001b[38;5;241m.\u001b[39mshape[\u001b[38;5;241m0\u001b[39m]))\n",
      "File \u001b[1;32mc:\\Users\\bykon\\AppData\\Local\\Programs\\Python\\Python310\\lib\\site-packages\\matplotlib\\__init__.py:1478\u001b[0m, in \u001b[0;36m_preprocess_data.<locals>.inner\u001b[1;34m(ax, data, *args, **kwargs)\u001b[0m\n\u001b[0;32m   1475\u001b[0m \u001b[38;5;129m@functools\u001b[39m\u001b[38;5;241m.\u001b[39mwraps(func)\n\u001b[0;32m   1476\u001b[0m \u001b[38;5;28;01mdef\u001b[39;00m \u001b[38;5;21minner\u001b[39m(ax, \u001b[38;5;241m*\u001b[39margs, data\u001b[38;5;241m=\u001b[39m\u001b[38;5;28;01mNone\u001b[39;00m, \u001b[38;5;241m*\u001b[39m\u001b[38;5;241m*\u001b[39mkwargs):\n\u001b[0;32m   1477\u001b[0m     \u001b[38;5;28;01mif\u001b[39;00m data \u001b[38;5;129;01mis\u001b[39;00m \u001b[38;5;28;01mNone\u001b[39;00m:\n\u001b[1;32m-> 1478\u001b[0m         \u001b[38;5;28;01mreturn\u001b[39;00m func(ax, \u001b[38;5;241m*\u001b[39m\u001b[38;5;28mmap\u001b[39m(sanitize_sequence, args), \u001b[38;5;241m*\u001b[39m\u001b[38;5;241m*\u001b[39mkwargs)\n\u001b[0;32m   1480\u001b[0m     bound \u001b[38;5;241m=\u001b[39m new_sig\u001b[38;5;241m.\u001b[39mbind(ax, \u001b[38;5;241m*\u001b[39margs, \u001b[38;5;241m*\u001b[39m\u001b[38;5;241m*\u001b[39mkwargs)\n\u001b[0;32m   1481\u001b[0m     auto_label \u001b[38;5;241m=\u001b[39m (bound\u001b[38;5;241m.\u001b[39marguments\u001b[38;5;241m.\u001b[39mget(label_namer)\n\u001b[0;32m   1482\u001b[0m                   \u001b[38;5;129;01mor\u001b[39;00m bound\u001b[38;5;241m.\u001b[39mkwargs\u001b[38;5;241m.\u001b[39mget(label_namer))\n",
      "File \u001b[1;32mc:\\Users\\bykon\\AppData\\Local\\Programs\\Python\\Python310\\lib\\site-packages\\matplotlib\\axes\\_axes.py:6295\u001b[0m, in \u001b[0;36mAxes.pcolormesh\u001b[1;34m(self, alpha, norm, cmap, vmin, vmax, shading, antialiased, *args, **kwargs)\u001b[0m\n\u001b[0;32m   6291\u001b[0m coords \u001b[38;5;241m=\u001b[39m np\u001b[38;5;241m.\u001b[39mstack([X, Y], axis\u001b[38;5;241m=\u001b[39m\u001b[38;5;241m-\u001b[39m\u001b[38;5;241m1\u001b[39m)\n\u001b[0;32m   6293\u001b[0m kwargs\u001b[38;5;241m.\u001b[39msetdefault(\u001b[38;5;124m'\u001b[39m\u001b[38;5;124msnap\u001b[39m\u001b[38;5;124m'\u001b[39m, mpl\u001b[38;5;241m.\u001b[39mrcParams[\u001b[38;5;124m'\u001b[39m\u001b[38;5;124mpcolormesh.snap\u001b[39m\u001b[38;5;124m'\u001b[39m])\n\u001b[1;32m-> 6295\u001b[0m collection \u001b[38;5;241m=\u001b[39m mcoll\u001b[38;5;241m.\u001b[39mQuadMesh(\n\u001b[0;32m   6296\u001b[0m     coords, antialiased\u001b[38;5;241m=\u001b[39mantialiased, shading\u001b[38;5;241m=\u001b[39mshading,\n\u001b[0;32m   6297\u001b[0m     array\u001b[38;5;241m=\u001b[39mC, cmap\u001b[38;5;241m=\u001b[39mcmap, norm\u001b[38;5;241m=\u001b[39mnorm, alpha\u001b[38;5;241m=\u001b[39malpha, \u001b[38;5;241m*\u001b[39m\u001b[38;5;241m*\u001b[39mkwargs)\n\u001b[0;32m   6298\u001b[0m collection\u001b[38;5;241m.\u001b[39m_scale_norm(norm, vmin, vmax)\n\u001b[0;32m   6300\u001b[0m coords \u001b[38;5;241m=\u001b[39m coords\u001b[38;5;241m.\u001b[39mreshape(\u001b[38;5;241m-\u001b[39m\u001b[38;5;241m1\u001b[39m, \u001b[38;5;241m2\u001b[39m)  \u001b[38;5;66;03m# flatten the grid structure; keep x, y\u001b[39;00m\n",
      "File \u001b[1;32mc:\\Users\\bykon\\AppData\\Local\\Programs\\Python\\Python310\\lib\\site-packages\\matplotlib\\collections.py:2164\u001b[0m, in \u001b[0;36mQuadMesh.__init__\u001b[1;34m(self, coordinates, antialiased, shading, **kwargs)\u001b[0m\n\u001b[0;32m   2162\u001b[0m kwargs\u001b[38;5;241m.\u001b[39msetdefault(\u001b[38;5;124m\"\u001b[39m\u001b[38;5;124mpickradius\u001b[39m\u001b[38;5;124m\"\u001b[39m, \u001b[38;5;241m0\u001b[39m)\n\u001b[0;32m   2163\u001b[0m \u001b[38;5;28msuper\u001b[39m()\u001b[38;5;241m.\u001b[39m\u001b[38;5;21m__init__\u001b[39m(coordinates\u001b[38;5;241m=\u001b[39mcoordinates, shading\u001b[38;5;241m=\u001b[39mshading)\n\u001b[1;32m-> 2164\u001b[0m Collection\u001b[38;5;241m.\u001b[39m\u001b[38;5;21m__init__\u001b[39m(\u001b[38;5;28mself\u001b[39m, \u001b[38;5;241m*\u001b[39m\u001b[38;5;241m*\u001b[39mkwargs)\n\u001b[0;32m   2166\u001b[0m \u001b[38;5;28mself\u001b[39m\u001b[38;5;241m.\u001b[39m_antialiased \u001b[38;5;241m=\u001b[39m antialiased\n\u001b[0;32m   2167\u001b[0m \u001b[38;5;28mself\u001b[39m\u001b[38;5;241m.\u001b[39m_bbox \u001b[38;5;241m=\u001b[39m transforms\u001b[38;5;241m.\u001b[39mBbox\u001b[38;5;241m.\u001b[39munit()\n",
      "File \u001b[1;32mc:\\Users\\bykon\\AppData\\Local\\Programs\\Python\\Python310\\lib\\site-packages\\matplotlib\\collections.py:203\u001b[0m, in \u001b[0;36mCollection.__init__\u001b[1;34m(self, edgecolors, facecolors, linewidths, linestyles, capstyle, joinstyle, antialiaseds, offsets, offset_transform, norm, cmap, pickradius, hatch, urls, zorder, **kwargs)\u001b[0m\n\u001b[0;32m    200\u001b[0m \u001b[38;5;28mself\u001b[39m\u001b[38;5;241m.\u001b[39m_offset_transform \u001b[38;5;241m=\u001b[39m offset_transform\n\u001b[0;32m    202\u001b[0m \u001b[38;5;28mself\u001b[39m\u001b[38;5;241m.\u001b[39m_path_effects \u001b[38;5;241m=\u001b[39m \u001b[38;5;28;01mNone\u001b[39;00m\n\u001b[1;32m--> 203\u001b[0m \u001b[38;5;28;43mself\u001b[39;49m\u001b[38;5;241;43m.\u001b[39;49m\u001b[43m_internal_update\u001b[49m\u001b[43m(\u001b[49m\u001b[43mkwargs\u001b[49m\u001b[43m)\u001b[49m\n\u001b[0;32m    204\u001b[0m \u001b[38;5;28mself\u001b[39m\u001b[38;5;241m.\u001b[39m_paths \u001b[38;5;241m=\u001b[39m \u001b[38;5;28;01mNone\u001b[39;00m\n",
      "File \u001b[1;32mc:\\Users\\bykon\\AppData\\Local\\Programs\\Python\\Python310\\lib\\site-packages\\matplotlib\\artist.py:1219\u001b[0m, in \u001b[0;36mArtist._internal_update\u001b[1;34m(self, kwargs)\u001b[0m\n\u001b[0;32m   1212\u001b[0m \u001b[38;5;28;01mdef\u001b[39;00m \u001b[38;5;21m_internal_update\u001b[39m(\u001b[38;5;28mself\u001b[39m, kwargs):\n\u001b[0;32m   1213\u001b[0m \u001b[38;5;250m    \u001b[39m\u001b[38;5;124;03m\"\"\"\u001b[39;00m\n\u001b[0;32m   1214\u001b[0m \u001b[38;5;124;03m    Update artist properties without prenormalizing them, but generating\u001b[39;00m\n\u001b[0;32m   1215\u001b[0m \u001b[38;5;124;03m    errors as if calling `set`.\u001b[39;00m\n\u001b[0;32m   1216\u001b[0m \n\u001b[0;32m   1217\u001b[0m \u001b[38;5;124;03m    The lack of prenormalization is to maintain backcompatibility.\u001b[39;00m\n\u001b[0;32m   1218\u001b[0m \u001b[38;5;124;03m    \"\"\"\u001b[39;00m\n\u001b[1;32m-> 1219\u001b[0m     \u001b[38;5;28;01mreturn\u001b[39;00m \u001b[38;5;28;43mself\u001b[39;49m\u001b[38;5;241;43m.\u001b[39;49m\u001b[43m_update_props\u001b[49m\u001b[43m(\u001b[49m\n\u001b[0;32m   1220\u001b[0m \u001b[43m        \u001b[49m\u001b[43mkwargs\u001b[49m\u001b[43m,\u001b[49m\u001b[43m \u001b[49m\u001b[38;5;124;43m\"\u001b[39;49m\u001b[38;5;132;43;01m{cls.__name__}\u001b[39;49;00m\u001b[38;5;124;43m.set() got an unexpected keyword argument \u001b[39;49m\u001b[38;5;124;43m\"\u001b[39;49m\n\u001b[0;32m   1221\u001b[0m \u001b[43m        \u001b[49m\u001b[38;5;124;43m\"\u001b[39;49m\u001b[38;5;132;43;01m{prop_name!r}\u001b[39;49;00m\u001b[38;5;124;43m\"\u001b[39;49m\u001b[43m)\u001b[49m\n",
      "File \u001b[1;32mc:\\Users\\bykon\\AppData\\Local\\Programs\\Python\\Python310\\lib\\site-packages\\matplotlib\\artist.py:1195\u001b[0m, in \u001b[0;36mArtist._update_props\u001b[1;34m(self, props, errfmt)\u001b[0m\n\u001b[0;32m   1192\u001b[0m             \u001b[38;5;28;01mif\u001b[39;00m \u001b[38;5;129;01mnot\u001b[39;00m \u001b[38;5;28mcallable\u001b[39m(func):\n\u001b[0;32m   1193\u001b[0m                 \u001b[38;5;28;01mraise\u001b[39;00m \u001b[38;5;167;01mAttributeError\u001b[39;00m(\n\u001b[0;32m   1194\u001b[0m                     errfmt\u001b[38;5;241m.\u001b[39mformat(\u001b[38;5;28mcls\u001b[39m\u001b[38;5;241m=\u001b[39m\u001b[38;5;28mtype\u001b[39m(\u001b[38;5;28mself\u001b[39m), prop_name\u001b[38;5;241m=\u001b[39mk))\n\u001b[1;32m-> 1195\u001b[0m             ret\u001b[38;5;241m.\u001b[39mappend(\u001b[43mfunc\u001b[49m\u001b[43m(\u001b[49m\u001b[43mv\u001b[49m\u001b[43m)\u001b[49m)\n\u001b[0;32m   1196\u001b[0m \u001b[38;5;28;01mif\u001b[39;00m ret:\n\u001b[0;32m   1197\u001b[0m     \u001b[38;5;28mself\u001b[39m\u001b[38;5;241m.\u001b[39mpchanged()\n",
      "File \u001b[1;32mc:\\Users\\bykon\\AppData\\Local\\Programs\\Python\\Python310\\lib\\site-packages\\matplotlib\\collections.py:2038\u001b[0m, in \u001b[0;36m_MeshData.set_array\u001b[1;34m(self, A)\u001b[0m\n\u001b[0;32m   2033\u001b[0m     \u001b[38;5;28;01mif\u001b[39;00m shape \u001b[38;5;129;01mnot\u001b[39;00m \u001b[38;5;129;01min\u001b[39;00m ok_shapes:\n\u001b[0;32m   2034\u001b[0m         \u001b[38;5;28;01mraise\u001b[39;00m \u001b[38;5;167;01mValueError\u001b[39;00m(\n\u001b[0;32m   2035\u001b[0m             \u001b[38;5;124mf\u001b[39m\u001b[38;5;124m\"\u001b[39m\u001b[38;5;124mFor X (\u001b[39m\u001b[38;5;132;01m{\u001b[39;00mwidth\u001b[38;5;132;01m}\u001b[39;00m\u001b[38;5;124m) and Y (\u001b[39m\u001b[38;5;132;01m{\u001b[39;00mheight\u001b[38;5;132;01m}\u001b[39;00m\u001b[38;5;124m) with \u001b[39m\u001b[38;5;132;01m{\u001b[39;00m\u001b[38;5;28mself\u001b[39m\u001b[38;5;241m.\u001b[39m_shading\u001b[38;5;132;01m}\u001b[39;00m\u001b[38;5;124m \u001b[39m\u001b[38;5;124m\"\u001b[39m\n\u001b[0;32m   2036\u001b[0m             \u001b[38;5;124mf\u001b[39m\u001b[38;5;124m\"\u001b[39m\u001b[38;5;124mshading, A should have shape \u001b[39m\u001b[38;5;124m\"\u001b[39m\n\u001b[0;32m   2037\u001b[0m             \u001b[38;5;124mf\u001b[39m\u001b[38;5;124m\"\u001b[39m\u001b[38;5;132;01m{\u001b[39;00m\u001b[38;5;124m'\u001b[39m\u001b[38;5;124m or \u001b[39m\u001b[38;5;124m'\u001b[39m\u001b[38;5;241m.\u001b[39mjoin(\u001b[38;5;28mmap\u001b[39m(\u001b[38;5;28mstr\u001b[39m,\u001b[38;5;250m \u001b[39mok_shapes))\u001b[38;5;132;01m}\u001b[39;00m\u001b[38;5;124m, not \u001b[39m\u001b[38;5;132;01m{\u001b[39;00mA\u001b[38;5;241m.\u001b[39mshape\u001b[38;5;132;01m}\u001b[39;00m\u001b[38;5;124m\"\u001b[39m)\n\u001b[1;32m-> 2038\u001b[0m \u001b[38;5;28;01mreturn\u001b[39;00m \u001b[38;5;28;43msuper\u001b[39;49m\u001b[43m(\u001b[49m\u001b[43m)\u001b[49m\u001b[38;5;241;43m.\u001b[39;49m\u001b[43mset_array\u001b[49m\u001b[43m(\u001b[49m\u001b[43mA\u001b[49m\u001b[43m)\u001b[49m\n",
      "File \u001b[1;32mc:\\Users\\bykon\\AppData\\Local\\Programs\\Python\\Python310\\lib\\site-packages\\matplotlib\\cm.py:535\u001b[0m, in \u001b[0;36mScalarMappable.set_array\u001b[1;34m(self, A)\u001b[0m\n\u001b[0;32m    533\u001b[0m A \u001b[38;5;241m=\u001b[39m cbook\u001b[38;5;241m.\u001b[39msafe_masked_invalid(A, copy\u001b[38;5;241m=\u001b[39m\u001b[38;5;28;01mTrue\u001b[39;00m)\n\u001b[0;32m    534\u001b[0m \u001b[38;5;28;01mif\u001b[39;00m \u001b[38;5;129;01mnot\u001b[39;00m np\u001b[38;5;241m.\u001b[39mcan_cast(A\u001b[38;5;241m.\u001b[39mdtype, \u001b[38;5;28mfloat\u001b[39m, \u001b[38;5;124m\"\u001b[39m\u001b[38;5;124msame_kind\u001b[39m\u001b[38;5;124m\"\u001b[39m):\n\u001b[1;32m--> 535\u001b[0m     \u001b[38;5;28;01mraise\u001b[39;00m \u001b[38;5;167;01mTypeError\u001b[39;00m(\u001b[38;5;124mf\u001b[39m\u001b[38;5;124m\"\u001b[39m\u001b[38;5;124mImage data of dtype \u001b[39m\u001b[38;5;132;01m{\u001b[39;00mA\u001b[38;5;241m.\u001b[39mdtype\u001b[38;5;132;01m}\u001b[39;00m\u001b[38;5;124m cannot be \u001b[39m\u001b[38;5;124m\"\u001b[39m\n\u001b[0;32m    536\u001b[0m                     \u001b[38;5;124m\"\u001b[39m\u001b[38;5;124mconverted to float\u001b[39m\u001b[38;5;124m\"\u001b[39m)\n\u001b[0;32m    538\u001b[0m \u001b[38;5;28mself\u001b[39m\u001b[38;5;241m.\u001b[39m_A \u001b[38;5;241m=\u001b[39m A\n",
      "\u001b[1;31mTypeError\u001b[0m: Image data of dtype object cannot be converted to float"
     ]
    },
    {
     "data": {
      "image/png": "[encoded data removed]",
      "text/plain": [
       "<Figure size 800x600 with 1 Axes>"
      ]
     },
     "metadata": {},
     "output_type": "display_data"
    }
   ],
   "source": [
    "import seaborn as sns\n",
    "import matplotlib.pyplot as plt\n",
    "import pandas as pd\n",
    "\n",
    "# Ejemplo de datos\n",
    "df = datos_mapeo\n",
    "\n",
    "# Normalización de datos (opcional)\n",
    "df[\"% Nativa\"] = df[\"Española\"] / df[\"Total\"]\n",
    "df[\"% Extranjera\"] = df[\"Extranjera\"] / df[\"Total\"]\n",
    "\n",
    "# Crear matriz para el heatmap\n",
    "heatmap_data = df[[\"% Nativa\", \"% Extranjera\"]].T\n",
    "heatmap_data.columns = df[\"Provincia\"]\n",
    "\n",
    "# Crear heatmap\n",
    "plt.figure(figsize=(8, 6))\n",
    "sns.heatmap(heatmap_data, annot=True, cmap=\"coolwarm\", cbar_kws={'label': 'Proporción'})\n",
    "plt.title(\"Distribución de Población por Provincia\")\n",
    "plt.ylabel(\"Categoría de Población\")\n",
    "plt.xlabel(\"Provincia\")\n",
    "plt.show()\n"
   ]
  },
  {
   "cell_type": "code",
   "execution_count": 94,
   "metadata": {},
   "outputs": [
    {
     "name": "stdout",
     "output_type": "stream",
     "text": [
      "Provincia        object\n",
      "Total            object\n",
      "Española         object\n",
      "Extranjera       object\n",
      "Latitud         float64\n",
      "Longitud        float64\n",
      "% Nativa         object\n",
      "% Extranjera     object\n",
      "dtype: object\n"
     ]
    }
   ],
   "source": [
    "print(df.dtypes)  # Si estás trabajando con un DataFrame\n",
    "\n",
    "\n"
   ]
  },
  {
   "cell_type": "code",
   "execution_count": 95,
   "metadata": {},
   "outputs": [
    {
     "data": {
      "text/plain": [
       "<bound method NDFrame.head of 0                01 Araba/Álava\n",
       "1                   02 Albacete\n",
       "2           03 Alicante/Alacant\n",
       "3                    04 Almería\n",
       "4                  15 Coruña, A\n",
       "5                   33 Asturias\n",
       "6                      05 Ávila\n",
       "7                    06 Badajoz\n",
       "8                  08 Barcelona\n",
       "9                     09 Burgos\n",
       "10                   10 Cáceres\n",
       "11                     11 Cádiz\n",
       "12                 39 Cantabria\n",
       "13        12 Castellón/Castelló\n",
       "14               13 Ciudad Real\n",
       "15                   14 Córdoba\n",
       "16                    16 Cuenca\n",
       "17                    17 Girona\n",
       "18                   18 Granada\n",
       "19               19 Guadalajara\n",
       "20                  20 Gipuzkoa\n",
       "21                    21 Huelva\n",
       "22                    22 Huesca\n",
       "23            07 Balears, Illes\n",
       "24                      23 Jaén\n",
       "25                 26 Rioja, La\n",
       "26               35 Palmas, Las\n",
       "27                      24 León\n",
       "28                    25 Lleida\n",
       "29                      27 Lugo\n",
       "30                    28 Madrid\n",
       "31                    29 Málaga\n",
       "32                    30 Murcia\n",
       "33                   31 Navarra\n",
       "34                   32 Ourense\n",
       "35                  34 Palencia\n",
       "36                36 Pontevedra\n",
       "37                 37 Salamanca\n",
       "38    38 Santa Cruz de Tenerife\n",
       "39                   40 Segovia\n",
       "40                   41 Sevilla\n",
       "41                     42 Soria\n",
       "42                 43 Tarragona\n",
       "43                    44 Teruel\n",
       "44                    45 Toledo\n",
       "45         46 Valencia/València\n",
       "46                47 Valladolid\n",
       "47                   48 Bizkaia\n",
       "48                    49 Zamora\n",
       "49                  50 Zaragoza\n",
       "Name: Provincia, dtype: object>"
      ]
     },
     "execution_count": 95,
     "metadata": {},
     "output_type": "execute_result"
    }
   ],
   "source": [
    "columnas = ['Total','Extranjera','Española',]\n",
    "for col in columnas:\n",
    "    df[col] = pd.to_numeric(df[col], errors=\"coerce\")\n",
    "df['Provincia'].head"
   ]
  },
  {
   "cell_type": "markdown",
   "metadata": {},
   "source": [
    "### Segunda Visualizacion"
   ]
  },
  {
   "cell_type": "code",
   "execution_count": 96,
   "metadata": {},
   "outputs": [
    {
     "data": {
      "application/vnd.plotly.v1+json": {
       "config": {
        "plotlyServerURL": "https://plot.ly"
       },
       "data": [
        {
         "customdata": [
          [
           301302,
           35006
          ],
          [
           356856,
           30673
          ],
          [
           1518766,
           436502
          ],
          [
           583918,
           169446
          ],
          [
           952488,
           53572
          ],
          [
           1068748,
           55136
          ],
          [
           146896,
           12868
          ],
          [
           642287,
           23762
          ],
          [
           4846649,
           950707
          ],
          [
           324220,
           33150
          ],
          [
           372577,
           15680
          ],
          [
           1195185,
           59681
          ],
          [
           546676,
           41711
          ],
          [
           503118,
           100968
          ],
          [
           457054,
           34873
          ],
          [
           748997,
           26005
          ],
          [
           172214,
           26222
          ],
          [
           637190,
           171482
          ],
          [
           856467,
           77605
          ],
          [
           233675,
           41407
          ],
          [
           660601,
           66111
          ],
          [
           477639,
           56445
          ],
          [
           194952,
           31926
          ],
          [
           962237,
           247669
          ],
          [
           600652,
           19985
          ],
          [
           277946,
           44336
          ],
          [
           991714,
           154129
          ],
          [
           425175,
           23398
          ],
          [
           358987,
           88356
          ],
          [
           304508,
           19759
          ],
          [
           5830014,
           1041889
          ],
          [
           1438368,
           314360
          ],
          [
           1314926,
           236766
          ],
          [
           591214,
           80941
          ],
          [
           285080,
           19483
          ],
          [
           149206,
           8581
          ],
          [
           901782,
           44928
          ],
          [
           308483,
           18606
          ],
          [
           906779,
           160394
          ],
          [
           135317,
           20015
          ],
          [
           1869197,
           90197
          ],
          [
           79165,
           10363
          ],
          [
           697156,
           151436
          ],
          [
           118354,
           16692
          ],
          [
           644114,
           86998
          ],
          [
           2306155,
           350686
          ],
          [
           487981,
           33352
          ],
          [
           1054185,
           99097
          ],
          [
           159326,
           7601
          ],
          [
           846939,
           132426
          ]
         ],
         "hovertemplate": "<b>%{hovertext}</b><br><br>Extranjera=%{customdata[1]}<br>Latitud=%{lat}<br>Longitud=%{lon}<br>Española=%{customdata[0]}<br>Proporcion Extranjera=%{marker.color}<extra></extra>",
         "hovertext": [
          "01 Araba/Álava",
          "02 Albacete",
          "03 Alicante/Alacant",
          "04 Almería",
          "15 Coruña, A",
          "33 Asturias",
          "05 Ávila",
          "06 Badajoz",
          "08 Barcelona",
          "09 Burgos",
          "10 Cáceres",
          "11 Cádiz",
          "39 Cantabria",
          "12 Castellón/Castelló",
          "13 Ciudad Real",
          "14 Córdoba",
          "16 Cuenca",
          "17 Girona",
          "18 Granada",
          "19 Guadalajara",
          "20 Gipuzkoa",
          "21 Huelva",
          "22 Huesca",
          "07 Balears, Illes",
          "23 Jaén",
          "26 Rioja, La",
          "35 Palmas, Las",
          "24 León",
          "25 Lleida",
          "27 Lugo",
          "28 Madrid",
          "29 Málaga",
          "30 Murcia",
          "31 Navarra",
          "32 Ourense",
          "34 Palencia",
          "36 Pontevedra",
          "37 Salamanca",
          "38 Santa Cruz de Tenerife",
          "40 Segovia",
          "41 Sevilla",
          "42 Soria",
          "43 Tarragona",
          "44 Teruel",
          "45 Toledo",
          "46 Valencia/València",
          "47 Valladolid",
          "48 Bizkaia",
          "49 Zamora",
          "50 Zaragoza"
         ],
         "lat": [
          42.85,
          38.994,
          38.3452,
          36.834,
          43.361,
          43.3623,
          40.656,
          38.8795,
          41.3784,
          42.34,
          39.4753,
          36.5297,
          43.4623,
          39.9834,
          38.9833,
          37.8882,
          40.0735,
          41.9794,
          37.1773,
          40.6333,
          43.3183,
          37.2617,
          42.1401,
          39.5696,
          37.7799,
          42.4687,
          28.1235,
          42.5987,
          41.6177,
          43.0027,
          40.4168,
          36.7213,
          37.9835,
          42.8125,
          42.3358,
          42.008,
          42.4385,
          40.9704,
          28.4636,
          40.9481,
          37.3886,
          41.7632,
          41.1189,
          40.3451,
          39.8628,
          39.4699,
          41.6523,
          43.263,
          41.5037,
          41.6488
         ],
         "legendgroup": "",
         "lon": [
          -2.6725,
          -1.8585,
          -0.481,
          -2.4637,
          -5.8494,
          -8.4115,
          -4.6999,
          -6.9707,
          2.1926,
          -3.6997,
          -6.3729,
          -6.2919,
          -3.8043,
          -0.033,
          -3.9333,
          -4.7794,
          -2.1367,
          2.8213,
          -3.5986,
          -3.1667,
          -2.934,
          -6.9447,
          -0.408,
          2.6502,
          -3.7794,
          -2.4448,
          -15.4367,
          -3.567,
          0.6226,
          -7.5584,
          -3.7038,
          -4.4216,
          -1.1296,
          -1.6458,
          -7.8633,
          -4.5235,
          -8.6445,
          -5.6635,
          -16.2519,
          -4.1075,
          -5.9823,
          -2.4676,
          -1.9812,
          -1.1063,
          -4.0273,
          -0.3763,
          -4.7245,
          -2.934,
          -5.7498,
          -0.8891
         ],
         "marker": {
          "color": [
           0.1040891087931301,
           0.07915020553300527,
           0.22324407702678098,
           0.22491916258276212,
           0.053249309186330834,
           0.049058443753981724,
           0.08054380210810946,
           0.035676053863904905,
           0.16398975670978289,
           0.09276100400145508,
           0.04038562086453045,
           0.047559659756499895,
           0.0708904173613625,
           0.1671417645831885,
           0.07089059962148855,
           0.033554752116768734,
           0.13214336108367433,
           0.21205383641328004,
           0.08308246045272741,
           0.1505260249671007,
           0.0909727650018164,
           0.10568562248635047,
           0.14071880041255652,
           0.20470102636072554,
           0.032200787255674414,
           0.13756896134441265,
           0.13451144703070142,
           0.05216096376732438,
           0.197512870437226,
           0.060934353480310975,
           0.151615789687369,
           0.17935469736319612,
           0.15258569355258647,
           0.12042014118767248,
           0.0639703443950841,
           0.05438344096788709,
           0.04745698260290902,
           0.05688360048794059,
           0.15029803040369275,
           0.1288530373651276,
           0.04603311023714475,
           0.11575149673845055,
           0.17845560646341233,
           0.12360232809561186,
           0.11899408025035836,
           0.13199359690700346,
           0.06397446545681934,
           0.08592607879079012,
           0.0455348745259904,
           0.13521618599807017
          ],
          "coloraxis": "coloraxis",
          "size": [
           35006,
           30673,
           436502,
           169446,
           53572,
           55136,
           12868,
           23762,
           950707,
           33150,
           15680,
           59681,
           41711,
           100968,
           34873,
           26005,
           26222,
           171482,
           77605,
           41407,
           66111,
           56445,
           31926,
           247669,
           19985,
           44336,
           154129,
           23398,
           88356,
           19759,
           1041889,
           314360,
           236766,
           80941,
           19483,
           8581,
           44928,
           18606,
           160394,
           20015,
           90197,
           10363,
           151436,
           16692,
           86998,
           350686,
           33352,
           99097,
           7601,
           132426
          ],
          "sizemode": "area",
          "sizeref": 4630.6177777777775
         },
         "mode": "markers",
         "name": "",
         "showlegend": false,
         "subplot": "mapbox",
         "type": "scattermapbox"
        }
       ],
       "layout": {
        "coloraxis": {
         "colorbar": {
          "title": {
           "text": "Proporcion Extranjera"
          }
         },
         "colorscale": [
          [
           0,
           "#440154"
          ],
          [
           0.1111111111111111,
           "#482878"
          ],
          [
           0.2222222222222222,
           "#3e4989"
          ],
          [
           0.3333333333333333,
           "#31688e"
          ],
          [
           0.4444444444444444,
           "#26828e"
          ],
          [
           0.5555555555555556,
           "#1f9e89"
          ],
          [
           0.6666666666666666,
           "#35b779"
          ],
          [
           0.7777777777777778,
           "#6ece58"
          ],
          [
           0.8888888888888888,
           "#b5de2b"
          ],
          [
           1,
           "#fde725"
          ]
         ]
        },
        "legend": {
         "itemsizing": "constant",
         "tracegroupgap": 0
        },
        "mapbox": {
         "center": {
          "lat": 40.083636,
          "lon": -3.8840680000000005
         },
         "domain": {
          "x": [
           0,
           1
          ],
          "y": [
           0,
           1
          ]
         },
         "style": "carto-positron",
         "zoom": 6
        },
        "margin": {
         "t": 60
        },
        "template": {
         "data": {
          "bar": [
           {
            "error_x": {
             "color": "#2a3f5f"
            },
            "error_y": {
             "color": "#2a3f5f"
            },
            "marker": {
             "line": {
              "color": "#E5ECF6",
              "width": 0.5
             },
             "pattern": {
              "fillmode": "overlay",
              "size": 10,
              "solidity": 0.2
             }
            },
            "type": "bar"
           }
          ],
          "barpolar": [
           {
            "marker": {
             "line": {
              "color": "#E5ECF6",
              "width": 0.5
             },
             "pattern": {
              "fillmode": "overlay",
              "size": 10,
              "solidity": 0.2
             }
            },
            "type": "barpolar"
           }
          ],
          "carpet": [
           {
            "aaxis": {
             "endlinecolor": "#2a3f5f",
             "gridcolor": "white",
             "linecolor": "white",
             "minorgridcolor": "white",
             "startlinecolor": "#2a3f5f"
            },
            "baxis": {
             "endlinecolor": "#2a3f5f",
             "gridcolor": "white",
             "linecolor": "white",
             "minorgridcolor": "white",
             "startlinecolor": "#2a3f5f"
            },
            "type": "carpet"
           }
          ],
          "choropleth": [
           {
            "colorbar": {
             "outlinewidth": 0,
             "ticks": ""
            },
            "type": "choropleth"
           }
          ],
          "contour": [
           {
            "colorbar": {
             "outlinewidth": 0,
             "ticks": ""
            },
            "colorscale": [
             [
              0,
              "#0d0887"
             ],
             [
              0.1111111111111111,
              "#46039f"
             ],
             [
              0.2222222222222222,
              "#7201a8"
             ],
             [
              0.3333333333333333,
              "#9c179e"
             ],
             [
              0.4444444444444444,
              "#bd3786"
             ],
             [
              0.5555555555555556,
              "#d8576b"
             ],
             [
              0.6666666666666666,
              "#ed7953"
             ],
             [
              0.7777777777777778,
              "#fb9f3a"
             ],
             [
              0.8888888888888888,
              "#fdca26"
             ],
             [
              1,
              "#f0f921"
             ]
            ],
            "type": "contour"
           }
          ],
          "contourcarpet": [
           {
            "colorbar": {
             "outlinewidth": 0,
             "ticks": ""
            },
            "type": "contourcarpet"
           }
          ],
          "heatmap": [
           {
            "colorbar": {
             "outlinewidth": 0,
             "ticks": ""
            },
            "colorscale": [
             [
              0,
              "#0d0887"
             ],
             [
              0.1111111111111111,
              "#46039f"
             ],
             [
              0.2222222222222222,
              "#7201a8"
             ],
             [
              0.3333333333333333,
              "#9c179e"
             ],
             [
              0.4444444444444444,
              "#bd3786"
             ],
             [
              0.5555555555555556,
              "#d8576b"
             ],
             [
              0.6666666666666666,
              "#ed7953"
             ],
             [
              0.7777777777777778,
              "#fb9f3a"
             ],
             [
              0.8888888888888888,
              "#fdca26"
             ],
             [
              1,
              "#f0f921"
             ]
            ],
            "type": "heatmap"
           }
          ],
          "heatmapgl": [
           {
            "colorbar": {
             "outlinewidth": 0,
             "ticks": ""
            },
            "colorscale": [
             [
              0,
              "#0d0887"
             ],
             [
              0.1111111111111111,
              "#46039f"
             ],
             [
              0.2222222222222222,
              "#7201a8"
             ],
             [
              0.3333333333333333,
              "#9c179e"
             ],
             [
              0.4444444444444444,
              "#bd3786"
             ],
             [
              0.5555555555555556,
              "#d8576b"
             ],
             [
              0.6666666666666666,
              "#ed7953"
             ],
             [
              0.7777777777777778,
              "#fb9f3a"
             ],
             [
              0.8888888888888888,
              "#fdca26"
             ],
             [
              1,
              "#f0f921"
             ]
            ],
            "type": "heatmapgl"
           }
          ],
          "histogram": [
           {
            "marker": {
             "pattern": {
              "fillmode": "overlay",
              "size": 10,
              "solidity": 0.2
             }
            },
            "type": "histogram"
           }
          ],
          "histogram2d": [
           {
            "colorbar": {
             "outlinewidth": 0,
             "ticks": ""
            },
            "colorscale": [
             [
              0,
              "#0d0887"
             ],
             [
              0.1111111111111111,
              "#46039f"
             ],
             [
              0.2222222222222222,
              "#7201a8"
             ],
             [
              0.3333333333333333,
              "#9c179e"
             ],
             [
              0.4444444444444444,
              "#bd3786"
             ],
             [
              0.5555555555555556,
              "#d8576b"
             ],
             [
              0.6666666666666666,
              "#ed7953"
             ],
             [
              0.7777777777777778,
              "#fb9f3a"
             ],
             [
              0.8888888888888888,
              "#fdca26"
             ],
             [
              1,
              "#f0f921"
             ]
            ],
            "type": "histogram2d"
           }
          ],
          "histogram2dcontour": [
           {
            "colorbar": {
             "outlinewidth": 0,
             "ticks": ""
            },
            "colorscale": [
             [
              0,
              "#0d0887"
             ],
             [
              0.1111111111111111,
              "#46039f"
             ],
             [
              0.2222222222222222,
              "#7201a8"
             ],
             [
              0.3333333333333333,
              "#9c179e"
             ],
             [
              0.4444444444444444,
              "#bd3786"
             ],
             [
              0.5555555555555556,
              "#d8576b"
             ],
             [
              0.6666666666666666,
              "#ed7953"
             ],
             [
              0.7777777777777778,
              "#fb9f3a"
             ],
             [
              0.8888888888888888,
              "#fdca26"
             ],
             [
              1,
              "#f0f921"
             ]
            ],
            "type": "histogram2dcontour"
           }
          ],
          "mesh3d": [
           {
            "colorbar": {
             "outlinewidth": 0,
             "ticks": ""
            },
            "type": "mesh3d"
           }
          ],
          "parcoords": [
           {
            "line": {
             "colorbar": {
              "outlinewidth": 0,
              "ticks": ""
             }
            },
            "type": "parcoords"
           }
          ],
          "pie": [
           {
            "automargin": true,
            "type": "pie"
           }
          ],
          "scatter": [
           {
            "fillpattern": {
             "fillmode": "overlay",
             "size": 10,
             "solidity": 0.2
            },
            "type": "scatter"
           }
          ],
          "scatter3d": [
           {
            "line": {
             "colorbar": {
              "outlinewidth": 0,
              "ticks": ""
             }
            },
            "marker": {
             "colorbar": {
              "outlinewidth": 0,
              "ticks": ""
             }
            },
            "type": "scatter3d"
           }
          ],
          "scattercarpet": [
           {
            "marker": {
             "colorbar": {
              "outlinewidth": 0,
              "ticks": ""
             }
            },
            "type": "scattercarpet"
           }
          ],
          "scattergeo": [
           {
            "marker": {
             "colorbar": {
              "outlinewidth": 0,
              "ticks": ""
             }
            },
            "type": "scattergeo"
           }
          ],
          "scattergl": [
           {
            "marker": {
             "colorbar": {
              "outlinewidth": 0,
              "ticks": ""
             }
            },
            "type": "scattergl"
           }
          ],
          "scattermapbox": [
           {
            "marker": {
             "colorbar": {
              "outlinewidth": 0,
              "ticks": ""
             }
            },
            "type": "scattermapbox"
           }
          ],
          "scatterpolar": [
           {
            "marker": {
             "colorbar": {
              "outlinewidth": 0,
              "ticks": ""
             }
            },
            "type": "scatterpolar"
           }
          ],
          "scatterpolargl": [
           {
            "marker": {
             "colorbar": {
              "outlinewidth": 0,
              "ticks": ""
             }
            },
            "type": "scatterpolargl"
           }
          ],
          "scatterternary": [
           {
            "marker": {
             "colorbar": {
              "outlinewidth": 0,
              "ticks": ""
             }
            },
            "type": "scatterternary"
           }
          ],
          "surface": [
           {
            "colorbar": {
             "outlinewidth": 0,
             "ticks": ""
            },
            "colorscale": [
             [
              0,
              "#0d0887"
             ],
             [
              0.1111111111111111,
              "#46039f"
             ],
             [
              0.2222222222222222,
              "#7201a8"
             ],
             [
              0.3333333333333333,
              "#9c179e"
             ],
             [
              0.4444444444444444,
              "#bd3786"
             ],
             [
              0.5555555555555556,
              "#d8576b"
             ],
             [
              0.6666666666666666,
              "#ed7953"
             ],
             [
              0.7777777777777778,
              "#fb9f3a"
             ],
             [
              0.8888888888888888,
              "#fdca26"
             ],
             [
              1,
              "#f0f921"
             ]
            ],
            "type": "surface"
           }
          ],
          "table": [
           {
            "cells": {
             "fill": {
              "color": "#EBF0F8"
             },
             "line": {
              "color": "white"
             }
            },
            "header": {
             "fill": {
              "color": "#C8D4E3"
             },
             "line": {
              "color": "white"
             }
            },
            "type": "table"
           }
          ]
         },
         "layout": {
          "annotationdefaults": {
           "arrowcolor": "#2a3f5f",
           "arrowhead": 0,
           "arrowwidth": 1
          },
          "autotypenumbers": "strict",
          "coloraxis": {
           "colorbar": {
            "outlinewidth": 0,
            "ticks": ""
           }
          },
          "colorscale": {
           "diverging": [
            [
             0,
             "#8e0152"
            ],
            [
             0.1,
             "#c51b7d"
            ],
            [
             0.2,
             "#de77ae"
            ],
            [
             0.3,
             "#f1b6da"
            ],
            [
             0.4,
             "#fde0ef"
            ],
            [
             0.5,
             "#f7f7f7"
            ],
            [
             0.6,
             "#e6f5d0"
            ],
            [
             0.7,
             "#b8e186"
            ],
            [
             0.8,
             "#7fbc41"
            ],
            [
             0.9,
             "#4d9221"
            ],
            [
             1,
             "#276419"
            ]
           ],
           "sequential": [
            [
             0,
             "#0d0887"
            ],
            [
             0.1111111111111111,
             "#46039f"
            ],
            [
             0.2222222222222222,
             "#7201a8"
            ],
            [
             0.3333333333333333,
             "#9c179e"
            ],
            [
             0.4444444444444444,
             "#bd3786"
            ],
            [
             0.5555555555555556,
             "#d8576b"
            ],
            [
             0.6666666666666666,
             "#ed7953"
            ],
            [
             0.7777777777777778,
             "#fb9f3a"
            ],
            [
             0.8888888888888888,
             "#fdca26"
            ],
            [
             1,
             "#f0f921"
            ]
           ],
           "sequentialminus": [
            [
             0,
             "#0d0887"
            ],
            [
             0.1111111111111111,
             "#46039f"
            ],
            [
             0.2222222222222222,
             "#7201a8"
            ],
            [
             0.3333333333333333,
             "#9c179e"
            ],
            [
             0.4444444444444444,
             "#bd3786"
            ],
            [
             0.5555555555555556,
             "#d8576b"
            ],
            [
             0.6666666666666666,
             "#ed7953"
            ],
            [
             0.7777777777777778,
             "#fb9f3a"
            ],
            [
             0.8888888888888888,
             "#fdca26"
            ],
            [
             1,
             "#f0f921"
            ]
           ]
          },
          "colorway": [
           "#636efa",
           "#EF553B",
           "#00cc96",
           "#ab63fa",
           "#FFA15A",
           "#19d3f3",
           "#FF6692",
           "#B6E880",
           "#FF97FF",
           "#FECB52"
          ],
          "font": {
           "color": "#2a3f5f"
          },
          "geo": {
           "bgcolor": "white",
           "lakecolor": "white",
           "landcolor": "#E5ECF6",
           "showlakes": true,
           "showland": true,
           "subunitcolor": "white"
          },
          "hoverlabel": {
           "align": "left"
          },
          "hovermode": "closest",
          "mapbox": {
           "style": "light"
          },
          "paper_bgcolor": "white",
          "plot_bgcolor": "#E5ECF6",
          "polar": {
           "angularaxis": {
            "gridcolor": "white",
            "linecolor": "white",
            "ticks": ""
           },
           "bgcolor": "#E5ECF6",
           "radialaxis": {
            "gridcolor": "white",
            "linecolor": "white",
            "ticks": ""
           }
          },
          "scene": {
           "xaxis": {
            "backgroundcolor": "#E5ECF6",
            "gridcolor": "white",
            "gridwidth": 2,
            "linecolor": "white",
            "showbackground": true,
            "ticks": "",
            "zerolinecolor": "white"
           },
           "yaxis": {
            "backgroundcolor": "#E5ECF6",
            "gridcolor": "white",
            "gridwidth": 2,
            "linecolor": "white",
            "showbackground": true,
            "ticks": "",
            "zerolinecolor": "white"
           },
           "zaxis": {
            "backgroundcolor": "#E5ECF6",
            "gridcolor": "white",
            "gridwidth": 2,
            "linecolor": "white",
            "showbackground": true,
            "ticks": "",
            "zerolinecolor": "white"
           }
          },
          "shapedefaults": {
           "line": {
            "color": "#2a3f5f"
           }
          },
          "ternary": {
           "aaxis": {
            "gridcolor": "white",
            "linecolor": "white",
            "ticks": ""
           },
           "baxis": {
            "gridcolor": "white",
            "linecolor": "white",
            "ticks": ""
           },
           "bgcolor": "#E5ECF6",
           "caxis": {
            "gridcolor": "white",
            "linecolor": "white",
            "ticks": ""
           }
          },
          "title": {
           "x": 0.05
          },
          "xaxis": {
           "automargin": true,
           "gridcolor": "white",
           "linecolor": "white",
           "ticks": "",
           "title": {
            "standoff": 15
           },
           "zerolinecolor": "white",
           "zerolinewidth": 2
          },
          "yaxis": {
           "automargin": true,
           "gridcolor": "white",
           "linecolor": "white",
           "ticks": "",
           "title": {
            "standoff": 15
           },
           "zerolinecolor": "white",
           "zerolinewidth": 2
          }
         }
        },
        "title": {
         "text": "Distribución de Población Nativa y Extranjera"
        }
       }
      }
     },
     "metadata": {},
     "output_type": "display_data"
    }
   ],
   "source": [
    "import plotly.express as px\n",
    "import pandas as pd\n",
    "\n",
    "# Datos de ejemplo\n",
    "df = datos_mapeo\n",
    "\n",
    "# Crear columna de proporción de extranjeros\n",
    "df[\"Proporcion Extranjera\"] = df[\"Extranjera\"] / (df['Total'])\n",
    "\n",
    "# Crear mapa interactivo\n",
    "fig = px.scatter_mapbox(\n",
    "    df,\n",
    "    lat=\"Latitud\",\n",
    "    lon=\"Longitud\",\n",
    "    size=\"Extranjera\",\n",
    "    color=\"Proporcion Extranjera\",\n",
    "    hover_name=\"Provincia\",\n",
    "    hover_data={\"Española\": True, \"Extranjera\": True},\n",
    "    color_continuous_scale=px.colors.sequential.Viridis,\n",
    "    size_max=15,\n",
    "    zoom=6,\n",
    "    mapbox_style=\"carto-positron\"  # Puedes cambiar el estilo del mapa\n",
    ")\n",
    "\n",
    "fig.update_layout(title=\"Distribución de Población Nativa y Extranjera\")\n",
    "fig.show()\n"
   ]
  },
  {
   "cell_type": "code",
   "execution_count": null,
   "metadata": {},
   "outputs": [
    {
     "ename": "NameError",
     "evalue": "name 'pd' is not defined",
     "output_type": "error",
     "traceback": [
      "\u001b[1;31m---------------------------------------------------------------------------\u001b[0m",
      "\u001b[1;31mNameError\u001b[0m                                 Traceback (most recent call last)",
      "Cell \u001b[1;32mIn[1], line 1\u001b[0m\n\u001b[1;32m----> 1\u001b[0m df[\u001b[38;5;124m\"\u001b[39m\u001b[38;5;124mExtranjera\u001b[39m\u001b[38;5;124m\"\u001b[39m] \u001b[38;5;241m=\u001b[39m \u001b[43mpd\u001b[49m\u001b[38;5;241m.\u001b[39mto_numeric(df[\u001b[38;5;124m\"\u001b[39m\u001b[38;5;124mExtranjera\u001b[39m\u001b[38;5;124m\"\u001b[39m], errors\u001b[38;5;241m=\u001b[39m\u001b[38;5;124m\"\u001b[39m\u001b[38;5;124mcoerce\u001b[39m\u001b[38;5;124m\"\u001b[39m)\n",
      "\u001b[1;31mNameError\u001b[0m: name 'pd' is not defined"
     ]
    }
   ],
   "source": [
    "df[\"Extranjera\"] = pd.to_numeric(df[\"Extranjera\"], errors=\"coerce\")\n"
   ]
  },
  {
   "cell_type": "markdown",
   "metadata": {},
   "source": [
    "### Choroleth Map"
   ]
  },
  {
   "cell_type": "code",
   "execution_count": 97,
   "metadata": {},
   "outputs": [
    {
     "data": {
      "application/vnd.plotly.v1+json": {
       "config": {
        "plotlyServerURL": "https://plot.ly"
       },
       "data": [
        {
         "hovertemplate": "<b>%{hovertext}</b><br><br>Extranjera=%{marker.color}<br>Latitud=%{lat}<br>Longitud=%{lon}<extra></extra>",
         "hovertext": [
          "01 Araba/Álava",
          "02 Albacete",
          "03 Alicante/Alacant",
          "04 Almería",
          "15 Coruña, A",
          "33 Asturias",
          "05 Ávila",
          "06 Badajoz",
          "08 Barcelona",
          "09 Burgos",
          "10 Cáceres",
          "11 Cádiz",
          "39 Cantabria",
          "12 Castellón/Castelló",
          "13 Ciudad Real",
          "14 Córdoba",
          "16 Cuenca",
          "17 Girona",
          "18 Granada",
          "19 Guadalajara",
          "20 Gipuzkoa",
          "21 Huelva",
          "22 Huesca",
          "07 Balears, Illes",
          "23 Jaén",
          "26 Rioja, La",
          "35 Palmas, Las",
          "24 León",
          "25 Lleida",
          "27 Lugo",
          "28 Madrid",
          "29 Málaga",
          "30 Murcia",
          "31 Navarra",
          "32 Ourense",
          "34 Palencia",
          "36 Pontevedra",
          "37 Salamanca",
          "38 Santa Cruz de Tenerife",
          "40 Segovia",
          "41 Sevilla",
          "42 Soria",
          "43 Tarragona",
          "44 Teruel",
          "45 Toledo",
          "46 Valencia/València",
          "47 Valladolid",
          "48 Bizkaia",
          "49 Zamora",
          "50 Zaragoza"
         ],
         "lat": [
          42.85,
          38.994,
          38.3452,
          36.834,
          43.361,
          43.3623,
          40.656,
          38.8795,
          41.3784,
          42.34,
          39.4753,
          36.5297,
          43.4623,
          39.9834,
          38.9833,
          37.8882,
          40.0735,
          41.9794,
          37.1773,
          40.6333,
          43.3183,
          37.2617,
          42.1401,
          39.5696,
          37.7799,
          42.4687,
          28.1235,
          42.5987,
          41.6177,
          43.0027,
          40.4168,
          36.7213,
          37.9835,
          42.8125,
          42.3358,
          42.008,
          42.4385,
          40.9704,
          28.4636,
          40.9481,
          37.3886,
          41.7632,
          41.1189,
          40.3451,
          39.8628,
          39.4699,
          41.6523,
          43.263,
          41.5037,
          41.6488
         ],
         "legendgroup": "",
         "lon": [
          -2.6725,
          -1.8585,
          -0.481,
          -2.4637,
          -5.8494,
          -8.4115,
          -4.6999,
          -6.9707,
          2.1926,
          -3.6997,
          -6.3729,
          -6.2919,
          -3.8043,
          -0.033,
          -3.9333,
          -4.7794,
          -2.1367,
          2.8213,
          -3.5986,
          -3.1667,
          -2.934,
          -6.9447,
          -0.408,
          2.6502,
          -3.7794,
          -2.4448,
          -15.4367,
          -3.567,
          0.6226,
          -7.5584,
          -3.7038,
          -4.4216,
          -1.1296,
          -1.6458,
          -7.8633,
          -4.5235,
          -8.6445,
          -5.6635,
          -16.2519,
          -4.1075,
          -5.9823,
          -2.4676,
          -1.9812,
          -1.1063,
          -4.0273,
          -0.3763,
          -4.7245,
          -2.934,
          -5.7498,
          -0.8891
         ],
         "marker": {
          "color": [
           35006,
           30673,
           436502,
           169446,
           53572,
           55136,
           12868,
           23762,
           950707,
           33150,
           15680,
           59681,
           41711,
           100968,
           34873,
           26005,
           26222,
           171482,
           77605,
           41407,
           66111,
           56445,
           31926,
           247669,
           19985,
           44336,
           154129,
           23398,
           88356,
           19759,
           1041889,
           314360,
           236766,
           80941,
           19483,
           8581,
           44928,
           18606,
           160394,
           20015,
           90197,
           10363,
           151436,
           16692,
           86998,
           350686,
           33352,
           99097,
           7601,
           132426
          ],
          "coloraxis": "coloraxis",
          "size": [
           35006,
           30673,
           436502,
           169446,
           53572,
           55136,
           12868,
           23762,
           950707,
           33150,
           15680,
           59681,
           41711,
           100968,
           34873,
           26005,
           26222,
           171482,
           77605,
           41407,
           66111,
           56445,
           31926,
           247669,
           19985,
           44336,
           154129,
           23398,
           88356,
           19759,
           1041889,
           314360,
           236766,
           80941,
           19483,
           8581,
           44928,
           18606,
           160394,
           20015,
           90197,
           10363,
           151436,
           16692,
           86998,
           350686,
           33352,
           99097,
           7601,
           132426
          ],
          "sizemode": "area",
          "sizeref": 2604.7225
         },
         "mode": "markers",
         "name": "",
         "showlegend": false,
         "subplot": "mapbox",
         "type": "scattermapbox"
        }
       ],
       "layout": {
        "coloraxis": {
         "colorbar": {
          "title": {
           "text": "Extranjera"
          }
         },
         "colorscale": [
          [
           0,
           "#440154"
          ],
          [
           0.1111111111111111,
           "#482878"
          ],
          [
           0.2222222222222222,
           "#3e4989"
          ],
          [
           0.3333333333333333,
           "#31688e"
          ],
          [
           0.4444444444444444,
           "#26828e"
          ],
          [
           0.5555555555555556,
           "#1f9e89"
          ],
          [
           0.6666666666666666,
           "#35b779"
          ],
          [
           0.7777777777777778,
           "#6ece58"
          ],
          [
           0.8888888888888888,
           "#b5de2b"
          ],
          [
           1,
           "#fde725"
          ]
         ]
        },
        "height": 600,
        "legend": {
         "itemsizing": "constant",
         "tracegroupgap": 0
        },
        "mapbox": {
         "center": {
          "lat": 40.083636,
          "lon": -3.8840680000000005
         },
         "domain": {
          "x": [
           0,
           1
          ],
          "y": [
           0,
           1
          ]
         },
         "style": "carto-positron",
         "zoom": 5
        },
        "template": {
         "data": {
          "bar": [
           {
            "error_x": {
             "color": "#2a3f5f"
            },
            "error_y": {
             "color": "#2a3f5f"
            },
            "marker": {
             "line": {
              "color": "#E5ECF6",
              "width": 0.5
             },
             "pattern": {
              "fillmode": "overlay",
              "size": 10,
              "solidity": 0.2
             }
            },
            "type": "bar"
           }
          ],
          "barpolar": [
           {
            "marker": {
             "line": {
              "color": "#E5ECF6",
              "width": 0.5
             },
             "pattern": {
              "fillmode": "overlay",
              "size": 10,
              "solidity": 0.2
             }
            },
            "type": "barpolar"
           }
          ],
          "carpet": [
           {
            "aaxis": {
             "endlinecolor": "#2a3f5f",
             "gridcolor": "white",
             "linecolor": "white",
             "minorgridcolor": "white",
             "startlinecolor": "#2a3f5f"
            },
            "baxis": {
             "endlinecolor": "#2a3f5f",
             "gridcolor": "white",
             "linecolor": "white",
             "minorgridcolor": "white",
             "startlinecolor": "#2a3f5f"
            },
            "type": "carpet"
           }
          ],
          "choropleth": [
           {
            "colorbar": {
             "outlinewidth": 0,
             "ticks": ""
            },
            "type": "choropleth"
           }
          ],
          "contour": [
           {
            "colorbar": {
             "outlinewidth": 0,
             "ticks": ""
            },
            "colorscale": [
             [
              0,
              "#0d0887"
             ],
             [
              0.1111111111111111,
              "#46039f"
             ],
             [
              0.2222222222222222,
              "#7201a8"
             ],
             [
              0.3333333333333333,
              "#9c179e"
             ],
             [
              0.4444444444444444,
              "#bd3786"
             ],
             [
              0.5555555555555556,
              "#d8576b"
             ],
             [
              0.6666666666666666,
              "#ed7953"
             ],
             [
              0.7777777777777778,
              "#fb9f3a"
             ],
             [
              0.8888888888888888,
              "#fdca26"
             ],
             [
              1,
              "#f0f921"
             ]
            ],
            "type": "contour"
           }
          ],
          "contourcarpet": [
           {
            "colorbar": {
             "outlinewidth": 0,
             "ticks": ""
            },
            "type": "contourcarpet"
           }
          ],
          "heatmap": [
           {
            "colorbar": {
             "outlinewidth": 0,
             "ticks": ""
            },
            "colorscale": [
             [
              0,
              "#0d0887"
             ],
             [
              0.1111111111111111,
              "#46039f"
             ],
             [
              0.2222222222222222,
              "#7201a8"
             ],
             [
              0.3333333333333333,
              "#9c179e"
             ],
             [
              0.4444444444444444,
              "#bd3786"
             ],
             [
              0.5555555555555556,
              "#d8576b"
             ],
             [
              0.6666666666666666,
              "#ed7953"
             ],
             [
              0.7777777777777778,
              "#fb9f3a"
             ],
             [
              0.8888888888888888,
              "#fdca26"
             ],
             [
              1,
              "#f0f921"
             ]
            ],
            "type": "heatmap"
           }
          ],
          "heatmapgl": [
           {
            "colorbar": {
             "outlinewidth": 0,
             "ticks": ""
            },
            "colorscale": [
             [
              0,
              "#0d0887"
             ],
             [
              0.1111111111111111,
              "#46039f"
             ],
             [
              0.2222222222222222,
              "#7201a8"
             ],
             [
              0.3333333333333333,
              "#9c179e"
             ],
             [
              0.4444444444444444,
              "#bd3786"
             ],
             [
              0.5555555555555556,
              "#d8576b"
             ],
             [
              0.6666666666666666,
              "#ed7953"
             ],
             [
              0.7777777777777778,
              "#fb9f3a"
             ],
             [
              0.8888888888888888,
              "#fdca26"
             ],
             [
              1,
              "#f0f921"
             ]
            ],
            "type": "heatmapgl"
           }
          ],
          "histogram": [
           {
            "marker": {
             "pattern": {
              "fillmode": "overlay",
              "size": 10,
              "solidity": 0.2
             }
            },
            "type": "histogram"
           }
          ],
          "histogram2d": [
           {
            "colorbar": {
             "outlinewidth": 0,
             "ticks": ""
            },
            "colorscale": [
             [
              0,
              "#0d0887"
             ],
             [
              0.1111111111111111,
              "#46039f"
             ],
             [
              0.2222222222222222,
              "#7201a8"
             ],
             [
              0.3333333333333333,
              "#9c179e"
             ],
             [
              0.4444444444444444,
              "#bd3786"
             ],
             [
              0.5555555555555556,
              "#d8576b"
             ],
             [
              0.6666666666666666,
              "#ed7953"
             ],
             [
              0.7777777777777778,
              "#fb9f3a"
             ],
             [
              0.8888888888888888,
              "#fdca26"
             ],
             [
              1,
              "#f0f921"
             ]
            ],
            "type": "histogram2d"
           }
          ],
          "histogram2dcontour": [
           {
            "colorbar": {
             "outlinewidth": 0,
             "ticks": ""
            },
            "colorscale": [
             [
              0,
              "#0d0887"
             ],
             [
              0.1111111111111111,
              "#46039f"
             ],
             [
              0.2222222222222222,
              "#7201a8"
             ],
             [
              0.3333333333333333,
              "#9c179e"
             ],
             [
              0.4444444444444444,
              "#bd3786"
             ],
             [
              0.5555555555555556,
              "#d8576b"
             ],
             [
              0.6666666666666666,
              "#ed7953"
             ],
             [
              0.7777777777777778,
              "#fb9f3a"
             ],
             [
              0.8888888888888888,
              "#fdca26"
             ],
             [
              1,
              "#f0f921"
             ]
            ],
            "type": "histogram2dcontour"
           }
          ],
          "mesh3d": [
           {
            "colorbar": {
             "outlinewidth": 0,
             "ticks": ""
            },
            "type": "mesh3d"
           }
          ],
          "parcoords": [
           {
            "line": {
             "colorbar": {
              "outlinewidth": 0,
              "ticks": ""
             }
            },
            "type": "parcoords"
           }
          ],
          "pie": [
           {
            "automargin": true,
            "type": "pie"
           }
          ],
          "scatter": [
           {
            "fillpattern": {
             "fillmode": "overlay",
             "size": 10,
             "solidity": 0.2
            },
            "type": "scatter"
           }
          ],
          "scatter3d": [
           {
            "line": {
             "colorbar": {
              "outlinewidth": 0,
              "ticks": ""
             }
            },
            "marker": {
             "colorbar": {
              "outlinewidth": 0,
              "ticks": ""
             }
            },
            "type": "scatter3d"
           }
          ],
          "scattercarpet": [
           {
            "marker": {
             "colorbar": {
              "outlinewidth": 0,
              "ticks": ""
             }
            },
            "type": "scattercarpet"
           }
          ],
          "scattergeo": [
           {
            "marker": {
             "colorbar": {
              "outlinewidth": 0,
              "ticks": ""
             }
            },
            "type": "scattergeo"
           }
          ],
          "scattergl": [
           {
            "marker": {
             "colorbar": {
              "outlinewidth": 0,
              "ticks": ""
             }
            },
            "type": "scattergl"
           }
          ],
          "scattermapbox": [
           {
            "marker": {
             "colorbar": {
              "outlinewidth": 0,
              "ticks": ""
             }
            },
            "type": "scattermapbox"
           }
          ],
          "scatterpolar": [
           {
            "marker": {
             "colorbar": {
              "outlinewidth": 0,
              "ticks": ""
             }
            },
            "type": "scatterpolar"
           }
          ],
          "scatterpolargl": [
           {
            "marker": {
             "colorbar": {
              "outlinewidth": 0,
              "ticks": ""
             }
            },
            "type": "scatterpolargl"
           }
          ],
          "scatterternary": [
           {
            "marker": {
             "colorbar": {
              "outlinewidth": 0,
              "ticks": ""
             }
            },
            "type": "scatterternary"
           }
          ],
          "surface": [
           {
            "colorbar": {
             "outlinewidth": 0,
             "ticks": ""
            },
            "colorscale": [
             [
              0,
              "#0d0887"
             ],
             [
              0.1111111111111111,
              "#46039f"
             ],
             [
              0.2222222222222222,
              "#7201a8"
             ],
             [
              0.3333333333333333,
              "#9c179e"
             ],
             [
              0.4444444444444444,
              "#bd3786"
             ],
             [
              0.5555555555555556,
              "#d8576b"
             ],
             [
              0.6666666666666666,
              "#ed7953"
             ],
             [
              0.7777777777777778,
              "#fb9f3a"
             ],
             [
              0.8888888888888888,
              "#fdca26"
             ],
             [
              1,
              "#f0f921"
             ]
            ],
            "type": "surface"
           }
          ],
          "table": [
           {
            "cells": {
             "fill": {
              "color": "#EBF0F8"
             },
             "line": {
              "color": "white"
             }
            },
            "header": {
             "fill": {
              "color": "#C8D4E3"
             },
             "line": {
              "color": "white"
             }
            },
            "type": "table"
           }
          ]
         },
         "layout": {
          "annotationdefaults": {
           "arrowcolor": "#2a3f5f",
           "arrowhead": 0,
           "arrowwidth": 1
          },
          "autotypenumbers": "strict",
          "coloraxis": {
           "colorbar": {
            "outlinewidth": 0,
            "ticks": ""
           }
          },
          "colorscale": {
           "diverging": [
            [
             0,
             "#8e0152"
            ],
            [
             0.1,
             "#c51b7d"
            ],
            [
             0.2,
             "#de77ae"
            ],
            [
             0.3,
             "#f1b6da"
            ],
            [
             0.4,
             "#fde0ef"
            ],
            [
             0.5,
             "#f7f7f7"
            ],
            [
             0.6,
             "#e6f5d0"
            ],
            [
             0.7,
             "#b8e186"
            ],
            [
             0.8,
             "#7fbc41"
            ],
            [
             0.9,
             "#4d9221"
            ],
            [
             1,
             "#276419"
            ]
           ],
           "sequential": [
            [
             0,
             "#0d0887"
            ],
            [
             0.1111111111111111,
             "#46039f"
            ],
            [
             0.2222222222222222,
             "#7201a8"
            ],
            [
             0.3333333333333333,
             "#9c179e"
            ],
            [
             0.4444444444444444,
             "#bd3786"
            ],
            [
             0.5555555555555556,
             "#d8576b"
            ],
            [
             0.6666666666666666,
             "#ed7953"
            ],
            [
             0.7777777777777778,
             "#fb9f3a"
            ],
            [
             0.8888888888888888,
             "#fdca26"
            ],
            [
             1,
             "#f0f921"
            ]
           ],
           "sequentialminus": [
            [
             0,
             "#0d0887"
            ],
            [
             0.1111111111111111,
             "#46039f"
            ],
            [
             0.2222222222222222,
             "#7201a8"
            ],
            [
             0.3333333333333333,
             "#9c179e"
            ],
            [
             0.4444444444444444,
             "#bd3786"
            ],
            [
             0.5555555555555556,
             "#d8576b"
            ],
            [
             0.6666666666666666,
             "#ed7953"
            ],
            [
             0.7777777777777778,
             "#fb9f3a"
            ],
            [
             0.8888888888888888,
             "#fdca26"
            ],
            [
             1,
             "#f0f921"
            ]
           ]
          },
          "colorway": [
           "#636efa",
           "#EF553B",
           "#00cc96",
           "#ab63fa",
           "#FFA15A",
           "#19d3f3",
           "#FF6692",
           "#B6E880",
           "#FF97FF",
           "#FECB52"
          ],
          "font": {
           "color": "#2a3f5f"
          },
          "geo": {
           "bgcolor": "white",
           "lakecolor": "white",
           "landcolor": "#E5ECF6",
           "showlakes": true,
           "showland": true,
           "subunitcolor": "white"
          },
          "hoverlabel": {
           "align": "left"
          },
          "hovermode": "closest",
          "mapbox": {
           "style": "light"
          },
          "paper_bgcolor": "white",
          "plot_bgcolor": "#E5ECF6",
          "polar": {
           "angularaxis": {
            "gridcolor": "white",
            "linecolor": "white",
            "ticks": ""
           },
           "bgcolor": "#E5ECF6",
           "radialaxis": {
            "gridcolor": "white",
            "linecolor": "white",
            "ticks": ""
           }
          },
          "scene": {
           "xaxis": {
            "backgroundcolor": "#E5ECF6",
            "gridcolor": "white",
            "gridwidth": 2,
            "linecolor": "white",
            "showbackground": true,
            "ticks": "",
            "zerolinecolor": "white"
           },
           "yaxis": {
            "backgroundcolor": "#E5ECF6",
            "gridcolor": "white",
            "gridwidth": 2,
            "linecolor": "white",
            "showbackground": true,
            "ticks": "",
            "zerolinecolor": "white"
           },
           "zaxis": {
            "backgroundcolor": "#E5ECF6",
            "gridcolor": "white",
            "gridwidth": 2,
            "linecolor": "white",
            "showbackground": true,
            "ticks": "",
            "zerolinecolor": "white"
           }
          },
          "shapedefaults": {
           "line": {
            "color": "#2a3f5f"
           }
          },
          "ternary": {
           "aaxis": {
            "gridcolor": "white",
            "linecolor": "white",
            "ticks": ""
           },
           "baxis": {
            "gridcolor": "white",
            "linecolor": "white",
            "ticks": ""
           },
           "bgcolor": "#E5ECF6",
           "caxis": {
            "gridcolor": "white",
            "linecolor": "white",
            "ticks": ""
           }
          },
          "title": {
           "x": 0.05
          },
          "xaxis": {
           "automargin": true,
           "gridcolor": "white",
           "linecolor": "white",
           "ticks": "",
           "title": {
            "standoff": 15
           },
           "zerolinecolor": "white",
           "zerolinewidth": 2
          },
          "yaxis": {
           "automargin": true,
           "gridcolor": "white",
           "linecolor": "white",
           "ticks": "",
           "title": {
            "standoff": 15
           },
           "zerolinecolor": "white",
           "zerolinewidth": 2
          }
         }
        },
        "title": {
         "text": "Mapa Coroplético de Población Extranjera por Provincia"
        }
       }
      }
     },
     "metadata": {},
     "output_type": "display_data"
    }
   ],
   "source": [
    "import plotly.express as px\n",
    "import pandas as pd\n",
    "\n",
    "# Datos de ejemplo\n",
    "df = datos_mapeo\n",
    "\n",
    "# Crear el mapa coroplético\n",
    "fig = px.scatter_mapbox(\n",
    "    df,\n",
    "    lat=\"Latitud\",\n",
    "    lon=\"Longitud\",\n",
    "    color=\"Extranjera\",  # Valores que determinan el color\n",
    "    size=\"Extranjera\",  # Tamaño proporcional al valor\n",
    "    hover_name=\"Provincia\",  # Mostrar la provincia al pasar el mouse\n",
    "    color_continuous_scale=\"Viridis\",  # Escala de colores\n",
    "    title=\"Mapa Coroplético de Población Extranjera por Provincia\",\n",
    "    zoom=5,\n",
    "    height=600\n",
    ")\n",
    "\n",
    "# Configurar estilo del mapa\n",
    "fig.update_layout(mapbox_style=\"carto-positron\")\n",
    "fig.show()\n"
   ]
  },
  {
   "cell_type": "code",
   "execution_count": 98,
   "metadata": {},
   "outputs": [
    {
     "data": {
      "application/vnd.plotly.v1+json": {
       "config": {
        "plotlyServerURL": "https://plot.ly"
       },
       "data": [
        {
         "hovertemplate": "<b>%{hovertext}</b><br><br>Total=%{marker.size}<br>Latitud=%{lat}<br>Longitud=%{lon}<br>Proporcion Extranjera=%{marker.color}<extra></extra>",
         "hovertext": [
          "01 Araba/Álava",
          "02 Albacete",
          "03 Alicante/Alacant",
          "04 Almería",
          "15 Coruña, A",
          "33 Asturias",
          "05 Ávila",
          "06 Badajoz",
          "08 Barcelona",
          "09 Burgos",
          "10 Cáceres",
          "11 Cádiz",
          "39 Cantabria",
          "12 Castellón/Castelló",
          "13 Ciudad Real",
          "14 Córdoba",
          "16 Cuenca",
          "17 Girona",
          "18 Granada",
          "19 Guadalajara",
          "20 Gipuzkoa",
          "21 Huelva",
          "22 Huesca",
          "07 Balears, Illes",
          "23 Jaén",
          "26 Rioja, La",
          "35 Palmas, Las",
          "24 León",
          "25 Lleida",
          "27 Lugo",
          "28 Madrid",
          "29 Málaga",
          "30 Murcia",
          "31 Navarra",
          "32 Ourense",
          "34 Palencia",
          "36 Pontevedra",
          "37 Salamanca",
          "38 Santa Cruz de Tenerife",
          "40 Segovia",
          "41 Sevilla",
          "42 Soria",
          "43 Tarragona",
          "44 Teruel",
          "45 Toledo",
          "46 Valencia/València",
          "47 Valladolid",
          "48 Bizkaia",
          "49 Zamora",
          "50 Zaragoza"
         ],
         "lat": [
          42.85,
          38.994,
          38.3452,
          36.834,
          43.361,
          43.3623,
          40.656,
          38.8795,
          41.3784,
          42.34,
          39.4753,
          36.5297,
          43.4623,
          39.9834,
          38.9833,
          37.8882,
          40.0735,
          41.9794,
          37.1773,
          40.6333,
          43.3183,
          37.2617,
          42.1401,
          39.5696,
          37.7799,
          42.4687,
          28.1235,
          42.5987,
          41.6177,
          43.0027,
          40.4168,
          36.7213,
          37.9835,
          42.8125,
          42.3358,
          42.008,
          42.4385,
          40.9704,
          28.4636,
          40.9481,
          37.3886,
          41.7632,
          41.1189,
          40.3451,
          39.8628,
          39.4699,
          41.6523,
          43.263,
          41.5037,
          41.6488
         ],
         "legendgroup": "",
         "lon": [
          -2.6725,
          -1.8585,
          -0.481,
          -2.4637,
          -5.8494,
          -8.4115,
          -4.6999,
          -6.9707,
          2.1926,
          -3.6997,
          -6.3729,
          -6.2919,
          -3.8043,
          -0.033,
          -3.9333,
          -4.7794,
          -2.1367,
          2.8213,
          -3.5986,
          -3.1667,
          -2.934,
          -6.9447,
          -0.408,
          2.6502,
          -3.7794,
          -2.4448,
          -15.4367,
          -3.567,
          0.6226,
          -7.5584,
          -3.7038,
          -4.4216,
          -1.1296,
          -1.6458,
          -7.8633,
          -4.5235,
          -8.6445,
          -5.6635,
          -16.2519,
          -4.1075,
          -5.9823,
          -2.4676,
          -1.9812,
          -1.1063,
          -4.0273,
          -0.3763,
          -4.7245,
          -2.934,
          -5.7498,
          -0.8891
         ],
         "marker": {
          "color": [
           0.1040891087931301,
           0.07915020553300527,
           0.22324407702678098,
           0.22491916258276212,
           0.053249309186330834,
           0.049058443753981724,
           0.08054380210810946,
           0.035676053863904905,
           0.16398975670978289,
           0.09276100400145508,
           0.04038562086453045,
           0.047559659756499895,
           0.0708904173613625,
           0.1671417645831885,
           0.07089059962148855,
           0.033554752116768734,
           0.13214336108367433,
           0.21205383641328004,
           0.08308246045272741,
           0.1505260249671007,
           0.0909727650018164,
           0.10568562248635047,
           0.14071880041255652,
           0.20470102636072554,
           0.032200787255674414,
           0.13756896134441265,
           0.13451144703070142,
           0.05216096376732438,
           0.197512870437226,
           0.060934353480310975,
           0.151615789687369,
           0.17935469736319612,
           0.15258569355258647,
           0.12042014118767248,
           0.0639703443950841,
           0.05438344096788709,
           0.04745698260290902,
           0.05688360048794059,
           0.15029803040369275,
           0.1288530373651276,
           0.04603311023714475,
           0.11575149673845055,
           0.17845560646341233,
           0.12360232809561186,
           0.11899408025035836,
           0.13199359690700346,
           0.06397446545681934,
           0.08592607879079012,
           0.0455348745259904,
           0.13521618599807017
          ],
          "coloraxis": "coloraxis",
          "size": [
           336308,
           387529,
           1955268,
           753364,
           1006060,
           1123884,
           159764,
           666049,
           5797356,
           357370,
           388257,
           1254866,
           588387,
           604086,
           491927,
           775002,
           198436,
           808672,
           934072,
           275082,
           726712,
           534084,
           226878,
           1209906,
           620637,
           322282,
           1145843,
           448573,
           447343,
           324267,
           6871903,
           1752728,
           1551692,
           672155,
           304563,
           157787,
           946710,
           327089,
           1067173,
           155332,
           1959394,
           89528,
           848592,
           135046,
           731112,
           2656841,
           521333,
           1153282,
           166927,
           979365
          ],
          "sizemode": "area",
          "sizeref": 17179.7575
         },
         "mode": "markers",
         "name": "",
         "showlegend": false,
         "subplot": "mapbox",
         "type": "scattermapbox"
        }
       ],
       "layout": {
        "coloraxis": {
         "colorbar": {
          "title": {
           "text": "Proporcion Extranjera"
          }
         },
         "colorscale": [
          [
           0,
           "#0d0887"
          ],
          [
           0.1111111111111111,
           "#46039f"
          ],
          [
           0.2222222222222222,
           "#7201a8"
          ],
          [
           0.3333333333333333,
           "#9c179e"
          ],
          [
           0.4444444444444444,
           "#bd3786"
          ],
          [
           0.5555555555555556,
           "#d8576b"
          ],
          [
           0.6666666666666666,
           "#ed7953"
          ],
          [
           0.7777777777777778,
           "#fb9f3a"
          ],
          [
           0.8888888888888888,
           "#fdca26"
          ],
          [
           1,
           "#f0f921"
          ]
         ]
        },
        "legend": {
         "itemsizing": "constant",
         "tracegroupgap": 0
        },
        "mapbox": {
         "center": {
          "lat": 40.083636,
          "lon": -3.8840680000000005
         },
         "domain": {
          "x": [
           0,
           1
          ],
          "y": [
           0,
           1
          ]
         },
         "style": "carto-positron",
         "zoom": 5
        },
        "template": {
         "data": {
          "bar": [
           {
            "error_x": {
             "color": "#2a3f5f"
            },
            "error_y": {
             "color": "#2a3f5f"
            },
            "marker": {
             "line": {
              "color": "#E5ECF6",
              "width": 0.5
             },
             "pattern": {
              "fillmode": "overlay",
              "size": 10,
              "solidity": 0.2
             }
            },
            "type": "bar"
           }
          ],
          "barpolar": [
           {
            "marker": {
             "line": {
              "color": "#E5ECF6",
              "width": 0.5
             },
             "pattern": {
              "fillmode": "overlay",
              "size": 10,
              "solidity": 0.2
             }
            },
            "type": "barpolar"
           }
          ],
          "carpet": [
           {
            "aaxis": {
             "endlinecolor": "#2a3f5f",
             "gridcolor": "white",
             "linecolor": "white",
             "minorgridcolor": "white",
             "startlinecolor": "#2a3f5f"
            },
            "baxis": {
             "endlinecolor": "#2a3f5f",
             "gridcolor": "white",
             "linecolor": "white",
             "minorgridcolor": "white",
             "startlinecolor": "#2a3f5f"
            },
            "type": "carpet"
           }
          ],
          "choropleth": [
           {
            "colorbar": {
             "outlinewidth": 0,
             "ticks": ""
            },
            "type": "choropleth"
           }
          ],
          "contour": [
           {
            "colorbar": {
             "outlinewidth": 0,
             "ticks": ""
            },
            "colorscale": [
             [
              0,
              "#0d0887"
             ],
             [
              0.1111111111111111,
              "#46039f"
             ],
             [
              0.2222222222222222,
              "#7201a8"
             ],
             [
              0.3333333333333333,
              "#9c179e"
             ],
             [
              0.4444444444444444,
              "#bd3786"
             ],
             [
              0.5555555555555556,
              "#d8576b"
             ],
             [
              0.6666666666666666,
              "#ed7953"
             ],
             [
              0.7777777777777778,
              "#fb9f3a"
             ],
             [
              0.8888888888888888,
              "#fdca26"
             ],
             [
              1,
              "#f0f921"
             ]
            ],
            "type": "contour"
           }
          ],
          "contourcarpet": [
           {
            "colorbar": {
             "outlinewidth": 0,
             "ticks": ""
            },
            "type": "contourcarpet"
           }
          ],
          "heatmap": [
           {
            "colorbar": {
             "outlinewidth": 0,
             "ticks": ""
            },
            "colorscale": [
             [
              0,
              "#0d0887"
             ],
             [
              0.1111111111111111,
              "#46039f"
             ],
             [
              0.2222222222222222,
              "#7201a8"
             ],
             [
              0.3333333333333333,
              "#9c179e"
             ],
             [
              0.4444444444444444,
              "#bd3786"
             ],
             [
              0.5555555555555556,
              "#d8576b"
             ],
             [
              0.6666666666666666,
              "#ed7953"
             ],
             [
              0.7777777777777778,
              "#fb9f3a"
             ],
             [
              0.8888888888888888,
              "#fdca26"
             ],
             [
              1,
              "#f0f921"
             ]
            ],
            "type": "heatmap"
           }
          ],
          "heatmapgl": [
           {
            "colorbar": {
             "outlinewidth": 0,
             "ticks": ""
            },
            "colorscale": [
             [
              0,
              "#0d0887"
             ],
             [
              0.1111111111111111,
              "#46039f"
             ],
             [
              0.2222222222222222,
              "#7201a8"
             ],
             [
              0.3333333333333333,
              "#9c179e"
             ],
             [
              0.4444444444444444,
              "#bd3786"
             ],
             [
              0.5555555555555556,
              "#d8576b"
             ],
             [
              0.6666666666666666,
              "#ed7953"
             ],
             [
              0.7777777777777778,
              "#fb9f3a"
             ],
             [
              0.8888888888888888,
              "#fdca26"
             ],
             [
              1,
              "#f0f921"
             ]
            ],
            "type": "heatmapgl"
           }
          ],
          "histogram": [
           {
            "marker": {
             "pattern": {
              "fillmode": "overlay",
              "size": 10,
              "solidity": 0.2
             }
            },
            "type": "histogram"
           }
          ],
          "histogram2d": [
           {
            "colorbar": {
             "outlinewidth": 0,
             "ticks": ""
            },
            "colorscale": [
             [
              0,
              "#0d0887"
             ],
             [
              0.1111111111111111,
              "#46039f"
             ],
             [
              0.2222222222222222,
              "#7201a8"
             ],
             [
              0.3333333333333333,
              "#9c179e"
             ],
             [
              0.4444444444444444,
              "#bd3786"
             ],
             [
              0.5555555555555556,
              "#d8576b"
             ],
             [
              0.6666666666666666,
              "#ed7953"
             ],
             [
              0.7777777777777778,
              "#fb9f3a"
             ],
             [
              0.8888888888888888,
              "#fdca26"
             ],
             [
              1,
              "#f0f921"
             ]
            ],
            "type": "histogram2d"
           }
          ],
          "histogram2dcontour": [
           {
            "colorbar": {
             "outlinewidth": 0,
             "ticks": ""
            },
            "colorscale": [
             [
              0,
              "#0d0887"
             ],
             [
              0.1111111111111111,
              "#46039f"
             ],
             [
              0.2222222222222222,
              "#7201a8"
             ],
             [
              0.3333333333333333,
              "#9c179e"
             ],
             [
              0.4444444444444444,
              "#bd3786"
             ],
             [
              0.5555555555555556,
              "#d8576b"
             ],
             [
              0.6666666666666666,
              "#ed7953"
             ],
             [
              0.7777777777777778,
              "#fb9f3a"
             ],
             [
              0.8888888888888888,
              "#fdca26"
             ],
             [
              1,
              "#f0f921"
             ]
            ],
            "type": "histogram2dcontour"
           }
          ],
          "mesh3d": [
           {
            "colorbar": {
             "outlinewidth": 0,
             "ticks": ""
            },
            "type": "mesh3d"
           }
          ],
          "parcoords": [
           {
            "line": {
             "colorbar": {
              "outlinewidth": 0,
              "ticks": ""
             }
            },
            "type": "parcoords"
           }
          ],
          "pie": [
           {
            "automargin": true,
            "type": "pie"
           }
          ],
          "scatter": [
           {
            "fillpattern": {
             "fillmode": "overlay",
             "size": 10,
             "solidity": 0.2
            },
            "type": "scatter"
           }
          ],
          "scatter3d": [
           {
            "line": {
             "colorbar": {
              "outlinewidth": 0,
              "ticks": ""
             }
            },
            "marker": {
             "colorbar": {
              "outlinewidth": 0,
              "ticks": ""
             }
            },
            "type": "scatter3d"
           }
          ],
          "scattercarpet": [
           {
            "marker": {
             "colorbar": {
              "outlinewidth": 0,
              "ticks": ""
             }
            },
            "type": "scattercarpet"
           }
          ],
          "scattergeo": [
           {
            "marker": {
             "colorbar": {
              "outlinewidth": 0,
              "ticks": ""
             }
            },
            "type": "scattergeo"
           }
          ],
          "scattergl": [
           {
            "marker": {
             "colorbar": {
              "outlinewidth": 0,
              "ticks": ""
             }
            },
            "type": "scattergl"
           }
          ],
          "scattermapbox": [
           {
            "marker": {
             "colorbar": {
              "outlinewidth": 0,
              "ticks": ""
             }
            },
            "type": "scattermapbox"
           }
          ],
          "scatterpolar": [
           {
            "marker": {
             "colorbar": {
              "outlinewidth": 0,
              "ticks": ""
             }
            },
            "type": "scatterpolar"
           }
          ],
          "scatterpolargl": [
           {
            "marker": {
             "colorbar": {
              "outlinewidth": 0,
              "ticks": ""
             }
            },
            "type": "scatterpolargl"
           }
          ],
          "scatterternary": [
           {
            "marker": {
             "colorbar": {
              "outlinewidth": 0,
              "ticks": ""
             }
            },
            "type": "scatterternary"
           }
          ],
          "surface": [
           {
            "colorbar": {
             "outlinewidth": 0,
             "ticks": ""
            },
            "colorscale": [
             [
              0,
              "#0d0887"
             ],
             [
              0.1111111111111111,
              "#46039f"
             ],
             [
              0.2222222222222222,
              "#7201a8"
             ],
             [
              0.3333333333333333,
              "#9c179e"
             ],
             [
              0.4444444444444444,
              "#bd3786"
             ],
             [
              0.5555555555555556,
              "#d8576b"
             ],
             [
              0.6666666666666666,
              "#ed7953"
             ],
             [
              0.7777777777777778,
              "#fb9f3a"
             ],
             [
              0.8888888888888888,
              "#fdca26"
             ],
             [
              1,
              "#f0f921"
             ]
            ],
            "type": "surface"
           }
          ],
          "table": [
           {
            "cells": {
             "fill": {
              "color": "#EBF0F8"
             },
             "line": {
              "color": "white"
             }
            },
            "header": {
             "fill": {
              "color": "#C8D4E3"
             },
             "line": {
              "color": "white"
             }
            },
            "type": "table"
           }
          ]
         },
         "layout": {
          "annotationdefaults": {
           "arrowcolor": "#2a3f5f",
           "arrowhead": 0,
           "arrowwidth": 1
          },
          "autotypenumbers": "strict",
          "coloraxis": {
           "colorbar": {
            "outlinewidth": 0,
            "ticks": ""
           }
          },
          "colorscale": {
           "diverging": [
            [
             0,
             "#8e0152"
            ],
            [
             0.1,
             "#c51b7d"
            ],
            [
             0.2,
             "#de77ae"
            ],
            [
             0.3,
             "#f1b6da"
            ],
            [
             0.4,
             "#fde0ef"
            ],
            [
             0.5,
             "#f7f7f7"
            ],
            [
             0.6,
             "#e6f5d0"
            ],
            [
             0.7,
             "#b8e186"
            ],
            [
             0.8,
             "#7fbc41"
            ],
            [
             0.9,
             "#4d9221"
            ],
            [
             1,
             "#276419"
            ]
           ],
           "sequential": [
            [
             0,
             "#0d0887"
            ],
            [
             0.1111111111111111,
             "#46039f"
            ],
            [
             0.2222222222222222,
             "#7201a8"
            ],
            [
             0.3333333333333333,
             "#9c179e"
            ],
            [
             0.4444444444444444,
             "#bd3786"
            ],
            [
             0.5555555555555556,
             "#d8576b"
            ],
            [
             0.6666666666666666,
             "#ed7953"
            ],
            [
             0.7777777777777778,
             "#fb9f3a"
            ],
            [
             0.8888888888888888,
             "#fdca26"
            ],
            [
             1,
             "#f0f921"
            ]
           ],
           "sequentialminus": [
            [
             0,
             "#0d0887"
            ],
            [
             0.1111111111111111,
             "#46039f"
            ],
            [
             0.2222222222222222,
             "#7201a8"
            ],
            [
             0.3333333333333333,
             "#9c179e"
            ],
            [
             0.4444444444444444,
             "#bd3786"
            ],
            [
             0.5555555555555556,
             "#d8576b"
            ],
            [
             0.6666666666666666,
             "#ed7953"
            ],
            [
             0.7777777777777778,
             "#fb9f3a"
            ],
            [
             0.8888888888888888,
             "#fdca26"
            ],
            [
             1,
             "#f0f921"
            ]
           ]
          },
          "colorway": [
           "#636efa",
           "#EF553B",
           "#00cc96",
           "#ab63fa",
           "#FFA15A",
           "#19d3f3",
           "#FF6692",
           "#B6E880",
           "#FF97FF",
           "#FECB52"
          ],
          "font": {
           "color": "#2a3f5f"
          },
          "geo": {
           "bgcolor": "white",
           "lakecolor": "white",
           "landcolor": "#E5ECF6",
           "showlakes": true,
           "showland": true,
           "subunitcolor": "white"
          },
          "hoverlabel": {
           "align": "left"
          },
          "hovermode": "closest",
          "mapbox": {
           "style": "light"
          },
          "paper_bgcolor": "white",
          "plot_bgcolor": "#E5ECF6",
          "polar": {
           "angularaxis": {
            "gridcolor": "white",
            "linecolor": "white",
            "ticks": ""
           },
           "bgcolor": "#E5ECF6",
           "radialaxis": {
            "gridcolor": "white",
            "linecolor": "white",
            "ticks": ""
           }
          },
          "scene": {
           "xaxis": {
            "backgroundcolor": "#E5ECF6",
            "gridcolor": "white",
            "gridwidth": 2,
            "linecolor": "white",
            "showbackground": true,
            "ticks": "",
            "zerolinecolor": "white"
           },
           "yaxis": {
            "backgroundcolor": "#E5ECF6",
            "gridcolor": "white",
            "gridwidth": 2,
            "linecolor": "white",
            "showbackground": true,
            "ticks": "",
            "zerolinecolor": "white"
           },
           "zaxis": {
            "backgroundcolor": "#E5ECF6",
            "gridcolor": "white",
            "gridwidth": 2,
            "linecolor": "white",
            "showbackground": true,
            "ticks": "",
            "zerolinecolor": "white"
           }
          },
          "shapedefaults": {
           "line": {
            "color": "#2a3f5f"
           }
          },
          "ternary": {
           "aaxis": {
            "gridcolor": "white",
            "linecolor": "white",
            "ticks": ""
           },
           "baxis": {
            "gridcolor": "white",
            "linecolor": "white",
            "ticks": ""
           },
           "bgcolor": "#E5ECF6",
           "caxis": {
            "gridcolor": "white",
            "linecolor": "white",
            "ticks": ""
           }
          },
          "title": {
           "x": 0.05
          },
          "xaxis": {
           "automargin": true,
           "gridcolor": "white",
           "linecolor": "white",
           "ticks": "",
           "title": {
            "standoff": 15
           },
           "zerolinecolor": "white",
           "zerolinewidth": 2
          },
          "yaxis": {
           "automargin": true,
           "gridcolor": "white",
           "linecolor": "white",
           "ticks": "",
           "title": {
            "standoff": 15
           },
           "zerolinecolor": "white",
           "zerolinewidth": 2
          }
         }
        },
        "title": {
         "text": "Distribución poblacional por provincia"
        }
       }
      }
     },
     "metadata": {},
     "output_type": "display_data"
    }
   ],
   "source": [
    "fig = px.scatter_mapbox(\n",
    "    datos_mapeo,\n",
    "    lat=\"Latitud\",\n",
    "    lon=\"Longitud\",\n",
    "    size=\"Total\",  # Tamaño de las burbujas\n",
    "    color=\"Proporcion Extranjera\",  # Colorear según la proporción\n",
    "    hover_name=\"Provincia\",\n",
    "    title=\"Distribución poblacional por provincia\",\n",
    "    mapbox_style=\"carto-positron\",\n",
    "    zoom=5\n",
    ")\n",
    "fig.show()\n"
   ]
  },
  {
   "cell_type": "code",
   "execution_count": 99,
   "metadata": {},
   "outputs": [
    {
     "data": {
      "image/png": "[encoded data removed]",
      "text/plain": [
       "<Figure size 640x480 with 1 Axes>"
      ]
     },
     "metadata": {},
     "output_type": "display_data"
    }
   ],
   "source": [
    "import matplotlib.pyplot as plt\n",
    "\n",
    "# Gráfico de barras apiladas\n",
    "df_sorted = df.sort_values(\"Total\", ascending=False)\n",
    "provincias = df_sorted[\"Provincia\"]\n",
    "nativas = df_sorted[\"% Nativa\"]\n",
    "extranjeras = df_sorted[\"% Extranjera\"]\n",
    "\n",
    "plt.bar(provincias, nativas, label=\"Española\", color=\"lightblue\")\n",
    "plt.bar(provincias, extranjeras, bottom=nativas, label=\"Extranjera\", color=\"orange\")\n",
    "plt.xticks(rotation=90)\n",
    "plt.legend()\n",
    "plt.title(\"Distribución de población por provincia\")\n",
    "plt.show()\n"
   ]
  },
  {
   "cell_type": "code",
   "execution_count": 100,
   "metadata": {},
   "outputs": [
    {
     "data": {
      "image/png": "[encoded data removed]",
      "text/plain": [
       "<Figure size 640x480 with 1 Axes>"
      ]
     },
     "metadata": {},
     "output_type": "display_data"
    }
   ],
   "source": [
    "# Diagrama de pastel para una provincia específica\n",
    "provincia = \"33 Asturias\"\n",
    "df_provincia = df[df[\"Provincia\"] == provincia]\n",
    "\n",
    "labels = [\"Española\", \"Extranjera\"]\n",
    "sizes = [df_provincia[\"% Nativa\"].values[0], df_provincia[\"% Extranjera\"].values[0]]\n",
    "\n",
    "plt.pie(sizes, labels=labels, autopct='%1.1f%%', colors=[\"lightblue\", \"orange\"])\n",
    "plt.title(f\"Proporción poblacional en {provincia}\")\n",
    "plt.show()\n"
   ]
  },
  {
   "cell_type": "code",
   "execution_count": 101,
   "metadata": {},
   "outputs": [
    {
     "data": {
      "image/png": "[encoded data removed]",
      "text/plain": [
       "<Figure size 640x480 with 1 Axes>"
      ]
     },
     "metadata": {},
     "output_type": "display_data"
    }
   ],
   "source": [
    "# Diagrama de pastel para una provincia específica\n",
    "provincia = \"35 Palmas, Las\"\n",
    "df_provincia = df[df[\"Provincia\"] == provincia]\n",
    "\n",
    "labels = [\"Española\", \"Extranjera\"]\n",
    "sizes = [df_provincia[\"% Nativa\"].values[0], df_provincia[\"% Extranjera\"].values[0]]\n",
    "\n",
    "plt.pie(sizes, labels=labels, autopct='%1.1f%%', colors=[\"lightblue\", \"orange\"])\n",
    "plt.title(f\"Proporción poblacional en {provincia}\")\n",
    "plt.show()"
   ]
  },
  {
   "cell_type": "code",
   "execution_count": 104,
   "metadata": {},
   "outputs": [
    {
     "data": {
      "application/vnd.plotly.v1+json": {
       "config": {
        "plotlyServerURL": "https://plot.ly"
       },
       "data": [
        {
         "domain": {
          "x": [
           0,
           1
          ],
          "y": [
           0,
           1
          ]
         },
         "hovertemplate": "Provincia=%{label}<br>Extranjera=%{value}<extra></extra>",
         "labels": [
          "01 Araba/Álava",
          "02 Albacete",
          "03 Alicante/Alacant",
          "04 Almería",
          "15 Coruña, A",
          "33 Asturias",
          "05 Ávila",
          "06 Badajoz",
          "08 Barcelona",
          "09 Burgos",
          "10 Cáceres",
          "11 Cádiz",
          "39 Cantabria",
          "12 Castellón/Castelló",
          "13 Ciudad Real",
          "14 Córdoba",
          "16 Cuenca",
          "17 Girona",
          "18 Granada",
          "19 Guadalajara",
          "20 Gipuzkoa",
          "21 Huelva",
          "22 Huesca",
          "07 Balears, Illes",
          "23 Jaén",
          "26 Rioja, La",
          "35 Palmas, Las",
          "24 León",
          "25 Lleida",
          "27 Lugo",
          "28 Madrid",
          "29 Málaga",
          "30 Murcia",
          "31 Navarra",
          "32 Ourense",
          "34 Palencia",
          "36 Pontevedra",
          "37 Salamanca",
          "38 Santa Cruz de Tenerife",
          "40 Segovia",
          "41 Sevilla",
          "42 Soria",
          "43 Tarragona",
          "44 Teruel",
          "45 Toledo",
          "46 Valencia/València",
          "47 Valladolid",
          "48 Bizkaia",
          "49 Zamora",
          "50 Zaragoza"
         ],
         "legendgroup": "",
         "name": "",
         "showlegend": true,
         "type": "pie",
         "values": [
          35006,
          30673,
          436502,
          169446,
          53572,
          55136,
          12868,
          23762,
          950707,
          33150,
          15680,
          59681,
          41711,
          100968,
          34873,
          26005,
          26222,
          171482,
          77605,
          41407,
          66111,
          56445,
          31926,
          247669,
          19985,
          44336,
          154129,
          23398,
          88356,
          19759,
          1041889,
          314360,
          236766,
          80941,
          19483,
          8581,
          44928,
          18606,
          160394,
          20015,
          90197,
          10363,
          151436,
          16692,
          86998,
          350686,
          33352,
          99097,
          7601,
          132426
         ]
        }
       ],
       "layout": {
        "legend": {
         "tracegroupgap": 0
        },
        "template": {
         "data": {
          "bar": [
           {
            "error_x": {
             "color": "#2a3f5f"
            },
            "error_y": {
             "color": "#2a3f5f"
            },
            "marker": {
             "line": {
              "color": "#E5ECF6",
              "width": 0.5
             },
             "pattern": {
              "fillmode": "overlay",
              "size": 10,
              "solidity": 0.2
             }
            },
            "type": "bar"
           }
          ],
          "barpolar": [
           {
            "marker": {
             "line": {
              "color": "#E5ECF6",
              "width": 0.5
             },
             "pattern": {
              "fillmode": "overlay",
              "size": 10,
              "solidity": 0.2
             }
            },
            "type": "barpolar"
           }
          ],
          "carpet": [
           {
            "aaxis": {
             "endlinecolor": "#2a3f5f",
             "gridcolor": "white",
             "linecolor": "white",
             "minorgridcolor": "white",
             "startlinecolor": "#2a3f5f"
            },
            "baxis": {
             "endlinecolor": "#2a3f5f",
             "gridcolor": "white",
             "linecolor": "white",
             "minorgridcolor": "white",
             "startlinecolor": "#2a3f5f"
            },
            "type": "carpet"
           }
          ],
          "choropleth": [
           {
            "colorbar": {
             "outlinewidth": 0,
             "ticks": ""
            },
            "type": "choropleth"
           }
          ],
          "contour": [
           {
            "colorbar": {
             "outlinewidth": 0,
             "ticks": ""
            },
            "colorscale": [
             [
              0,
              "#0d0887"
             ],
             [
              0.1111111111111111,
              "#46039f"
             ],
             [
              0.2222222222222222,
              "#7201a8"
             ],
             [
              0.3333333333333333,
              "#9c179e"
             ],
             [
              0.4444444444444444,
              "#bd3786"
             ],
             [
              0.5555555555555556,
              "#d8576b"
             ],
             [
              0.6666666666666666,
              "#ed7953"
             ],
             [
              0.7777777777777778,
              "#fb9f3a"
             ],
             [
              0.8888888888888888,
              "#fdca26"
             ],
             [
              1,
              "#f0f921"
             ]
            ],
            "type": "contour"
           }
          ],
          "contourcarpet": [
           {
            "colorbar": {
             "outlinewidth": 0,
             "ticks": ""
            },
            "type": "contourcarpet"
           }
          ],
          "heatmap": [
           {
            "colorbar": {
             "outlinewidth": 0,
             "ticks": ""
            },
            "colorscale": [
             [
              0,
              "#0d0887"
             ],
             [
              0.1111111111111111,
              "#46039f"
             ],
             [
              0.2222222222222222,
              "#7201a8"
             ],
             [
              0.3333333333333333,
              "#9c179e"
             ],
             [
              0.4444444444444444,
              "#bd3786"
             ],
             [
              0.5555555555555556,
              "#d8576b"
             ],
             [
              0.6666666666666666,
              "#ed7953"
             ],
             [
              0.7777777777777778,
              "#fb9f3a"
             ],
             [
              0.8888888888888888,
              "#fdca26"
             ],
             [
              1,
              "#f0f921"
             ]
            ],
            "type": "heatmap"
           }
          ],
          "heatmapgl": [
           {
            "colorbar": {
             "outlinewidth": 0,
             "ticks": ""
            },
            "colorscale": [
             [
              0,
              "#0d0887"
             ],
             [
              0.1111111111111111,
              "#46039f"
             ],
             [
              0.2222222222222222,
              "#7201a8"
             ],
             [
              0.3333333333333333,
              "#9c179e"
             ],
             [
              0.4444444444444444,
              "#bd3786"
             ],
             [
              0.5555555555555556,
              "#d8576b"
             ],
             [
              0.6666666666666666,
              "#ed7953"
             ],
             [
              0.7777777777777778,
              "#fb9f3a"
             ],
             [
              0.8888888888888888,
              "#fdca26"
             ],
             [
              1,
              "#f0f921"
             ]
            ],
            "type": "heatmapgl"
           }
          ],
          "histogram": [
           {
            "marker": {
             "pattern": {
              "fillmode": "overlay",
              "size": 10,
              "solidity": 0.2
             }
            },
            "type": "histogram"
           }
          ],
          "histogram2d": [
           {
            "colorbar": {
             "outlinewidth": 0,
             "ticks": ""
            },
            "colorscale": [
             [
              0,
              "#0d0887"
             ],
             [
              0.1111111111111111,
              "#46039f"
             ],
             [
              0.2222222222222222,
              "#7201a8"
             ],
             [
              0.3333333333333333,
              "#9c179e"
             ],
             [
              0.4444444444444444,
              "#bd3786"
             ],
             [
              0.5555555555555556,
              "#d8576b"
             ],
             [
              0.6666666666666666,
              "#ed7953"
             ],
             [
              0.7777777777777778,
              "#fb9f3a"
             ],
             [
              0.8888888888888888,
              "#fdca26"
             ],
             [
              1,
              "#f0f921"
             ]
            ],
            "type": "histogram2d"
           }
          ],
          "histogram2dcontour": [
           {
            "colorbar": {
             "outlinewidth": 0,
             "ticks": ""
            },
            "colorscale": [
             [
              0,
              "#0d0887"
             ],
             [
              0.1111111111111111,
              "#46039f"
             ],
             [
              0.2222222222222222,
              "#7201a8"
             ],
             [
              0.3333333333333333,
              "#9c179e"
             ],
             [
              0.4444444444444444,
              "#bd3786"
             ],
             [
              0.5555555555555556,
              "#d8576b"
             ],
             [
              0.6666666666666666,
              "#ed7953"
             ],
             [
              0.7777777777777778,
              "#fb9f3a"
             ],
             [
              0.8888888888888888,
              "#fdca26"
             ],
             [
              1,
              "#f0f921"
             ]
            ],
            "type": "histogram2dcontour"
           }
          ],
          "mesh3d": [
           {
            "colorbar": {
             "outlinewidth": 0,
             "ticks": ""
            },
            "type": "mesh3d"
           }
          ],
          "parcoords": [
           {
            "line": {
             "colorbar": {
              "outlinewidth": 0,
              "ticks": ""
             }
            },
            "type": "parcoords"
           }
          ],
          "pie": [
           {
            "automargin": true,
            "type": "pie"
           }
          ],
          "scatter": [
           {
            "fillpattern": {
             "fillmode": "overlay",
             "size": 10,
             "solidity": 0.2
            },
            "type": "scatter"
           }
          ],
          "scatter3d": [
           {
            "line": {
             "colorbar": {
              "outlinewidth": 0,
              "ticks": ""
             }
            },
            "marker": {
             "colorbar": {
              "outlinewidth": 0,
              "ticks": ""
             }
            },
            "type": "scatter3d"
           }
          ],
          "scattercarpet": [
           {
            "marker": {
             "colorbar": {
              "outlinewidth": 0,
              "ticks": ""
             }
            },
            "type": "scattercarpet"
           }
          ],
          "scattergeo": [
           {
            "marker": {
             "colorbar": {
              "outlinewidth": 0,
              "ticks": ""
             }
            },
            "type": "scattergeo"
           }
          ],
          "scattergl": [
           {
            "marker": {
             "colorbar": {
              "outlinewidth": 0,
              "ticks": ""
             }
            },
            "type": "scattergl"
           }
          ],
          "scattermapbox": [
           {
            "marker": {
             "colorbar": {
              "outlinewidth": 0,
              "ticks": ""
             }
            },
            "type": "scattermapbox"
           }
          ],
          "scatterpolar": [
           {
            "marker": {
             "colorbar": {
              "outlinewidth": 0,
              "ticks": ""
             }
            },
            "type": "scatterpolar"
           }
          ],
          "scatterpolargl": [
           {
            "marker": {
             "colorbar": {
              "outlinewidth": 0,
              "ticks": ""
             }
            },
            "type": "scatterpolargl"
           }
          ],
          "scatterternary": [
           {
            "marker": {
             "colorbar": {
              "outlinewidth": 0,
              "ticks": ""
             }
            },
            "type": "scatterternary"
           }
          ],
          "surface": [
           {
            "colorbar": {
             "outlinewidth": 0,
             "ticks": ""
            },
            "colorscale": [
             [
              0,
              "#0d0887"
             ],
             [
              0.1111111111111111,
              "#46039f"
             ],
             [
              0.2222222222222222,
              "#7201a8"
             ],
             [
              0.3333333333333333,
              "#9c179e"
             ],
             [
              0.4444444444444444,
              "#bd3786"
             ],
             [
              0.5555555555555556,
              "#d8576b"
             ],
             [
              0.6666666666666666,
              "#ed7953"
             ],
             [
              0.7777777777777778,
              "#fb9f3a"
             ],
             [
              0.8888888888888888,
              "#fdca26"
             ],
             [
              1,
              "#f0f921"
             ]
            ],
            "type": "surface"
           }
          ],
          "table": [
           {
            "cells": {
             "fill": {
              "color": "#EBF0F8"
             },
             "line": {
              "color": "white"
             }
            },
            "header": {
             "fill": {
              "color": "#C8D4E3"
             },
             "line": {
              "color": "white"
             }
            },
            "type": "table"
           }
          ]
         },
         "layout": {
          "annotationdefaults": {
           "arrowcolor": "#2a3f5f",
           "arrowhead": 0,
           "arrowwidth": 1
          },
          "autotypenumbers": "strict",
          "coloraxis": {
           "colorbar": {
            "outlinewidth": 0,
            "ticks": ""
           }
          },
          "colorscale": {
           "diverging": [
            [
             0,
             "#8e0152"
            ],
            [
             0.1,
             "#c51b7d"
            ],
            [
             0.2,
             "#de77ae"
            ],
            [
             0.3,
             "#f1b6da"
            ],
            [
             0.4,
             "#fde0ef"
            ],
            [
             0.5,
             "#f7f7f7"
            ],
            [
             0.6,
             "#e6f5d0"
            ],
            [
             0.7,
             "#b8e186"
            ],
            [
             0.8,
             "#7fbc41"
            ],
            [
             0.9,
             "#4d9221"
            ],
            [
             1,
             "#276419"
            ]
           ],
           "sequential": [
            [
             0,
             "#0d0887"
            ],
            [
             0.1111111111111111,
             "#46039f"
            ],
            [
             0.2222222222222222,
             "#7201a8"
            ],
            [
             0.3333333333333333,
             "#9c179e"
            ],
            [
             0.4444444444444444,
             "#bd3786"
            ],
            [
             0.5555555555555556,
             "#d8576b"
            ],
            [
             0.6666666666666666,
             "#ed7953"
            ],
            [
             0.7777777777777778,
             "#fb9f3a"
            ],
            [
             0.8888888888888888,
             "#fdca26"
            ],
            [
             1,
             "#f0f921"
            ]
           ],
           "sequentialminus": [
            [
             0,
             "#0d0887"
            ],
            [
             0.1111111111111111,
             "#46039f"
            ],
            [
             0.2222222222222222,
             "#7201a8"
            ],
            [
             0.3333333333333333,
             "#9c179e"
            ],
            [
             0.4444444444444444,
             "#bd3786"
            ],
            [
             0.5555555555555556,
             "#d8576b"
            ],
            [
             0.6666666666666666,
             "#ed7953"
            ],
            [
             0.7777777777777778,
             "#fb9f3a"
            ],
            [
             0.8888888888888888,
             "#fdca26"
            ],
            [
             1,
             "#f0f921"
            ]
           ]
          },
          "colorway": [
           "#636efa",
           "#EF553B",
           "#00cc96",
           "#ab63fa",
           "#FFA15A",
           "#19d3f3",
           "#FF6692",
           "#B6E880",
           "#FF97FF",
           "#FECB52"
          ],
          "font": {
           "color": "#2a3f5f"
          },
          "geo": {
           "bgcolor": "white",
           "lakecolor": "white",
           "landcolor": "#E5ECF6",
           "showlakes": true,
           "showland": true,
           "subunitcolor": "white"
          },
          "hoverlabel": {
           "align": "left"
          },
          "hovermode": "closest",
          "mapbox": {
           "style": "light"
          },
          "paper_bgcolor": "white",
          "plot_bgcolor": "#E5ECF6",
          "polar": {
           "angularaxis": {
            "gridcolor": "white",
            "linecolor": "white",
            "ticks": ""
           },
           "bgcolor": "#E5ECF6",
           "radialaxis": {
            "gridcolor": "white",
            "linecolor": "white",
            "ticks": ""
           }
          },
          "scene": {
           "xaxis": {
            "backgroundcolor": "#E5ECF6",
            "gridcolor": "white",
            "gridwidth": 2,
            "linecolor": "white",
            "showbackground": true,
            "ticks": "",
            "zerolinecolor": "white"
           },
           "yaxis": {
            "backgroundcolor": "#E5ECF6",
            "gridcolor": "white",
            "gridwidth": 2,
            "linecolor": "white",
            "showbackground": true,
            "ticks": "",
            "zerolinecolor": "white"
           },
           "zaxis": {
            "backgroundcolor": "#E5ECF6",
            "gridcolor": "white",
            "gridwidth": 2,
            "linecolor": "white",
            "showbackground": true,
            "ticks": "",
            "zerolinecolor": "white"
           }
          },
          "shapedefaults": {
           "line": {
            "color": "#2a3f5f"
           }
          },
          "ternary": {
           "aaxis": {
            "gridcolor": "white",
            "linecolor": "white",
            "ticks": ""
           },
           "baxis": {
            "gridcolor": "white",
            "linecolor": "white",
            "ticks": ""
           },
           "bgcolor": "#E5ECF6",
           "caxis": {
            "gridcolor": "white",
            "linecolor": "white",
            "ticks": ""
           }
          },
          "title": {
           "x": 0.05
          },
          "xaxis": {
           "automargin": true,
           "gridcolor": "white",
           "linecolor": "white",
           "ticks": "",
           "title": {
            "standoff": 15
           },
           "zerolinecolor": "white",
           "zerolinewidth": 2
          },
          "yaxis": {
           "automargin": true,
           "gridcolor": "white",
           "linecolor": "white",
           "ticks": "",
           "title": {
            "standoff": 15
           },
           "zerolinecolor": "white",
           "zerolinewidth": 2
          }
         }
        },
        "title": {
         "text": "Proporción de Población Extranjera por Provincia"
        }
       }
      }
     },
     "metadata": {},
     "output_type": "display_data"
    }
   ],
   "source": [
    "# Pie Chart interactivo\n",
    "pie_chart = px.pie(\n",
    "    df,\n",
    "    names=\"Provincia\",\n",
    "    values=\"Extranjera\",\n",
    "    title=\"Proporción de Población Extranjera por Provincia\"\n",
    ")\n",
    "pie_chart"
   ]
  },
  {
   "cell_type": "code",
   "execution_count": 105,
   "metadata": {},
   "outputs": [
    {
     "data": {
      "application/vnd.plotly.v1+json": {
       "config": {
        "plotlyServerURL": "https://plot.ly"
       },
       "data": [
        {
         "alignmentgroup": "True",
         "hovertemplate": "Tipo de Población=Española<br>Provincia=%{x}<br>Población=%{y}<extra></extra>",
         "legendgroup": "Española",
         "marker": {
          "color": "#636efa",
          "pattern": {
           "shape": ""
          }
         },
         "name": "Española",
         "offsetgroup": "Española",
         "orientation": "v",
         "showlegend": true,
         "textposition": "auto",
         "type": "bar",
         "x": [
          "01 Araba/Álava",
          "02 Albacete",
          "03 Alicante/Alacant",
          "04 Almería",
          "15 Coruña, A",
          "33 Asturias",
          "05 Ávila",
          "06 Badajoz",
          "08 Barcelona",
          "09 Burgos",
          "10 Cáceres",
          "11 Cádiz",
          "39 Cantabria",
          "12 Castellón/Castelló",
          "13 Ciudad Real",
          "14 Córdoba",
          "16 Cuenca",
          "17 Girona",
          "18 Granada",
          "19 Guadalajara",
          "20 Gipuzkoa",
          "21 Huelva",
          "22 Huesca",
          "07 Balears, Illes",
          "23 Jaén",
          "26 Rioja, La",
          "35 Palmas, Las",
          "24 León",
          "25 Lleida",
          "27 Lugo",
          "28 Madrid",
          "29 Málaga",
          "30 Murcia",
          "31 Navarra",
          "32 Ourense",
          "34 Palencia",
          "36 Pontevedra",
          "37 Salamanca",
          "38 Santa Cruz de Tenerife",
          "40 Segovia",
          "41 Sevilla",
          "42 Soria",
          "43 Tarragona",
          "44 Teruel",
          "45 Toledo",
          "46 Valencia/València",
          "47 Valladolid",
          "48 Bizkaia",
          "49 Zamora",
          "50 Zaragoza"
         ],
         "xaxis": "x",
         "y": [
          301302,
          356856,
          1518766,
          583918,
          952488,
          1068748,
          146896,
          642287,
          4846649,
          324220,
          372577,
          1195185,
          546676,
          503118,
          457054,
          748997,
          172214,
          637190,
          856467,
          233675,
          660601,
          477639,
          194952,
          962237,
          600652,
          277946,
          991714,
          425175,
          358987,
          304508,
          5830014,
          1438368,
          1314926,
          591214,
          285080,
          149206,
          901782,
          308483,
          906779,
          135317,
          1869197,
          79165,
          697156,
          118354,
          644114,
          2306155,
          487981,
          1054185,
          159326,
          846939
         ],
         "yaxis": "y"
        },
        {
         "alignmentgroup": "True",
         "hovertemplate": "Tipo de Población=Extranjera<br>Provincia=%{x}<br>Población=%{y}<extra></extra>",
         "legendgroup": "Extranjera",
         "marker": {
          "color": "#EF553B",
          "pattern": {
           "shape": ""
          }
         },
         "name": "Extranjera",
         "offsetgroup": "Extranjera",
         "orientation": "v",
         "showlegend": true,
         "textposition": "auto",
         "type": "bar",
         "x": [
          "01 Araba/Álava",
          "02 Albacete",
          "03 Alicante/Alacant",
          "04 Almería",
          "15 Coruña, A",
          "33 Asturias",
          "05 Ávila",
          "06 Badajoz",
          "08 Barcelona",
          "09 Burgos",
          "10 Cáceres",
          "11 Cádiz",
          "39 Cantabria",
          "12 Castellón/Castelló",
          "13 Ciudad Real",
          "14 Córdoba",
          "16 Cuenca",
          "17 Girona",
          "18 Granada",
          "19 Guadalajara",
          "20 Gipuzkoa",
          "21 Huelva",
          "22 Huesca",
          "07 Balears, Illes",
          "23 Jaén",
          "26 Rioja, La",
          "35 Palmas, Las",
          "24 León",
          "25 Lleida",
          "27 Lugo",
          "28 Madrid",
          "29 Málaga",
          "30 Murcia",
          "31 Navarra",
          "32 Ourense",
          "34 Palencia",
          "36 Pontevedra",
          "37 Salamanca",
          "38 Santa Cruz de Tenerife",
          "40 Segovia",
          "41 Sevilla",
          "42 Soria",
          "43 Tarragona",
          "44 Teruel",
          "45 Toledo",
          "46 Valencia/València",
          "47 Valladolid",
          "48 Bizkaia",
          "49 Zamora",
          "50 Zaragoza"
         ],
         "xaxis": "x",
         "y": [
          35006,
          30673,
          436502,
          169446,
          53572,
          55136,
          12868,
          23762,
          950707,
          33150,
          15680,
          59681,
          41711,
          100968,
          34873,
          26005,
          26222,
          171482,
          77605,
          41407,
          66111,
          56445,
          31926,
          247669,
          19985,
          44336,
          154129,
          23398,
          88356,
          19759,
          1041889,
          314360,
          236766,
          80941,
          19483,
          8581,
          44928,
          18606,
          160394,
          20015,
          90197,
          10363,
          151436,
          16692,
          86998,
          350686,
          33352,
          99097,
          7601,
          132426
         ],
         "yaxis": "y"
        }
       ],
       "layout": {
        "barmode": "stack",
        "legend": {
         "title": {
          "text": "Tipo de Población"
         },
         "tracegroupgap": 0
        },
        "template": {
         "data": {
          "bar": [
           {
            "error_x": {
             "color": "#2a3f5f"
            },
            "error_y": {
             "color": "#2a3f5f"
            },
            "marker": {
             "line": {
              "color": "#E5ECF6",
              "width": 0.5
             },
             "pattern": {
              "fillmode": "overlay",
              "size": 10,
              "solidity": 0.2
             }
            },
            "type": "bar"
           }
          ],
          "barpolar": [
           {
            "marker": {
             "line": {
              "color": "#E5ECF6",
              "width": 0.5
             },
             "pattern": {
              "fillmode": "overlay",
              "size": 10,
              "solidity": 0.2
             }
            },
            "type": "barpolar"
           }
          ],
          "carpet": [
           {
            "aaxis": {
             "endlinecolor": "#2a3f5f",
             "gridcolor": "white",
             "linecolor": "white",
             "minorgridcolor": "white",
             "startlinecolor": "#2a3f5f"
            },
            "baxis": {
             "endlinecolor": "#2a3f5f",
             "gridcolor": "white",
             "linecolor": "white",
             "minorgridcolor": "white",
             "startlinecolor": "#2a3f5f"
            },
            "type": "carpet"
           }
          ],
          "choropleth": [
           {
            "colorbar": {
             "outlinewidth": 0,
             "ticks": ""
            },
            "type": "choropleth"
           }
          ],
          "contour": [
           {
            "colorbar": {
             "outlinewidth": 0,
             "ticks": ""
            },
            "colorscale": [
             [
              0,
              "#0d0887"
             ],
             [
              0.1111111111111111,
              "#46039f"
             ],
             [
              0.2222222222222222,
              "#7201a8"
             ],
             [
              0.3333333333333333,
              "#9c179e"
             ],
             [
              0.4444444444444444,
              "#bd3786"
             ],
             [
              0.5555555555555556,
              "#d8576b"
             ],
             [
              0.6666666666666666,
              "#ed7953"
             ],
             [
              0.7777777777777778,
              "#fb9f3a"
             ],
             [
              0.8888888888888888,
              "#fdca26"
             ],
             [
              1,
              "#f0f921"
             ]
            ],
            "type": "contour"
           }
          ],
          "contourcarpet": [
           {
            "colorbar": {
             "outlinewidth": 0,
             "ticks": ""
            },
            "type": "contourcarpet"
           }
          ],
          "heatmap": [
           {
            "colorbar": {
             "outlinewidth": 0,
             "ticks": ""
            },
            "colorscale": [
             [
              0,
              "#0d0887"
             ],
             [
              0.1111111111111111,
              "#46039f"
             ],
             [
              0.2222222222222222,
              "#7201a8"
             ],
             [
              0.3333333333333333,
              "#9c179e"
             ],
             [
              0.4444444444444444,
              "#bd3786"
             ],
             [
              0.5555555555555556,
              "#d8576b"
             ],
             [
              0.6666666666666666,
              "#ed7953"
             ],
             [
              0.7777777777777778,
              "#fb9f3a"
             ],
             [
              0.8888888888888888,
              "#fdca26"
             ],
             [
              1,
              "#f0f921"
             ]
            ],
            "type": "heatmap"
           }
          ],
          "heatmapgl": [
           {
            "colorbar": {
             "outlinewidth": 0,
             "ticks": ""
            },
            "colorscale": [
             [
              0,
              "#0d0887"
             ],
             [
              0.1111111111111111,
              "#46039f"
             ],
             [
              0.2222222222222222,
              "#7201a8"
             ],
             [
              0.3333333333333333,
              "#9c179e"
             ],
             [
              0.4444444444444444,
              "#bd3786"
             ],
             [
              0.5555555555555556,
              "#d8576b"
             ],
             [
              0.6666666666666666,
              "#ed7953"
             ],
             [
              0.7777777777777778,
              "#fb9f3a"
             ],
             [
              0.8888888888888888,
              "#fdca26"
             ],
             [
              1,
              "#f0f921"
             ]
            ],
            "type": "heatmapgl"
           }
          ],
          "histogram": [
           {
            "marker": {
             "pattern": {
              "fillmode": "overlay",
              "size": 10,
              "solidity": 0.2
             }
            },
            "type": "histogram"
           }
          ],
          "histogram2d": [
           {
            "colorbar": {
             "outlinewidth": 0,
             "ticks": ""
            },
            "colorscale": [
             [
              0,
              "#0d0887"
             ],
             [
              0.1111111111111111,
              "#46039f"
             ],
             [
              0.2222222222222222,
              "#7201a8"
             ],
             [
              0.3333333333333333,
              "#9c179e"
             ],
             [
              0.4444444444444444,
              "#bd3786"
             ],
             [
              0.5555555555555556,
              "#d8576b"
             ],
             [
              0.6666666666666666,
              "#ed7953"
             ],
             [
              0.7777777777777778,
              "#fb9f3a"
             ],
             [
              0.8888888888888888,
              "#fdca26"
             ],
             [
              1,
              "#f0f921"
             ]
            ],
            "type": "histogram2d"
           }
          ],
          "histogram2dcontour": [
           {
            "colorbar": {
             "outlinewidth": 0,
             "ticks": ""
            },
            "colorscale": [
             [
              0,
              "#0d0887"
             ],
             [
              0.1111111111111111,
              "#46039f"
             ],
             [
              0.2222222222222222,
              "#7201a8"
             ],
             [
              0.3333333333333333,
              "#9c179e"
             ],
             [
              0.4444444444444444,
              "#bd3786"
             ],
             [
              0.5555555555555556,
              "#d8576b"
             ],
             [
              0.6666666666666666,
              "#ed7953"
             ],
             [
              0.7777777777777778,
              "#fb9f3a"
             ],
             [
              0.8888888888888888,
              "#fdca26"
             ],
             [
              1,
              "#f0f921"
             ]
            ],
            "type": "histogram2dcontour"
           }
          ],
          "mesh3d": [
           {
            "colorbar": {
             "outlinewidth": 0,
             "ticks": ""
            },
            "type": "mesh3d"
           }
          ],
          "parcoords": [
           {
            "line": {
             "colorbar": {
              "outlinewidth": 0,
              "ticks": ""
             }
            },
            "type": "parcoords"
           }
          ],
          "pie": [
           {
            "automargin": true,
            "type": "pie"
           }
          ],
          "scatter": [
           {
            "fillpattern": {
             "fillmode": "overlay",
             "size": 10,
             "solidity": 0.2
            },
            "type": "scatter"
           }
          ],
          "scatter3d": [
           {
            "line": {
             "colorbar": {
              "outlinewidth": 0,
              "ticks": ""
             }
            },
            "marker": {
             "colorbar": {
              "outlinewidth": 0,
              "ticks": ""
             }
            },
            "type": "scatter3d"
           }
          ],
          "scattercarpet": [
           {
            "marker": {
             "colorbar": {
              "outlinewidth": 0,
              "ticks": ""
             }
            },
            "type": "scattercarpet"
           }
          ],
          "scattergeo": [
           {
            "marker": {
             "colorbar": {
              "outlinewidth": 0,
              "ticks": ""
             }
            },
            "type": "scattergeo"
           }
          ],
          "scattergl": [
           {
            "marker": {
             "colorbar": {
              "outlinewidth": 0,
              "ticks": ""
             }
            },
            "type": "scattergl"
           }
          ],
          "scattermapbox": [
           {
            "marker": {
             "colorbar": {
              "outlinewidth": 0,
              "ticks": ""
             }
            },
            "type": "scattermapbox"
           }
          ],
          "scatterpolar": [
           {
            "marker": {
             "colorbar": {
              "outlinewidth": 0,
              "ticks": ""
             }
            },
            "type": "scatterpolar"
           }
          ],
          "scatterpolargl": [
           {
            "marker": {
             "colorbar": {
              "outlinewidth": 0,
              "ticks": ""
             }
            },
            "type": "scatterpolargl"
           }
          ],
          "scatterternary": [
           {
            "marker": {
             "colorbar": {
              "outlinewidth": 0,
              "ticks": ""
             }
            },
            "type": "scatterternary"
           }
          ],
          "surface": [
           {
            "colorbar": {
             "outlinewidth": 0,
             "ticks": ""
            },
            "colorscale": [
             [
              0,
              "#0d0887"
             ],
             [
              0.1111111111111111,
              "#46039f"
             ],
             [
              0.2222222222222222,
              "#7201a8"
             ],
             [
              0.3333333333333333,
              "#9c179e"
             ],
             [
              0.4444444444444444,
              "#bd3786"
             ],
             [
              0.5555555555555556,
              "#d8576b"
             ],
             [
              0.6666666666666666,
              "#ed7953"
             ],
             [
              0.7777777777777778,
              "#fb9f3a"
             ],
             [
              0.8888888888888888,
              "#fdca26"
             ],
             [
              1,
              "#f0f921"
             ]
            ],
            "type": "surface"
           }
          ],
          "table": [
           {
            "cells": {
             "fill": {
              "color": "#EBF0F8"
             },
             "line": {
              "color": "white"
             }
            },
            "header": {
             "fill": {
              "color": "#C8D4E3"
             },
             "line": {
              "color": "white"
             }
            },
            "type": "table"
           }
          ]
         },
         "layout": {
          "annotationdefaults": {
           "arrowcolor": "#2a3f5f",
           "arrowhead": 0,
           "arrowwidth": 1
          },
          "autotypenumbers": "strict",
          "coloraxis": {
           "colorbar": {
            "outlinewidth": 0,
            "ticks": ""
           }
          },
          "colorscale": {
           "diverging": [
            [
             0,
             "#8e0152"
            ],
            [
             0.1,
             "#c51b7d"
            ],
            [
             0.2,
             "#de77ae"
            ],
            [
             0.3,
             "#f1b6da"
            ],
            [
             0.4,
             "#fde0ef"
            ],
            [
             0.5,
             "#f7f7f7"
            ],
            [
             0.6,
             "#e6f5d0"
            ],
            [
             0.7,
             "#b8e186"
            ],
            [
             0.8,
             "#7fbc41"
            ],
            [
             0.9,
             "#4d9221"
            ],
            [
             1,
             "#276419"
            ]
           ],
           "sequential": [
            [
             0,
             "#0d0887"
            ],
            [
             0.1111111111111111,
             "#46039f"
            ],
            [
             0.2222222222222222,
             "#7201a8"
            ],
            [
             0.3333333333333333,
             "#9c179e"
            ],
            [
             0.4444444444444444,
             "#bd3786"
            ],
            [
             0.5555555555555556,
             "#d8576b"
            ],
            [
             0.6666666666666666,
             "#ed7953"
            ],
            [
             0.7777777777777778,
             "#fb9f3a"
            ],
            [
             0.8888888888888888,
             "#fdca26"
            ],
            [
             1,
             "#f0f921"
            ]
           ],
           "sequentialminus": [
            [
             0,
             "#0d0887"
            ],
            [
             0.1111111111111111,
             "#46039f"
            ],
            [
             0.2222222222222222,
             "#7201a8"
            ],
            [
             0.3333333333333333,
             "#9c179e"
            ],
            [
             0.4444444444444444,
             "#bd3786"
            ],
            [
             0.5555555555555556,
             "#d8576b"
            ],
            [
             0.6666666666666666,
             "#ed7953"
            ],
            [
             0.7777777777777778,
             "#fb9f3a"
            ],
            [
             0.8888888888888888,
             "#fdca26"
            ],
            [
             1,
             "#f0f921"
            ]
           ]
          },
          "colorway": [
           "#636efa",
           "#EF553B",
           "#00cc96",
           "#ab63fa",
           "#FFA15A",
           "#19d3f3",
           "#FF6692",
           "#B6E880",
           "#FF97FF",
           "#FECB52"
          ],
          "font": {
           "color": "#2a3f5f"
          },
          "geo": {
           "bgcolor": "white",
           "lakecolor": "white",
           "landcolor": "#E5ECF6",
           "showlakes": true,
           "showland": true,
           "subunitcolor": "white"
          },
          "hoverlabel": {
           "align": "left"
          },
          "hovermode": "closest",
          "mapbox": {
           "style": "light"
          },
          "paper_bgcolor": "white",
          "plot_bgcolor": "#E5ECF6",
          "polar": {
           "angularaxis": {
            "gridcolor": "white",
            "linecolor": "white",
            "ticks": ""
           },
           "bgcolor": "#E5ECF6",
           "radialaxis": {
            "gridcolor": "white",
            "linecolor": "white",
            "ticks": ""
           }
          },
          "scene": {
           "xaxis": {
            "backgroundcolor": "#E5ECF6",
            "gridcolor": "white",
            "gridwidth": 2,
            "linecolor": "white",
            "showbackground": true,
            "ticks": "",
            "zerolinecolor": "white"
           },
           "yaxis": {
            "backgroundcolor": "#E5ECF6",
            "gridcolor": "white",
            "gridwidth": 2,
            "linecolor": "white",
            "showbackground": true,
            "ticks": "",
            "zerolinecolor": "white"
           },
           "zaxis": {
            "backgroundcolor": "#E5ECF6",
            "gridcolor": "white",
            "gridwidth": 2,
            "linecolor": "white",
            "showbackground": true,
            "ticks": "",
            "zerolinecolor": "white"
           }
          },
          "shapedefaults": {
           "line": {
            "color": "#2a3f5f"
           }
          },
          "ternary": {
           "aaxis": {
            "gridcolor": "white",
            "linecolor": "white",
            "ticks": ""
           },
           "baxis": {
            "gridcolor": "white",
            "linecolor": "white",
            "ticks": ""
           },
           "bgcolor": "#E5ECF6",
           "caxis": {
            "gridcolor": "white",
            "linecolor": "white",
            "ticks": ""
           }
          },
          "title": {
           "x": 0.05
          },
          "xaxis": {
           "automargin": true,
           "gridcolor": "white",
           "linecolor": "white",
           "ticks": "",
           "title": {
            "standoff": 15
           },
           "zerolinecolor": "white",
           "zerolinewidth": 2
          },
          "yaxis": {
           "automargin": true,
           "gridcolor": "white",
           "linecolor": "white",
           "ticks": "",
           "title": {
            "standoff": 15
           },
           "zerolinecolor": "white",
           "zerolinewidth": 2
          }
         }
        },
        "title": {
         "text": "Comparación de Población Nativa y Extranjera por Provincia"
        },
        "xaxis": {
         "anchor": "y",
         "domain": [
          0,
          1
         ],
         "title": {
          "text": "Provincia"
         }
        },
        "yaxis": {
         "anchor": "x",
         "domain": [
          0,
          1
         ],
         "title": {
          "text": "Población"
         }
        }
       }
      }
     },
     "metadata": {},
     "output_type": "display_data"
    }
   ],
   "source": [
    "# Gráfico de barras apiladas\n",
    "barras = px.bar(\n",
    "    df,\n",
    "    x=\"Provincia\",\n",
    "    y=[\"Española\", \"Extranjera\"],\n",
    "    title=\"Comparación de Población Nativa y Extranjera por Provincia\",\n",
    "    labels={\"value\": \"Población\", \"variable\": \"Tipo de Población\"},\n",
    "    barmode=\"stack\"\n",
    ")\n",
    "barras"
   ]
  },
  {
   "cell_type": "code",
   "execution_count": null,
   "metadata": {},
   "outputs": [],
   "source": []
  },
  {
   "cell_type": "code",
   "execution_count": 102,
   "metadata": {},
   "outputs": [
    {
     "data": {
      "text/html": [
       "\n",
       "        <iframe\n",
       "            width=\"100%\"\n",
       "            height=\"650\"\n",
       "            src=\"http://127.0.0.1:8050/\"\n",
       "            frameborder=\"0\"\n",
       "            allowfullscreen\n",
       "            \n",
       "        ></iframe>\n",
       "        "
      ],
      "text/plain": [
       "<IPython.lib.display.IFrame at 0x1eeb5fb52d0>"
      ]
     },
     "metadata": {},
     "output_type": "display_data"
    }
   ],
   "source": [
    "import pandas as pd\n",
    "from dash import Dash, dcc, html\n",
    "import plotly.express as px\n",
    "\n",
    "# Dataset de ejemplo\n",
    "df = datos_mapeo\n",
    "\n",
    "# Calcular proporciones\n",
    "df[\"% Española\"] = (df[\"Española\"] / (df[\"Española\"] + df[\"Extranjera\"])) * 100\n",
    "df[\"% Extranjera\"] = 100 - df[\"% Nativa\"]\n",
    "\n",
    "# Crear la aplicación Dash\n",
    "app = Dash(__name__)\n",
    "\n",
    "# Mapa interactivo\n",
    "mapa = px.scatter_mapbox(\n",
    "    df,\n",
    "    lat=\"Latitud\",\n",
    "    lon=\"Longitud\",\n",
    "    size=\"Extranjera\",\n",
    "    color=\"% Extranjera\",\n",
    "    hover_name=\"Provincia\",\n",
    "    hover_data={\"Latitud\": False, \"Longitud\": False},\n",
    "    mapbox_style=\"carto-positron\",\n",
    "    zoom=5,\n",
    "    title=\"Distribución de Población Extranjera en España\"\n",
    ")\n",
    "\n",
    "# Gráfico de barras apiladas\n",
    "barras = px.bar(\n",
    "    df,\n",
    "    x=\"Provincia\",\n",
    "    y=[\"Española\", \"Extranjera\"],\n",
    "    title=\"Comparación de Población Nativa y Extranjera por Provincia\",\n",
    "    labels={\"value\": \"Población\", \"variable\": \"Tipo de Población\"},\n",
    "    barmode=\"stack\"\n",
    ")\n",
    "\n",
    "# Pie Chart interactivo\n",
    "pie_chart = px.pie(\n",
    "    df,\n",
    "    names=\"Provincia\",\n",
    "    values=\"Extranjera\",\n",
    "    title=\"Proporción de Población Extranjera por Provincia\"\n",
    ")\n",
    "\n",
    "# Layout del Dashboard\n",
    "app.layout = html.Div([\n",
    "    html.H1(\"Dashboard de Población en España\", style={\"textAlign\": \"center\"}),\n",
    "    \n",
    "    # Primer bloque: mapa\n",
    "    html.Div([\n",
    "        dcc.Graph(figure=mapa)\n",
    "    ], style={\"width\": \"80%\", \"margin\": \"auto\"}),\n",
    "\n",
    "    # Segundo bloque: gráficos\n",
    "    html.Div([\n",
    "        html.Div([\n",
    "            dcc.Graph(figure=barras)\n",
    "        ], style={\"width\": \"48%\", \"display\": \"inline-block\"}),\n",
    "\n",
    "        html.Div([\n",
    "            dcc.Graph(figure=pie_chart)\n",
    "        ], style={\"width\": \"48%\", \"display\": \"inline-block\"})\n",
    "    ])\n",
    "])\n",
    "\n",
    "# Ejecutar la aplicación\n",
    "if __name__ == \"__main__\":\n",
    "    app.run_server(debug=True)\n"
   ]
  }
 ],
 "metadata": {
  "kernelspec": {
   "display_name": "Python 3",
   "language": "python",
   "name": "python3"
  },
  "language_info": {
   "codemirror_mode": {
    "name": "ipython",
    "version": 3
   },
   "file_extension": ".py",
   "mimetype": "text/x-python",
   "name": "python",
   "nbconvert_exporter": "python",
   "pygments_lexer": "ipython3",
   "version": "3.10.7"
  }
 },
 "nbformat": 4,
 "nbformat_minor": 2
}
