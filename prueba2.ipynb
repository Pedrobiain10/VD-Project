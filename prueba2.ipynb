{
 "cells": [
  {
   "cell_type": "markdown",
   "metadata": {},
   "source": [
    "Pedro Biain Alvarez \n",
    "uc2024170406@student.uc.pt\n",
    "\n",
    "Dario Jose Iglesisas\n",
    "\n"
   ]
  },
  {
   "cell_type": "code",
   "execution_count": 2,
   "metadata": {},
   "outputs": [
    {
     "name": "stderr",
     "output_type": "stream",
     "text": [
      "c:\\Users\\bykon\\AppData\\Local\\Programs\\Python\\Python310\\lib\\site-packages\\openpyxl\\styles\\stylesheet.py:237: UserWarning: Workbook contains no default style, apply openpyxl's default\n",
      "  warn(\"Workbook contains no default style, apply openpyxl's default\")\n"
     ]
    },
    {
     "data": {
      "text/html": [
       "<div>\n",
       "<style scoped>\n",
       "    .dataframe tbody tr th:only-of-type {\n",
       "        vertical-align: middle;\n",
       "    }\n",
       "\n",
       "    .dataframe tbody tr th {\n",
       "        vertical-align: top;\n",
       "    }\n",
       "\n",
       "    .dataframe thead th {\n",
       "        text-align: right;\n",
       "    }\n",
       "</style>\n",
       "<table border=\"1\" class=\"dataframe\">\n",
       "  <thead>\n",
       "    <tr style=\"text-align: right;\">\n",
       "      <th></th>\n",
       "      <th>Provincia</th>\n",
       "      <th>Total</th>\n",
       "      <th>Española</th>\n",
       "      <th>Extranjera</th>\n",
       "    </tr>\n",
       "  </thead>\n",
       "  <tbody>\n",
       "    <tr>\n",
       "      <th>46</th>\n",
       "      <td>46 Valencia/València</td>\n",
       "      <td>2656841</td>\n",
       "      <td>2306155</td>\n",
       "      <td>350686</td>\n",
       "    </tr>\n",
       "    <tr>\n",
       "      <th>47</th>\n",
       "      <td>47 Valladolid</td>\n",
       "      <td>521333</td>\n",
       "      <td>487981</td>\n",
       "      <td>33352</td>\n",
       "    </tr>\n",
       "    <tr>\n",
       "      <th>48</th>\n",
       "      <td>48 Bizkaia</td>\n",
       "      <td>1153282</td>\n",
       "      <td>1054185</td>\n",
       "      <td>99097</td>\n",
       "    </tr>\n",
       "    <tr>\n",
       "      <th>49</th>\n",
       "      <td>49 Zamora</td>\n",
       "      <td>166927</td>\n",
       "      <td>159326</td>\n",
       "      <td>7601</td>\n",
       "    </tr>\n",
       "    <tr>\n",
       "      <th>50</th>\n",
       "      <td>50 Zaragoza</td>\n",
       "      <td>979365</td>\n",
       "      <td>846939</td>\n",
       "      <td>132426</td>\n",
       "    </tr>\n",
       "  </tbody>\n",
       "</table>\n",
       "</div>"
      ],
      "text/plain": [
       "               Provincia    Total Española Extranjera\n",
       "46  46 Valencia/València  2656841  2306155     350686\n",
       "47         47 Valladolid   521333   487981      33352\n",
       "48            48 Bizkaia  1153282  1054185      99097\n",
       "49             49 Zamora   166927   159326       7601\n",
       "50           50 Zaragoza   979365   846939     132426"
      ]
     },
     "execution_count": 2,
     "metadata": {},
     "output_type": "execute_result"
    }
   ],
   "source": [
    "import pandas as pd\n",
    "\n",
    "# Carga las bases de datos de población y coordenadas\n",
    "poblacion_df = pd.read_excel(\"poblacion.xlsx\")  # Base de datos de población\n",
    "poblacion_df = poblacion_df.iloc[6:].reset_index(drop=True)\n",
    "poblacion_df = poblacion_df[1:]\n",
    "poblacion_df.columns = ['Provincia','Total','Española','Extranjera']\n",
    "poblacion_df = poblacion_df.iloc[:-8]\n",
    "poblacion_df.tail()\n",
    "#print(len(poblacion_df))\n",
    "\n",
    "\n",
    "\n"
   ]
  },
  {
   "cell_type": "code",
   "execution_count": 3,
   "metadata": {},
   "outputs": [
    {
     "data": {
      "text/html": [
       "<div>\n",
       "<style scoped>\n",
       "    .dataframe tbody tr th:only-of-type {\n",
       "        vertical-align: middle;\n",
       "    }\n",
       "\n",
       "    .dataframe tbody tr th {\n",
       "        vertical-align: top;\n",
       "    }\n",
       "\n",
       "    .dataframe thead th {\n",
       "        text-align: right;\n",
       "    }\n",
       "</style>\n",
       "<table border=\"1\" class=\"dataframe\">\n",
       "  <thead>\n",
       "    <tr style=\"text-align: right;\">\n",
       "      <th></th>\n",
       "      <th>Provincia</th>\n",
       "      <th>Total</th>\n",
       "      <th>Española</th>\n",
       "      <th>Extranjera</th>\n",
       "    </tr>\n",
       "  </thead>\n",
       "  <tbody>\n",
       "    <tr>\n",
       "      <th>1</th>\n",
       "      <td>Álava</td>\n",
       "      <td>336308</td>\n",
       "      <td>301302</td>\n",
       "      <td>35006</td>\n",
       "    </tr>\n",
       "    <tr>\n",
       "      <th>2</th>\n",
       "      <td>Albacete</td>\n",
       "      <td>387529</td>\n",
       "      <td>356856</td>\n",
       "      <td>30673</td>\n",
       "    </tr>\n",
       "    <tr>\n",
       "      <th>3</th>\n",
       "      <td>Alicante</td>\n",
       "      <td>1955268</td>\n",
       "      <td>1518766</td>\n",
       "      <td>436502</td>\n",
       "    </tr>\n",
       "    <tr>\n",
       "      <th>4</th>\n",
       "      <td>Almería</td>\n",
       "      <td>753364</td>\n",
       "      <td>583918</td>\n",
       "      <td>169446</td>\n",
       "    </tr>\n",
       "    <tr>\n",
       "      <th>5</th>\n",
       "      <td>Asturias</td>\n",
       "      <td>159764</td>\n",
       "      <td>146896</td>\n",
       "      <td>12868</td>\n",
       "    </tr>\n",
       "  </tbody>\n",
       "</table>\n",
       "</div>"
      ],
      "text/plain": [
       "  Provincia    Total Española Extranjera\n",
       "1     Álava   336308   301302      35006\n",
       "2  Albacete   387529   356856      30673\n",
       "3  Alicante  1955268  1518766     436502\n",
       "4   Almería   753364   583918     169446\n",
       "5  Asturias   159764   146896      12868"
      ]
     },
     "execution_count": 3,
     "metadata": {},
     "output_type": "execute_result"
    }
   ],
   "source": [
    "provincias_nuevas = [\n",
    "    'Álava', 'Albacete', 'Alicante', 'Almería', 'Asturias', 'Ávila', 'Badajoz', 'Barcelona',\n",
    "    'Burgos', 'Cáceres', 'Cádiz', 'Cantabria', 'Castellón', 'Ciudad Real', 'Córdoba', 'Cuenca','Coruña, A',\n",
    "    'Gerona', 'Granada', 'Guadalajara', 'Gipuzkoa', 'Huelva', 'Huesca', 'Islas Baleares', 'Jaén', \n",
    "    'La Rioja', 'Las Palmas', 'León', 'Lleida', 'Lugo', 'Madrid', 'Málaga', 'Murcia',\n",
    "    'Navarra', 'Ourense', 'Palencia', 'Pontevedra', 'Salamanca', 'Segovia', 'Sevilla', 'Soria',\n",
    "    'Tarragona', 'Santa Cruz de Tenerife', 'Teruel', 'Toledo', 'Valencia', 'Valladolid', 'Vizcaya', 'Zamora', 'Zaragoza'\n",
    "]\n",
    "\n",
    "# Reemplazar los valores de la columna 'provincia' con la lista de provincias\n",
    "poblacion_df['Provincia'] = provincias_nuevas\n",
    "poblacion_df.head(5)"
   ]
  },
  {
   "cell_type": "code",
   "execution_count": 4,
   "metadata": {},
   "outputs": [
    {
     "data": {
      "text/html": [
       "<div>\n",
       "<style scoped>\n",
       "    .dataframe tbody tr th:only-of-type {\n",
       "        vertical-align: middle;\n",
       "    }\n",
       "\n",
       "    .dataframe tbody tr th {\n",
       "        vertical-align: top;\n",
       "    }\n",
       "\n",
       "    .dataframe thead th {\n",
       "        text-align: right;\n",
       "    }\n",
       "</style>\n",
       "<table border=\"1\" class=\"dataframe\">\n",
       "  <thead>\n",
       "    <tr style=\"text-align: right;\">\n",
       "      <th></th>\n",
       "      <th>Provincia</th>\n",
       "      <th>Latitud</th>\n",
       "      <th>Longitud</th>\n",
       "    </tr>\n",
       "  </thead>\n",
       "  <tbody>\n",
       "    <tr>\n",
       "      <th>0</th>\n",
       "      <td>Álava</td>\n",
       "      <td>42.8500</td>\n",
       "      <td>-2.6725</td>\n",
       "    </tr>\n",
       "    <tr>\n",
       "      <th>1</th>\n",
       "      <td>Albacete</td>\n",
       "      <td>38.9940</td>\n",
       "      <td>-1.8585</td>\n",
       "    </tr>\n",
       "    <tr>\n",
       "      <th>2</th>\n",
       "      <td>Alicante</td>\n",
       "      <td>38.3452</td>\n",
       "      <td>-0.4810</td>\n",
       "    </tr>\n",
       "    <tr>\n",
       "      <th>3</th>\n",
       "      <td>Almería</td>\n",
       "      <td>36.8340</td>\n",
       "      <td>-2.4637</td>\n",
       "    </tr>\n",
       "    <tr>\n",
       "      <th>4</th>\n",
       "      <td>Asturias</td>\n",
       "      <td>43.3610</td>\n",
       "      <td>-5.8494</td>\n",
       "    </tr>\n",
       "  </tbody>\n",
       "</table>\n",
       "</div>"
      ],
      "text/plain": [
       "  Provincia  Latitud  Longitud\n",
       "0     Álava  42.8500   -2.6725\n",
       "1  Albacete  38.9940   -1.8585\n",
       "2  Alicante  38.3452   -0.4810\n",
       "3   Almería  36.8340   -2.4637\n",
       "4  Asturias  43.3610   -5.8494"
      ]
     },
     "execution_count": 4,
     "metadata": {},
     "output_type": "execute_result"
    }
   ],
   "source": [
    "df_provincias = pd.read_csv(\"provincias_actualizado.csv\")  # Base de datos de coordenadas\n",
    "df_provincias = df_provincias.iloc[:,:-3]\n",
    "df_provincias.head(5)\n",
    "\n",
    "\n"
   ]
  },
  {
   "cell_type": "code",
   "execution_count": 5,
   "metadata": {},
   "outputs": [
    {
     "data": {
      "text/html": [
       "<div>\n",
       "<style scoped>\n",
       "    .dataframe tbody tr th:only-of-type {\n",
       "        vertical-align: middle;\n",
       "    }\n",
       "\n",
       "    .dataframe tbody tr th {\n",
       "        vertical-align: top;\n",
       "    }\n",
       "\n",
       "    .dataframe thead th {\n",
       "        text-align: right;\n",
       "    }\n",
       "</style>\n",
       "<table border=\"1\" class=\"dataframe\">\n",
       "  <thead>\n",
       "    <tr style=\"text-align: right;\">\n",
       "      <th></th>\n",
       "      <th>Provincia</th>\n",
       "      <th>Latitud</th>\n",
       "      <th>Longitud</th>\n",
       "    </tr>\n",
       "  </thead>\n",
       "  <tbody>\n",
       "    <tr>\n",
       "      <th>0</th>\n",
       "      <td>Álava</td>\n",
       "      <td>42.8500</td>\n",
       "      <td>-2.6725</td>\n",
       "    </tr>\n",
       "    <tr>\n",
       "      <th>1</th>\n",
       "      <td>Albacete</td>\n",
       "      <td>38.9940</td>\n",
       "      <td>-1.8585</td>\n",
       "    </tr>\n",
       "    <tr>\n",
       "      <th>2</th>\n",
       "      <td>Alicante</td>\n",
       "      <td>38.3452</td>\n",
       "      <td>-0.4810</td>\n",
       "    </tr>\n",
       "    <tr>\n",
       "      <th>3</th>\n",
       "      <td>Almería</td>\n",
       "      <td>36.8340</td>\n",
       "      <td>-2.4637</td>\n",
       "    </tr>\n",
       "    <tr>\n",
       "      <th>4</th>\n",
       "      <td>Asturias</td>\n",
       "      <td>43.3610</td>\n",
       "      <td>-5.8494</td>\n",
       "    </tr>\n",
       "  </tbody>\n",
       "</table>\n",
       "</div>"
      ],
      "text/plain": [
       "  Provincia  Latitud  Longitud\n",
       "0     Álava  42.8500   -2.6725\n",
       "1  Albacete  38.9940   -1.8585\n",
       "2  Alicante  38.3452   -0.4810\n",
       "3   Almería  36.8340   -2.4637\n",
       "4  Asturias  43.3610   -5.8494"
      ]
     },
     "execution_count": 5,
     "metadata": {},
     "output_type": "execute_result"
    }
   ],
   "source": [
    "provincias_nuevas = [\n",
    "    'Álava', 'Albacete', 'Alicante', 'Almería', 'Asturias', 'Ávila', 'Badajoz', 'Barcelona',\n",
    "    'Burgos', 'Cáceres', 'Cádiz', 'Cantabria', 'Castellón', 'Ciudad Real', 'Córdoba', 'Cuenca','Coruña, A',\n",
    "    'Gerona', 'Granada', 'Guadalajara', 'Gipuzkoa', 'Huelva', 'Huesca', 'Islas Baleares', 'Jaén', \n",
    "    'La Rioja', 'Las Palmas', 'León', 'Lleida', 'Lugo', 'Madrid', 'Málaga', 'Murcia',\n",
    "    'Navarra', 'Ourense', 'Palencia', 'Pontevedra', 'Salamanca', 'Segovia', 'Sevilla', 'Soria',\n",
    "    'Tarragona', 'Santa Cruz de Tenerife', 'Teruel', 'Toledo', 'Valencia', 'Valladolid', 'Vizcaya', 'Zamora', 'Zaragoza'\n",
    "]\n",
    "\n",
    "# Reemplazar los valores de la columna 'provincia' con la lista de provincias\n",
    "df_provincias['Provincia'] = provincias_nuevas\n",
    "df_provincias.head(5)"
   ]
  },
  {
   "cell_type": "code",
   "execution_count": 6,
   "metadata": {},
   "outputs": [],
   "source": [
    "# Cruza ambas bases de datos en función de un campo común, como el nombre del municipio o código del INE\n",
    "datos_mapeo = pd.merge(poblacion_df, df_provincias, on=\"Provincia\")  # Ajusta el nombre de la columna de cruce\n",
    "datos_mapeo.head(5)\n",
    "datos_mapeo.to_csv('datos_mapeo.csv', index=False)"
   ]
  },
  {
   "cell_type": "markdown",
   "metadata": {},
   "source": [
    "### Primera Visualizacion\n"
   ]
  },
  {
   "cell_type": "code",
   "execution_count": 7,
   "metadata": {},
   "outputs": [
    {
     "ename": "TypeError",
     "evalue": "Image data of dtype object cannot be converted to float",
     "output_type": "error",
     "traceback": [
      "\u001b[1;31m---------------------------------------------------------------------------\u001b[0m",
      "\u001b[1;31mTypeError\u001b[0m                                 Traceback (most recent call last)",
      "Cell \u001b[1;32mIn[7], line 18\u001b[0m\n\u001b[0;32m     16\u001b[0m \u001b[38;5;66;03m# Crear heatmap\u001b[39;00m\n\u001b[0;32m     17\u001b[0m plt\u001b[38;5;241m.\u001b[39mfigure(figsize\u001b[38;5;241m=\u001b[39m(\u001b[38;5;241m8\u001b[39m, \u001b[38;5;241m6\u001b[39m))\n\u001b[1;32m---> 18\u001b[0m \u001b[43msns\u001b[49m\u001b[38;5;241;43m.\u001b[39;49m\u001b[43mheatmap\u001b[49m\u001b[43m(\u001b[49m\u001b[43mheatmap_data\u001b[49m\u001b[43m,\u001b[49m\u001b[43m \u001b[49m\u001b[43mannot\u001b[49m\u001b[38;5;241;43m=\u001b[39;49m\u001b[38;5;28;43;01mTrue\u001b[39;49;00m\u001b[43m,\u001b[49m\u001b[43m \u001b[49m\u001b[43mcmap\u001b[49m\u001b[38;5;241;43m=\u001b[39;49m\u001b[38;5;124;43m\"\u001b[39;49m\u001b[38;5;124;43mcoolwarm\u001b[39;49m\u001b[38;5;124;43m\"\u001b[39;49m\u001b[43m,\u001b[49m\u001b[43m \u001b[49m\u001b[43mcbar_kws\u001b[49m\u001b[38;5;241;43m=\u001b[39;49m\u001b[43m{\u001b[49m\u001b[38;5;124;43m'\u001b[39;49m\u001b[38;5;124;43mlabel\u001b[39;49m\u001b[38;5;124;43m'\u001b[39;49m\u001b[43m:\u001b[49m\u001b[43m \u001b[49m\u001b[38;5;124;43m'\u001b[39;49m\u001b[38;5;124;43mProporción\u001b[39;49m\u001b[38;5;124;43m'\u001b[39;49m\u001b[43m}\u001b[49m\u001b[43m)\u001b[49m\n\u001b[0;32m     19\u001b[0m plt\u001b[38;5;241m.\u001b[39mtitle(\u001b[38;5;124m\"\u001b[39m\u001b[38;5;124mDistribución de Población por Provincia\u001b[39m\u001b[38;5;124m\"\u001b[39m)\n\u001b[0;32m     20\u001b[0m plt\u001b[38;5;241m.\u001b[39mylabel(\u001b[38;5;124m\"\u001b[39m\u001b[38;5;124mCategoría de Población\u001b[39m\u001b[38;5;124m\"\u001b[39m)\n",
      "File \u001b[1;32mc:\\Users\\bykon\\AppData\\Local\\Programs\\Python\\Python310\\lib\\site-packages\\seaborn\\matrix.py:459\u001b[0m, in \u001b[0;36mheatmap\u001b[1;34m(data, vmin, vmax, cmap, center, robust, annot, fmt, annot_kws, linewidths, linecolor, cbar, cbar_kws, cbar_ax, square, xticklabels, yticklabels, mask, ax, **kwargs)\u001b[0m\n\u001b[0;32m    457\u001b[0m \u001b[38;5;28;01mif\u001b[39;00m square:\n\u001b[0;32m    458\u001b[0m     ax\u001b[38;5;241m.\u001b[39mset_aspect(\u001b[38;5;124m\"\u001b[39m\u001b[38;5;124mequal\u001b[39m\u001b[38;5;124m\"\u001b[39m)\n\u001b[1;32m--> 459\u001b[0m \u001b[43mplotter\u001b[49m\u001b[38;5;241;43m.\u001b[39;49m\u001b[43mplot\u001b[49m\u001b[43m(\u001b[49m\u001b[43max\u001b[49m\u001b[43m,\u001b[49m\u001b[43m \u001b[49m\u001b[43mcbar_ax\u001b[49m\u001b[43m,\u001b[49m\u001b[43m \u001b[49m\u001b[43mkwargs\u001b[49m\u001b[43m)\u001b[49m\n\u001b[0;32m    460\u001b[0m \u001b[38;5;28;01mreturn\u001b[39;00m ax\n",
      "File \u001b[1;32mc:\\Users\\bykon\\AppData\\Local\\Programs\\Python\\Python310\\lib\\site-packages\\seaborn\\matrix.py:306\u001b[0m, in \u001b[0;36m_HeatMapper.plot\u001b[1;34m(self, ax, cax, kws)\u001b[0m\n\u001b[0;32m    303\u001b[0m     kws\u001b[38;5;241m.\u001b[39msetdefault(\u001b[38;5;124m\"\u001b[39m\u001b[38;5;124mvmax\u001b[39m\u001b[38;5;124m\"\u001b[39m, \u001b[38;5;28mself\u001b[39m\u001b[38;5;241m.\u001b[39mvmax)\n\u001b[0;32m    305\u001b[0m \u001b[38;5;66;03m# Draw the heatmap\u001b[39;00m\n\u001b[1;32m--> 306\u001b[0m mesh \u001b[38;5;241m=\u001b[39m ax\u001b[38;5;241m.\u001b[39mpcolormesh(\u001b[38;5;28mself\u001b[39m\u001b[38;5;241m.\u001b[39mplot_data, cmap\u001b[38;5;241m=\u001b[39m\u001b[38;5;28mself\u001b[39m\u001b[38;5;241m.\u001b[39mcmap, \u001b[38;5;241m*\u001b[39m\u001b[38;5;241m*\u001b[39mkws)\n\u001b[0;32m    308\u001b[0m \u001b[38;5;66;03m# Set the axis limits\u001b[39;00m\n\u001b[0;32m    309\u001b[0m ax\u001b[38;5;241m.\u001b[39mset(xlim\u001b[38;5;241m=\u001b[39m(\u001b[38;5;241m0\u001b[39m, \u001b[38;5;28mself\u001b[39m\u001b[38;5;241m.\u001b[39mdata\u001b[38;5;241m.\u001b[39mshape[\u001b[38;5;241m1\u001b[39m]), ylim\u001b[38;5;241m=\u001b[39m(\u001b[38;5;241m0\u001b[39m, \u001b[38;5;28mself\u001b[39m\u001b[38;5;241m.\u001b[39mdata\u001b[38;5;241m.\u001b[39mshape[\u001b[38;5;241m0\u001b[39m]))\n",
      "File \u001b[1;32mc:\\Users\\bykon\\AppData\\Local\\Programs\\Python\\Python310\\lib\\site-packages\\matplotlib\\__init__.py:1478\u001b[0m, in \u001b[0;36m_preprocess_data.<locals>.inner\u001b[1;34m(ax, data, *args, **kwargs)\u001b[0m\n\u001b[0;32m   1475\u001b[0m \u001b[38;5;129m@functools\u001b[39m\u001b[38;5;241m.\u001b[39mwraps(func)\n\u001b[0;32m   1476\u001b[0m \u001b[38;5;28;01mdef\u001b[39;00m \u001b[38;5;21minner\u001b[39m(ax, \u001b[38;5;241m*\u001b[39margs, data\u001b[38;5;241m=\u001b[39m\u001b[38;5;28;01mNone\u001b[39;00m, \u001b[38;5;241m*\u001b[39m\u001b[38;5;241m*\u001b[39mkwargs):\n\u001b[0;32m   1477\u001b[0m     \u001b[38;5;28;01mif\u001b[39;00m data \u001b[38;5;129;01mis\u001b[39;00m \u001b[38;5;28;01mNone\u001b[39;00m:\n\u001b[1;32m-> 1478\u001b[0m         \u001b[38;5;28;01mreturn\u001b[39;00m func(ax, \u001b[38;5;241m*\u001b[39m\u001b[38;5;28mmap\u001b[39m(sanitize_sequence, args), \u001b[38;5;241m*\u001b[39m\u001b[38;5;241m*\u001b[39mkwargs)\n\u001b[0;32m   1480\u001b[0m     bound \u001b[38;5;241m=\u001b[39m new_sig\u001b[38;5;241m.\u001b[39mbind(ax, \u001b[38;5;241m*\u001b[39margs, \u001b[38;5;241m*\u001b[39m\u001b[38;5;241m*\u001b[39mkwargs)\n\u001b[0;32m   1481\u001b[0m     auto_label \u001b[38;5;241m=\u001b[39m (bound\u001b[38;5;241m.\u001b[39marguments\u001b[38;5;241m.\u001b[39mget(label_namer)\n\u001b[0;32m   1482\u001b[0m                   \u001b[38;5;129;01mor\u001b[39;00m bound\u001b[38;5;241m.\u001b[39mkwargs\u001b[38;5;241m.\u001b[39mget(label_namer))\n",
      "File \u001b[1;32mc:\\Users\\bykon\\AppData\\Local\\Programs\\Python\\Python310\\lib\\site-packages\\matplotlib\\axes\\_axes.py:6295\u001b[0m, in \u001b[0;36mAxes.pcolormesh\u001b[1;34m(self, alpha, norm, cmap, vmin, vmax, shading, antialiased, *args, **kwargs)\u001b[0m\n\u001b[0;32m   6291\u001b[0m coords \u001b[38;5;241m=\u001b[39m np\u001b[38;5;241m.\u001b[39mstack([X, Y], axis\u001b[38;5;241m=\u001b[39m\u001b[38;5;241m-\u001b[39m\u001b[38;5;241m1\u001b[39m)\n\u001b[0;32m   6293\u001b[0m kwargs\u001b[38;5;241m.\u001b[39msetdefault(\u001b[38;5;124m'\u001b[39m\u001b[38;5;124msnap\u001b[39m\u001b[38;5;124m'\u001b[39m, mpl\u001b[38;5;241m.\u001b[39mrcParams[\u001b[38;5;124m'\u001b[39m\u001b[38;5;124mpcolormesh.snap\u001b[39m\u001b[38;5;124m'\u001b[39m])\n\u001b[1;32m-> 6295\u001b[0m collection \u001b[38;5;241m=\u001b[39m mcoll\u001b[38;5;241m.\u001b[39mQuadMesh(\n\u001b[0;32m   6296\u001b[0m     coords, antialiased\u001b[38;5;241m=\u001b[39mantialiased, shading\u001b[38;5;241m=\u001b[39mshading,\n\u001b[0;32m   6297\u001b[0m     array\u001b[38;5;241m=\u001b[39mC, cmap\u001b[38;5;241m=\u001b[39mcmap, norm\u001b[38;5;241m=\u001b[39mnorm, alpha\u001b[38;5;241m=\u001b[39malpha, \u001b[38;5;241m*\u001b[39m\u001b[38;5;241m*\u001b[39mkwargs)\n\u001b[0;32m   6298\u001b[0m collection\u001b[38;5;241m.\u001b[39m_scale_norm(norm, vmin, vmax)\n\u001b[0;32m   6300\u001b[0m coords \u001b[38;5;241m=\u001b[39m coords\u001b[38;5;241m.\u001b[39mreshape(\u001b[38;5;241m-\u001b[39m\u001b[38;5;241m1\u001b[39m, \u001b[38;5;241m2\u001b[39m)  \u001b[38;5;66;03m# flatten the grid structure; keep x, y\u001b[39;00m\n",
      "File \u001b[1;32mc:\\Users\\bykon\\AppData\\Local\\Programs\\Python\\Python310\\lib\\site-packages\\matplotlib\\collections.py:2164\u001b[0m, in \u001b[0;36mQuadMesh.__init__\u001b[1;34m(self, coordinates, antialiased, shading, **kwargs)\u001b[0m\n\u001b[0;32m   2162\u001b[0m kwargs\u001b[38;5;241m.\u001b[39msetdefault(\u001b[38;5;124m\"\u001b[39m\u001b[38;5;124mpickradius\u001b[39m\u001b[38;5;124m\"\u001b[39m, \u001b[38;5;241m0\u001b[39m)\n\u001b[0;32m   2163\u001b[0m \u001b[38;5;28msuper\u001b[39m()\u001b[38;5;241m.\u001b[39m\u001b[38;5;21m__init__\u001b[39m(coordinates\u001b[38;5;241m=\u001b[39mcoordinates, shading\u001b[38;5;241m=\u001b[39mshading)\n\u001b[1;32m-> 2164\u001b[0m Collection\u001b[38;5;241m.\u001b[39m\u001b[38;5;21m__init__\u001b[39m(\u001b[38;5;28mself\u001b[39m, \u001b[38;5;241m*\u001b[39m\u001b[38;5;241m*\u001b[39mkwargs)\n\u001b[0;32m   2166\u001b[0m \u001b[38;5;28mself\u001b[39m\u001b[38;5;241m.\u001b[39m_antialiased \u001b[38;5;241m=\u001b[39m antialiased\n\u001b[0;32m   2167\u001b[0m \u001b[38;5;28mself\u001b[39m\u001b[38;5;241m.\u001b[39m_bbox \u001b[38;5;241m=\u001b[39m transforms\u001b[38;5;241m.\u001b[39mBbox\u001b[38;5;241m.\u001b[39munit()\n",
      "File \u001b[1;32mc:\\Users\\bykon\\AppData\\Local\\Programs\\Python\\Python310\\lib\\site-packages\\matplotlib\\collections.py:203\u001b[0m, in \u001b[0;36mCollection.__init__\u001b[1;34m(self, edgecolors, facecolors, linewidths, linestyles, capstyle, joinstyle, antialiaseds, offsets, offset_transform, norm, cmap, pickradius, hatch, urls, zorder, **kwargs)\u001b[0m\n\u001b[0;32m    200\u001b[0m \u001b[38;5;28mself\u001b[39m\u001b[38;5;241m.\u001b[39m_offset_transform \u001b[38;5;241m=\u001b[39m offset_transform\n\u001b[0;32m    202\u001b[0m \u001b[38;5;28mself\u001b[39m\u001b[38;5;241m.\u001b[39m_path_effects \u001b[38;5;241m=\u001b[39m \u001b[38;5;28;01mNone\u001b[39;00m\n\u001b[1;32m--> 203\u001b[0m \u001b[38;5;28;43mself\u001b[39;49m\u001b[38;5;241;43m.\u001b[39;49m\u001b[43m_internal_update\u001b[49m\u001b[43m(\u001b[49m\u001b[43mkwargs\u001b[49m\u001b[43m)\u001b[49m\n\u001b[0;32m    204\u001b[0m \u001b[38;5;28mself\u001b[39m\u001b[38;5;241m.\u001b[39m_paths \u001b[38;5;241m=\u001b[39m \u001b[38;5;28;01mNone\u001b[39;00m\n",
      "File \u001b[1;32mc:\\Users\\bykon\\AppData\\Local\\Programs\\Python\\Python310\\lib\\site-packages\\matplotlib\\artist.py:1219\u001b[0m, in \u001b[0;36mArtist._internal_update\u001b[1;34m(self, kwargs)\u001b[0m\n\u001b[0;32m   1212\u001b[0m \u001b[38;5;28;01mdef\u001b[39;00m \u001b[38;5;21m_internal_update\u001b[39m(\u001b[38;5;28mself\u001b[39m, kwargs):\n\u001b[0;32m   1213\u001b[0m \u001b[38;5;250m    \u001b[39m\u001b[38;5;124;03m\"\"\"\u001b[39;00m\n\u001b[0;32m   1214\u001b[0m \u001b[38;5;124;03m    Update artist properties without prenormalizing them, but generating\u001b[39;00m\n\u001b[0;32m   1215\u001b[0m \u001b[38;5;124;03m    errors as if calling `set`.\u001b[39;00m\n\u001b[0;32m   1216\u001b[0m \n\u001b[0;32m   1217\u001b[0m \u001b[38;5;124;03m    The lack of prenormalization is to maintain backcompatibility.\u001b[39;00m\n\u001b[0;32m   1218\u001b[0m \u001b[38;5;124;03m    \"\"\"\u001b[39;00m\n\u001b[1;32m-> 1219\u001b[0m     \u001b[38;5;28;01mreturn\u001b[39;00m \u001b[38;5;28;43mself\u001b[39;49m\u001b[38;5;241;43m.\u001b[39;49m\u001b[43m_update_props\u001b[49m\u001b[43m(\u001b[49m\n\u001b[0;32m   1220\u001b[0m \u001b[43m        \u001b[49m\u001b[43mkwargs\u001b[49m\u001b[43m,\u001b[49m\u001b[43m \u001b[49m\u001b[38;5;124;43m\"\u001b[39;49m\u001b[38;5;132;43;01m{cls.__name__}\u001b[39;49;00m\u001b[38;5;124;43m.set() got an unexpected keyword argument \u001b[39;49m\u001b[38;5;124;43m\"\u001b[39;49m\n\u001b[0;32m   1221\u001b[0m \u001b[43m        \u001b[49m\u001b[38;5;124;43m\"\u001b[39;49m\u001b[38;5;132;43;01m{prop_name!r}\u001b[39;49;00m\u001b[38;5;124;43m\"\u001b[39;49m\u001b[43m)\u001b[49m\n",
      "File \u001b[1;32mc:\\Users\\bykon\\AppData\\Local\\Programs\\Python\\Python310\\lib\\site-packages\\matplotlib\\artist.py:1195\u001b[0m, in \u001b[0;36mArtist._update_props\u001b[1;34m(self, props, errfmt)\u001b[0m\n\u001b[0;32m   1192\u001b[0m             \u001b[38;5;28;01mif\u001b[39;00m \u001b[38;5;129;01mnot\u001b[39;00m \u001b[38;5;28mcallable\u001b[39m(func):\n\u001b[0;32m   1193\u001b[0m                 \u001b[38;5;28;01mraise\u001b[39;00m \u001b[38;5;167;01mAttributeError\u001b[39;00m(\n\u001b[0;32m   1194\u001b[0m                     errfmt\u001b[38;5;241m.\u001b[39mformat(\u001b[38;5;28mcls\u001b[39m\u001b[38;5;241m=\u001b[39m\u001b[38;5;28mtype\u001b[39m(\u001b[38;5;28mself\u001b[39m), prop_name\u001b[38;5;241m=\u001b[39mk))\n\u001b[1;32m-> 1195\u001b[0m             ret\u001b[38;5;241m.\u001b[39mappend(\u001b[43mfunc\u001b[49m\u001b[43m(\u001b[49m\u001b[43mv\u001b[49m\u001b[43m)\u001b[49m)\n\u001b[0;32m   1196\u001b[0m \u001b[38;5;28;01mif\u001b[39;00m ret:\n\u001b[0;32m   1197\u001b[0m     \u001b[38;5;28mself\u001b[39m\u001b[38;5;241m.\u001b[39mpchanged()\n",
      "File \u001b[1;32mc:\\Users\\bykon\\AppData\\Local\\Programs\\Python\\Python310\\lib\\site-packages\\matplotlib\\collections.py:2038\u001b[0m, in \u001b[0;36m_MeshData.set_array\u001b[1;34m(self, A)\u001b[0m\n\u001b[0;32m   2033\u001b[0m     \u001b[38;5;28;01mif\u001b[39;00m shape \u001b[38;5;129;01mnot\u001b[39;00m \u001b[38;5;129;01min\u001b[39;00m ok_shapes:\n\u001b[0;32m   2034\u001b[0m         \u001b[38;5;28;01mraise\u001b[39;00m \u001b[38;5;167;01mValueError\u001b[39;00m(\n\u001b[0;32m   2035\u001b[0m             \u001b[38;5;124mf\u001b[39m\u001b[38;5;124m\"\u001b[39m\u001b[38;5;124mFor X (\u001b[39m\u001b[38;5;132;01m{\u001b[39;00mwidth\u001b[38;5;132;01m}\u001b[39;00m\u001b[38;5;124m) and Y (\u001b[39m\u001b[38;5;132;01m{\u001b[39;00mheight\u001b[38;5;132;01m}\u001b[39;00m\u001b[38;5;124m) with \u001b[39m\u001b[38;5;132;01m{\u001b[39;00m\u001b[38;5;28mself\u001b[39m\u001b[38;5;241m.\u001b[39m_shading\u001b[38;5;132;01m}\u001b[39;00m\u001b[38;5;124m \u001b[39m\u001b[38;5;124m\"\u001b[39m\n\u001b[0;32m   2036\u001b[0m             \u001b[38;5;124mf\u001b[39m\u001b[38;5;124m\"\u001b[39m\u001b[38;5;124mshading, A should have shape \u001b[39m\u001b[38;5;124m\"\u001b[39m\n\u001b[0;32m   2037\u001b[0m             \u001b[38;5;124mf\u001b[39m\u001b[38;5;124m\"\u001b[39m\u001b[38;5;132;01m{\u001b[39;00m\u001b[38;5;124m'\u001b[39m\u001b[38;5;124m or \u001b[39m\u001b[38;5;124m'\u001b[39m\u001b[38;5;241m.\u001b[39mjoin(\u001b[38;5;28mmap\u001b[39m(\u001b[38;5;28mstr\u001b[39m,\u001b[38;5;250m \u001b[39mok_shapes))\u001b[38;5;132;01m}\u001b[39;00m\u001b[38;5;124m, not \u001b[39m\u001b[38;5;132;01m{\u001b[39;00mA\u001b[38;5;241m.\u001b[39mshape\u001b[38;5;132;01m}\u001b[39;00m\u001b[38;5;124m\"\u001b[39m)\n\u001b[1;32m-> 2038\u001b[0m \u001b[38;5;28;01mreturn\u001b[39;00m \u001b[38;5;28;43msuper\u001b[39;49m\u001b[43m(\u001b[49m\u001b[43m)\u001b[49m\u001b[38;5;241;43m.\u001b[39;49m\u001b[43mset_array\u001b[49m\u001b[43m(\u001b[49m\u001b[43mA\u001b[49m\u001b[43m)\u001b[49m\n",
      "File \u001b[1;32mc:\\Users\\bykon\\AppData\\Local\\Programs\\Python\\Python310\\lib\\site-packages\\matplotlib\\cm.py:535\u001b[0m, in \u001b[0;36mScalarMappable.set_array\u001b[1;34m(self, A)\u001b[0m\n\u001b[0;32m    533\u001b[0m A \u001b[38;5;241m=\u001b[39m cbook\u001b[38;5;241m.\u001b[39msafe_masked_invalid(A, copy\u001b[38;5;241m=\u001b[39m\u001b[38;5;28;01mTrue\u001b[39;00m)\n\u001b[0;32m    534\u001b[0m \u001b[38;5;28;01mif\u001b[39;00m \u001b[38;5;129;01mnot\u001b[39;00m np\u001b[38;5;241m.\u001b[39mcan_cast(A\u001b[38;5;241m.\u001b[39mdtype, \u001b[38;5;28mfloat\u001b[39m, \u001b[38;5;124m\"\u001b[39m\u001b[38;5;124msame_kind\u001b[39m\u001b[38;5;124m\"\u001b[39m):\n\u001b[1;32m--> 535\u001b[0m     \u001b[38;5;28;01mraise\u001b[39;00m \u001b[38;5;167;01mTypeError\u001b[39;00m(\u001b[38;5;124mf\u001b[39m\u001b[38;5;124m\"\u001b[39m\u001b[38;5;124mImage data of dtype \u001b[39m\u001b[38;5;132;01m{\u001b[39;00mA\u001b[38;5;241m.\u001b[39mdtype\u001b[38;5;132;01m}\u001b[39;00m\u001b[38;5;124m cannot be \u001b[39m\u001b[38;5;124m\"\u001b[39m\n\u001b[0;32m    536\u001b[0m                     \u001b[38;5;124m\"\u001b[39m\u001b[38;5;124mconverted to float\u001b[39m\u001b[38;5;124m\"\u001b[39m)\n\u001b[0;32m    538\u001b[0m \u001b[38;5;28mself\u001b[39m\u001b[38;5;241m.\u001b[39m_A \u001b[38;5;241m=\u001b[39m A\n",
      "\u001b[1;31mTypeError\u001b[0m: Image data of dtype object cannot be converted to float"
     ]
    },
    {
     "data": {
      "image/png": "[encoded data removed]",
      "text/plain": [
       "<Figure size 800x600 with 1 Axes>"
      ]
     },
     "metadata": {},
     "output_type": "display_data"
    }
   ],
   "source": [
    "import seaborn as sns\n",
    "import matplotlib.pyplot as plt\n",
    "import pandas as pd\n",
    "\n",
    "# Ejemplo de datos\n",
    "df = datos_mapeo\n",
    "\n",
    "# Normalización de datos (opcional)\n",
    "df[\"% Nativa\"] = df[\"Española\"] / df[\"Total\"]\n",
    "df[\"% Extranjera\"] = df[\"Extranjera\"] / df[\"Total\"]\n",
    "\n",
    "# Crear matriz para el heatmap\n",
    "heatmap_data = df[[\"% Nativa\", \"% Extranjera\"]].T\n",
    "heatmap_data.columns = df[\"Provincia\"]\n",
    "\n",
    "# Crear heatmap\n",
    "plt.figure(figsize=(8, 6))\n",
    "sns.heatmap(heatmap_data, annot=True, cmap=\"coolwarm\", cbar_kws={'label': 'Proporción'})\n",
    "plt.title(\"Distribución de Población por Provincia\")\n",
    "plt.ylabel(\"Categoría de Población\")\n",
    "plt.xlabel(\"Provincia\")\n",
    "plt.show()\n"
   ]
  },
  {
   "cell_type": "markdown",
   "metadata": {},
   "source": [
    "### Segunda Visualizacion"
   ]
  },
  {
   "cell_type": "code",
   "execution_count": 10,
   "metadata": {},
   "outputs": [
    {
     "data": {
      "application/vnd.plotly.v1+json": {
       "config": {
        "plotlyServerURL": "https://plot.ly"
       },
       "data": [
        {
         "customdata": [
          [
           301302,
           35006
          ]
         ],
         "hovertemplate": "<b>%{hovertext}</b><br><br>Proporcion Extranjera=0.1040891087931301<br>Extranjera=%{customdata[1]}<br>Latitud=%{lat}<br>Longitud=%{lon}<br>Española=%{customdata[0]}<extra></extra>",
         "hovertext": [
          "Álava"
         ],
         "lat": [
          42.85
         ],
         "legendgroup": "0.1040891087931301",
         "lon": [
          -2.6725
         ],
         "marker": {
          "color": "#636efa",
          "size": [
           35006
          ],
          "sizemode": "area",
          "sizeref": 4630.6177777777775
         },
         "mode": "markers",
         "name": "0.1040891087931301",
         "showlegend": true,
         "subplot": "mapbox",
         "type": "scattermapbox"
        },
        {
         "customdata": [
          [
           356856,
           30673
          ]
         ],
         "hovertemplate": "<b>%{hovertext}</b><br><br>Proporcion Extranjera=0.07915020553300527<br>Extranjera=%{customdata[1]}<br>Latitud=%{lat}<br>Longitud=%{lon}<br>Española=%{customdata[0]}<extra></extra>",
         "hovertext": [
          "Albacete"
         ],
         "lat": [
          38.994
         ],
         "legendgroup": "0.07915020553300527",
         "lon": [
          -1.8585
         ],
         "marker": {
          "color": "#EF553B",
          "size": [
           30673
          ],
          "sizemode": "area",
          "sizeref": 4630.6177777777775
         },
         "mode": "markers",
         "name": "0.07915020553300527",
         "showlegend": true,
         "subplot": "mapbox",
         "type": "scattermapbox"
        },
        {
         "customdata": [
          [
           1518766,
           436502
          ]
         ],
         "hovertemplate": "<b>%{hovertext}</b><br><br>Proporcion Extranjera=0.22324407702678098<br>Extranjera=%{customdata[1]}<br>Latitud=%{lat}<br>Longitud=%{lon}<br>Española=%{customdata[0]}<extra></extra>",
         "hovertext": [
          "Alicante"
         ],
         "lat": [
          38.3452
         ],
         "legendgroup": "0.22324407702678098",
         "lon": [
          -0.481
         ],
         "marker": {
          "color": "#00cc96",
          "size": [
           436502
          ],
          "sizemode": "area",
          "sizeref": 4630.6177777777775
         },
         "mode": "markers",
         "name": "0.22324407702678098",
         "showlegend": true,
         "subplot": "mapbox",
         "type": "scattermapbox"
        },
        {
         "customdata": [
          [
           583918,
           169446
          ]
         ],
         "hovertemplate": "<b>%{hovertext}</b><br><br>Proporcion Extranjera=0.22491916258276212<br>Extranjera=%{customdata[1]}<br>Latitud=%{lat}<br>Longitud=%{lon}<br>Española=%{customdata[0]}<extra></extra>",
         "hovertext": [
          "Almería"
         ],
         "lat": [
          36.834
         ],
         "legendgroup": "0.22491916258276212",
         "lon": [
          -2.4637
         ],
         "marker": {
          "color": "#ab63fa",
          "size": [
           169446
          ],
          "sizemode": "area",
          "sizeref": 4630.6177777777775
         },
         "mode": "markers",
         "name": "0.22491916258276212",
         "showlegend": true,
         "subplot": "mapbox",
         "type": "scattermapbox"
        },
        {
         "customdata": [
          [
           146896,
           12868
          ]
         ],
         "hovertemplate": "<b>%{hovertext}</b><br><br>Proporcion Extranjera=0.08054380210810946<br>Extranjera=%{customdata[1]}<br>Latitud=%{lat}<br>Longitud=%{lon}<br>Española=%{customdata[0]}<extra></extra>",
         "hovertext": [
          "Asturias"
         ],
         "lat": [
          43.361
         ],
         "legendgroup": "0.08054380210810946",
         "lon": [
          -5.8494
         ],
         "marker": {
          "color": "#FFA15A",
          "size": [
           12868
          ],
          "sizemode": "area",
          "sizeref": 4630.6177777777775
         },
         "mode": "markers",
         "name": "0.08054380210810946",
         "showlegend": true,
         "subplot": "mapbox",
         "type": "scattermapbox"
        },
        {
         "customdata": [
          [
           642287,
           23762
          ]
         ],
         "hovertemplate": "<b>%{hovertext}</b><br><br>Proporcion Extranjera=0.035676053863904905<br>Extranjera=%{customdata[1]}<br>Latitud=%{lat}<br>Longitud=%{lon}<br>Española=%{customdata[0]}<extra></extra>",
         "hovertext": [
          "Ávila"
         ],
         "lat": [
          null
         ],
         "legendgroup": "0.035676053863904905",
         "lon": [
          null
         ],
         "marker": {
          "color": "#19d3f3",
          "size": [
           23762
          ],
          "sizemode": "area",
          "sizeref": 4630.6177777777775
         },
         "mode": "markers",
         "name": "0.035676053863904905",
         "showlegend": true,
         "subplot": "mapbox",
         "type": "scattermapbox"
        },
        {
         "customdata": [
          [
           962237,
           247669
          ]
         ],
         "hovertemplate": "<b>%{hovertext}</b><br><br>Proporcion Extranjera=0.20470102636072554<br>Extranjera=%{customdata[1]}<br>Latitud=%{lat}<br>Longitud=%{lon}<br>Española=%{customdata[0]}<extra></extra>",
         "hovertext": [
          "Badajoz"
         ],
         "lat": [
          40.656
         ],
         "legendgroup": "0.20470102636072554",
         "lon": [
          -4.6999
         ],
         "marker": {
          "color": "#FF6692",
          "size": [
           247669
          ],
          "sizemode": "area",
          "sizeref": 4630.6177777777775
         },
         "mode": "markers",
         "name": "0.20470102636072554",
         "showlegend": true,
         "subplot": "mapbox",
         "type": "scattermapbox"
        },
        {
         "customdata": [
          [
           4846649,
           950707
          ]
         ],
         "hovertemplate": "<b>%{hovertext}</b><br><br>Proporcion Extranjera=0.16398975670978289<br>Extranjera=%{customdata[1]}<br>Latitud=%{lat}<br>Longitud=%{lon}<br>Española=%{customdata[0]}<extra></extra>",
         "hovertext": [
          "Barcelona"
         ],
         "lat": [
          38.8795
         ],
         "legendgroup": "0.16398975670978289",
         "lon": [
          -6.9707
         ],
         "marker": {
          "color": "#B6E880",
          "size": [
           950707
          ],
          "sizemode": "area",
          "sizeref": 4630.6177777777775
         },
         "mode": "markers",
         "name": "0.16398975670978289",
         "showlegend": true,
         "subplot": "mapbox",
         "type": "scattermapbox"
        },
        {
         "customdata": [
          [
           324220,
           33150
          ]
         ],
         "hovertemplate": "<b>%{hovertext}</b><br><br>Proporcion Extranjera=0.09276100400145508<br>Extranjera=%{customdata[1]}<br>Latitud=%{lat}<br>Longitud=%{lon}<br>Española=%{customdata[0]}<extra></extra>",
         "hovertext": [
          "Burgos"
         ],
         "lat": [
          41.3784
         ],
         "legendgroup": "0.09276100400145508",
         "lon": [
          2.1926
         ],
         "marker": {
          "color": "#FF97FF",
          "size": [
           33150
          ],
          "sizemode": "area",
          "sizeref": 4630.6177777777775
         },
         "mode": "markers",
         "name": "0.09276100400145508",
         "showlegend": true,
         "subplot": "mapbox",
         "type": "scattermapbox"
        },
        {
         "customdata": [
          [
           372577,
           15680
          ]
         ],
         "hovertemplate": "<b>%{hovertext}</b><br><br>Proporcion Extranjera=0.04038562086453045<br>Extranjera=%{customdata[1]}<br>Latitud=%{lat}<br>Longitud=%{lon}<br>Española=%{customdata[0]}<extra></extra>",
         "hovertext": [
          "Cáceres"
         ],
         "lat": [
          42.34
         ],
         "legendgroup": "0.04038562086453045",
         "lon": [
          -3.6997
         ],
         "marker": {
          "color": "#FECB52",
          "size": [
           15680
          ],
          "sizemode": "area",
          "sizeref": 4630.6177777777775
         },
         "mode": "markers",
         "name": "0.04038562086453045",
         "showlegend": true,
         "subplot": "mapbox",
         "type": "scattermapbox"
        },
        {
         "customdata": [
          [
           1195185,
           59681
          ]
         ],
         "hovertemplate": "<b>%{hovertext}</b><br><br>Proporcion Extranjera=0.047559659756499895<br>Extranjera=%{customdata[1]}<br>Latitud=%{lat}<br>Longitud=%{lon}<br>Española=%{customdata[0]}<extra></extra>",
         "hovertext": [
          "Cádiz"
         ],
         "lat": [
          39.4753
         ],
         "legendgroup": "0.047559659756499895",
         "lon": [
          -6.3729
         ],
         "marker": {
          "color": "#636efa",
          "size": [
           59681
          ],
          "sizemode": "area",
          "sizeref": 4630.6177777777775
         },
         "mode": "markers",
         "name": "0.047559659756499895",
         "showlegend": true,
         "subplot": "mapbox",
         "type": "scattermapbox"
        },
        {
         "customdata": [
          [
           503118,
           100968
          ]
         ],
         "hovertemplate": "<b>%{hovertext}</b><br><br>Proporcion Extranjera=0.1671417645831885<br>Extranjera=%{customdata[1]}<br>Latitud=%{lat}<br>Longitud=%{lon}<br>Española=%{customdata[0]}<extra></extra>",
         "hovertext": [
          "Cantabria"
         ],
         "lat": [
          36.5297
         ],
         "legendgroup": "0.1671417645831885",
         "lon": [
          -6.2919
         ],
         "marker": {
          "color": "#EF553B",
          "size": [
           100968
          ],
          "sizemode": "area",
          "sizeref": 4630.6177777777775
         },
         "mode": "markers",
         "name": "0.1671417645831885",
         "showlegend": true,
         "subplot": "mapbox",
         "type": "scattermapbox"
        },
        {
         "customdata": [
          [
           457054,
           34873
          ]
         ],
         "hovertemplate": "<b>%{hovertext}</b><br><br>Proporcion Extranjera=0.07089059962148855<br>Extranjera=%{customdata[1]}<br>Latitud=%{lat}<br>Longitud=%{lon}<br>Española=%{customdata[0]}<extra></extra>",
         "hovertext": [
          "Castellón"
         ],
         "lat": [
          43.4623
         ],
         "legendgroup": "0.07089059962148855",
         "lon": [
          -3.8043
         ],
         "marker": {
          "color": "#00cc96",
          "size": [
           34873
          ],
          "sizemode": "area",
          "sizeref": 4630.6177777777775
         },
         "mode": "markers",
         "name": "0.07089059962148855",
         "showlegend": true,
         "subplot": "mapbox",
         "type": "scattermapbox"
        },
        {
         "customdata": [
          [
           748997,
           26005
          ]
         ],
         "hovertemplate": "<b>%{hovertext}</b><br><br>Proporcion Extranjera=0.033554752116768734<br>Extranjera=%{customdata[1]}<br>Latitud=%{lat}<br>Longitud=%{lon}<br>Española=%{customdata[0]}<extra></extra>",
         "hovertext": [
          "Ciudad Real"
         ],
         "lat": [
          39.9834
         ],
         "legendgroup": "0.033554752116768734",
         "lon": [
          -0.033
         ],
         "marker": {
          "color": "#ab63fa",
          "size": [
           26005
          ],
          "sizemode": "area",
          "sizeref": 4630.6177777777775
         },
         "mode": "markers",
         "name": "0.033554752116768734",
         "showlegend": true,
         "subplot": "mapbox",
         "type": "scattermapbox"
        },
        {
         "customdata": [
          [
           1068748,
           55136
          ]
         ],
         "hovertemplate": "<b>%{hovertext}</b><br><br>Proporcion Extranjera=0.049058443753981724<br>Extranjera=%{customdata[1]}<br>Latitud=%{lat}<br>Longitud=%{lon}<br>Española=%{customdata[0]}<extra></extra>",
         "hovertext": [
          "Córdoba"
         ],
         "lat": [
          38.9833
         ],
         "legendgroup": "0.049058443753981724",
         "lon": [
          -3.9333
         ],
         "marker": {
          "color": "#FFA15A",
          "size": [
           55136
          ],
          "sizemode": "area",
          "sizeref": 4630.6177777777775
         },
         "mode": "markers",
         "name": "0.049058443753981724",
         "showlegend": true,
         "subplot": "mapbox",
         "type": "scattermapbox"
        },
        {
         "customdata": [
          [
           172214,
           26222
          ]
         ],
         "hovertemplate": "<b>%{hovertext}</b><br><br>Proporcion Extranjera=0.13214336108367433<br>Extranjera=%{customdata[1]}<br>Latitud=%{lat}<br>Longitud=%{lon}<br>Española=%{customdata[0]}<extra></extra>",
         "hovertext": [
          "Cuenca"
         ],
         "lat": [
          37.8882
         ],
         "legendgroup": "0.13214336108367433",
         "lon": [
          -4.7794
         ],
         "marker": {
          "color": "#19d3f3",
          "size": [
           26222
          ],
          "sizemode": "area",
          "sizeref": 4630.6177777777775
         },
         "mode": "markers",
         "name": "0.13214336108367433",
         "showlegend": true,
         "subplot": "mapbox",
         "type": "scattermapbox"
        },
        {
         "customdata": [
          [
           637190,
           171482
          ]
         ],
         "hovertemplate": "<b>%{hovertext}</b><br><br>Proporcion Extranjera=0.21205383641328004<br>Extranjera=%{customdata[1]}<br>Latitud=%{lat}<br>Longitud=%{lon}<br>Española=%{customdata[0]}<extra></extra>",
         "hovertext": [
          "Coruña, A"
         ],
         "lat": [
          40.0735
         ],
         "legendgroup": "0.21205383641328004",
         "lon": [
          -2.1367
         ],
         "marker": {
          "color": "#FF6692",
          "size": [
           171482
          ],
          "sizemode": "area",
          "sizeref": 4630.6177777777775
         },
         "mode": "markers",
         "name": "0.21205383641328004",
         "showlegend": true,
         "subplot": "mapbox",
         "type": "scattermapbox"
        },
        {
         "customdata": [
          [
           856467,
           77605
          ]
         ],
         "hovertemplate": "<b>%{hovertext}</b><br><br>Proporcion Extranjera=0.08308246045272741<br>Extranjera=%{customdata[1]}<br>Latitud=%{lat}<br>Longitud=%{lon}<br>Española=%{customdata[0]}<extra></extra>",
         "hovertext": [
          "Gerona"
         ],
         "lat": [
          41.9794
         ],
         "legendgroup": "0.08308246045272741",
         "lon": [
          2.8213
         ],
         "marker": {
          "color": "#B6E880",
          "size": [
           77605
          ],
          "sizemode": "area",
          "sizeref": 4630.6177777777775
         },
         "mode": "markers",
         "name": "0.08308246045272741",
         "showlegend": true,
         "subplot": "mapbox",
         "type": "scattermapbox"
        },
        {
         "customdata": [
          [
           233675,
           41407
          ]
         ],
         "hovertemplate": "<b>%{hovertext}</b><br><br>Proporcion Extranjera=0.1505260249671007<br>Extranjera=%{customdata[1]}<br>Latitud=%{lat}<br>Longitud=%{lon}<br>Española=%{customdata[0]}<extra></extra>",
         "hovertext": [
          "Granada"
         ],
         "lat": [
          37.1773
         ],
         "legendgroup": "0.1505260249671007",
         "lon": [
          -3.5986
         ],
         "marker": {
          "color": "#FF97FF",
          "size": [
           41407
          ],
          "sizemode": "area",
          "sizeref": 4630.6177777777775
         },
         "mode": "markers",
         "name": "0.1505260249671007",
         "showlegend": true,
         "subplot": "mapbox",
         "type": "scattermapbox"
        },
        {
         "customdata": [
          [
           660601,
           66111
          ]
         ],
         "hovertemplate": "<b>%{hovertext}</b><br><br>Proporcion Extranjera=0.0909727650018164<br>Extranjera=%{customdata[1]}<br>Latitud=%{lat}<br>Longitud=%{lon}<br>Española=%{customdata[0]}<extra></extra>",
         "hovertext": [
          "Guadalajara"
         ],
         "lat": [
          40.6333
         ],
         "legendgroup": "0.0909727650018164",
         "lon": [
          -3.1667
         ],
         "marker": {
          "color": "#FECB52",
          "size": [
           66111
          ],
          "sizemode": "area",
          "sizeref": 4630.6177777777775
         },
         "mode": "markers",
         "name": "0.0909727650018164",
         "showlegend": true,
         "subplot": "mapbox",
         "type": "scattermapbox"
        },
        {
         "customdata": [
          [
           477639,
           56445
          ]
         ],
         "hovertemplate": "<b>%{hovertext}</b><br><br>Proporcion Extranjera=0.10568562248635047<br>Extranjera=%{customdata[1]}<br>Latitud=%{lat}<br>Longitud=%{lon}<br>Española=%{customdata[0]}<extra></extra>",
         "hovertext": [
          "Gipuzkoa"
         ],
         "lat": [
          43.3183
         ],
         "legendgroup": "0.10568562248635047",
         "lon": [
          -2.934
         ],
         "marker": {
          "color": "#636efa",
          "size": [
           56445
          ],
          "sizemode": "area",
          "sizeref": 4630.6177777777775
         },
         "mode": "markers",
         "name": "0.10568562248635047",
         "showlegend": true,
         "subplot": "mapbox",
         "type": "scattermapbox"
        },
        {
         "customdata": [
          [
           194952,
           31926
          ]
         ],
         "hovertemplate": "<b>%{hovertext}</b><br><br>Proporcion Extranjera=0.14071880041255652<br>Extranjera=%{customdata[1]}<br>Latitud=%{lat}<br>Longitud=%{lon}<br>Española=%{customdata[0]}<extra></extra>",
         "hovertext": [
          "Huelva"
         ],
         "lat": [
          37.2617
         ],
         "legendgroup": "0.14071880041255652",
         "lon": [
          -6.9447
         ],
         "marker": {
          "color": "#EF553B",
          "size": [
           31926
          ],
          "sizemode": "area",
          "sizeref": 4630.6177777777775
         },
         "mode": "markers",
         "name": "0.14071880041255652",
         "showlegend": true,
         "subplot": "mapbox",
         "type": "scattermapbox"
        },
        {
         "customdata": [
          [
           600652,
           19985
          ]
         ],
         "hovertemplate": "<b>%{hovertext}</b><br><br>Proporcion Extranjera=0.032200787255674414<br>Extranjera=%{customdata[1]}<br>Latitud=%{lat}<br>Longitud=%{lon}<br>Española=%{customdata[0]}<extra></extra>",
         "hovertext": [
          "Huesca"
         ],
         "lat": [
          42.1401
         ],
         "legendgroup": "0.032200787255674414",
         "lon": [
          -0.408
         ],
         "marker": {
          "color": "#00cc96",
          "size": [
           19985
          ],
          "sizemode": "area",
          "sizeref": 4630.6177777777775
         },
         "mode": "markers",
         "name": "0.032200787255674414",
         "showlegend": true,
         "subplot": "mapbox",
         "type": "scattermapbox"
        },
        {
         "customdata": [
          [
           425175,
           23398
          ]
         ],
         "hovertemplate": "<b>%{hovertext}</b><br><br>Proporcion Extranjera=0.05216096376732438<br>Extranjera=%{customdata[1]}<br>Latitud=%{lat}<br>Longitud=%{lon}<br>Española=%{customdata[0]}<extra></extra>",
         "hovertext": [
          "Islas Baleares"
         ],
         "lat": [
          39.5696
         ],
         "legendgroup": "0.05216096376732438",
         "lon": [
          2.6502
         ],
         "marker": {
          "color": "#ab63fa",
          "size": [
           23398
          ],
          "sizemode": "area",
          "sizeref": 4630.6177777777775
         },
         "mode": "markers",
         "name": "0.05216096376732438",
         "showlegend": true,
         "subplot": "mapbox",
         "type": "scattermapbox"
        },
        {
         "customdata": [
          [
           358987,
           88356
          ]
         ],
         "hovertemplate": "<b>%{hovertext}</b><br><br>Proporcion Extranjera=0.197512870437226<br>Extranjera=%{customdata[1]}<br>Latitud=%{lat}<br>Longitud=%{lon}<br>Española=%{customdata[0]}<extra></extra>",
         "hovertext": [
          "Jaén"
         ],
         "lat": [
          37.7799
         ],
         "legendgroup": "0.197512870437226",
         "lon": [
          -3.7794
         ],
         "marker": {
          "color": "#FFA15A",
          "size": [
           88356
          ],
          "sizemode": "area",
          "sizeref": 4630.6177777777775
         },
         "mode": "markers",
         "name": "0.197512870437226",
         "showlegend": true,
         "subplot": "mapbox",
         "type": "scattermapbox"
        },
        {
         "customdata": [
          [
           277946,
           44336
          ]
         ],
         "hovertemplate": "<b>%{hovertext}</b><br><br>Proporcion Extranjera=0.13756896134441265<br>Extranjera=%{customdata[1]}<br>Latitud=%{lat}<br>Longitud=%{lon}<br>Española=%{customdata[0]}<extra></extra>",
         "hovertext": [
          "La Rioja"
         ],
         "lat": [
          42.4687
         ],
         "legendgroup": "0.13756896134441265",
         "lon": [
          -2.4448
         ],
         "marker": {
          "color": "#19d3f3",
          "size": [
           44336
          ],
          "sizemode": "area",
          "sizeref": 4630.6177777777775
         },
         "mode": "markers",
         "name": "0.13756896134441265",
         "showlegend": true,
         "subplot": "mapbox",
         "type": "scattermapbox"
        },
        {
         "customdata": [
          [
           304508,
           19759
          ]
         ],
         "hovertemplate": "<b>%{hovertext}</b><br><br>Proporcion Extranjera=0.060934353480310975<br>Extranjera=%{customdata[1]}<br>Latitud=%{lat}<br>Longitud=%{lon}<br>Española=%{customdata[0]}<extra></extra>",
         "hovertext": [
          "Las Palmas"
         ],
         "lat": [
          28.1235
         ],
         "legendgroup": "0.060934353480310975",
         "lon": [
          -15.4367
         ],
         "marker": {
          "color": "#FF6692",
          "size": [
           19759
          ],
          "sizemode": "area",
          "sizeref": 4630.6177777777775
         },
         "mode": "markers",
         "name": "0.060934353480310975",
         "showlegend": true,
         "subplot": "mapbox",
         "type": "scattermapbox"
        },
        {
         "customdata": [
          [
           5830014,
           1041889
          ]
         ],
         "hovertemplate": "<b>%{hovertext}</b><br><br>Proporcion Extranjera=0.151615789687369<br>Extranjera=%{customdata[1]}<br>Latitud=%{lat}<br>Longitud=%{lon}<br>Española=%{customdata[0]}<extra></extra>",
         "hovertext": [
          "León"
         ],
         "lat": [
          42.5987
         ],
         "legendgroup": "0.151615789687369",
         "lon": [
          -3.567
         ],
         "marker": {
          "color": "#B6E880",
          "size": [
           1041889
          ],
          "sizemode": "area",
          "sizeref": 4630.6177777777775
         },
         "mode": "markers",
         "name": "0.151615789687369",
         "showlegend": true,
         "subplot": "mapbox",
         "type": "scattermapbox"
        },
        {
         "customdata": [
          [
           1438368,
           314360
          ]
         ],
         "hovertemplate": "<b>%{hovertext}</b><br><br>Proporcion Extranjera=0.17935469736319612<br>Extranjera=%{customdata[1]}<br>Latitud=%{lat}<br>Longitud=%{lon}<br>Española=%{customdata[0]}<extra></extra>",
         "hovertext": [
          "Lleida"
         ],
         "lat": [
          41.6177
         ],
         "legendgroup": "0.17935469736319612",
         "lon": [
          0.6226
         ],
         "marker": {
          "color": "#FF97FF",
          "size": [
           314360
          ],
          "sizemode": "area",
          "sizeref": 4630.6177777777775
         },
         "mode": "markers",
         "name": "0.17935469736319612",
         "showlegend": true,
         "subplot": "mapbox",
         "type": "scattermapbox"
        },
        {
         "customdata": [
          [
           1314926,
           236766
          ]
         ],
         "hovertemplate": "<b>%{hovertext}</b><br><br>Proporcion Extranjera=0.15258569355258647<br>Extranjera=%{customdata[1]}<br>Latitud=%{lat}<br>Longitud=%{lon}<br>Española=%{customdata[0]}<extra></extra>",
         "hovertext": [
          "Lugo"
         ],
         "lat": [
          43.0027
         ],
         "legendgroup": "0.15258569355258647",
         "lon": [
          -7.5584
         ],
         "marker": {
          "color": "#FECB52",
          "size": [
           236766
          ],
          "sizemode": "area",
          "sizeref": 4630.6177777777775
         },
         "mode": "markers",
         "name": "0.15258569355258647",
         "showlegend": true,
         "subplot": "mapbox",
         "type": "scattermapbox"
        },
        {
         "customdata": [
          [
           591214,
           80941
          ]
         ],
         "hovertemplate": "<b>%{hovertext}</b><br><br>Proporcion Extranjera=0.12042014118767248<br>Extranjera=%{customdata[1]}<br>Latitud=%{lat}<br>Longitud=%{lon}<br>Española=%{customdata[0]}<extra></extra>",
         "hovertext": [
          "Madrid"
         ],
         "lat": [
          40.4168
         ],
         "legendgroup": "0.12042014118767248",
         "lon": [
          -3.7038
         ],
         "marker": {
          "color": "#636efa",
          "size": [
           80941
          ],
          "sizemode": "area",
          "sizeref": 4630.6177777777775
         },
         "mode": "markers",
         "name": "0.12042014118767248",
         "showlegend": true,
         "subplot": "mapbox",
         "type": "scattermapbox"
        },
        {
         "customdata": [
          [
           285080,
           19483
          ]
         ],
         "hovertemplate": "<b>%{hovertext}</b><br><br>Proporcion Extranjera=0.0639703443950841<br>Extranjera=%{customdata[1]}<br>Latitud=%{lat}<br>Longitud=%{lon}<br>Española=%{customdata[0]}<extra></extra>",
         "hovertext": [
          "Málaga"
         ],
         "lat": [
          36.7213
         ],
         "legendgroup": "0.0639703443950841",
         "lon": [
          -4.4216
         ],
         "marker": {
          "color": "#EF553B",
          "size": [
           19483
          ],
          "sizemode": "area",
          "sizeref": 4630.6177777777775
         },
         "mode": "markers",
         "name": "0.0639703443950841",
         "showlegend": true,
         "subplot": "mapbox",
         "type": "scattermapbox"
        },
        {
         "customdata": [
          [
           952488,
           53572
          ]
         ],
         "hovertemplate": "<b>%{hovertext}</b><br><br>Proporcion Extranjera=0.053249309186330834<br>Extranjera=%{customdata[1]}<br>Latitud=%{lat}<br>Longitud=%{lon}<br>Española=%{customdata[0]}<extra></extra>",
         "hovertext": [
          "Murcia"
         ],
         "lat": [
          37.9835
         ],
         "legendgroup": "0.053249309186330834",
         "lon": [
          -1.1296
         ],
         "marker": {
          "color": "#00cc96",
          "size": [
           53572
          ],
          "sizemode": "area",
          "sizeref": 4630.6177777777775
         },
         "mode": "markers",
         "name": "0.053249309186330834",
         "showlegend": true,
         "subplot": "mapbox",
         "type": "scattermapbox"
        },
        {
         "customdata": [
          [
           149206,
           8581
          ]
         ],
         "hovertemplate": "<b>%{hovertext}</b><br><br>Proporcion Extranjera=0.05438344096788709<br>Extranjera=%{customdata[1]}<br>Latitud=%{lat}<br>Longitud=%{lon}<br>Española=%{customdata[0]}<extra></extra>",
         "hovertext": [
          "Navarra"
         ],
         "lat": [
          42.8125
         ],
         "legendgroup": "0.05438344096788709",
         "lon": [
          -1.6458
         ],
         "marker": {
          "color": "#ab63fa",
          "size": [
           8581
          ],
          "sizemode": "area",
          "sizeref": 4630.6177777777775
         },
         "mode": "markers",
         "name": "0.05438344096788709",
         "showlegend": true,
         "subplot": "mapbox",
         "type": "scattermapbox"
        },
        {
         "customdata": [
          [
           991714,
           154129
          ]
         ],
         "hovertemplate": "<b>%{hovertext}</b><br><br>Proporcion Extranjera=0.13451144703070142<br>Extranjera=%{customdata[1]}<br>Latitud=%{lat}<br>Longitud=%{lon}<br>Española=%{customdata[0]}<extra></extra>",
         "hovertext": [
          "Ourense"
         ],
         "lat": [
          42.3358
         ],
         "legendgroup": "0.13451144703070142",
         "lon": [
          -7.8633
         ],
         "marker": {
          "color": "#FFA15A",
          "size": [
           154129
          ],
          "sizemode": "area",
          "sizeref": 4630.6177777777775
         },
         "mode": "markers",
         "name": "0.13451144703070142",
         "showlegend": true,
         "subplot": "mapbox",
         "type": "scattermapbox"
        },
        {
         "customdata": [
          [
           901782,
           44928
          ]
         ],
         "hovertemplate": "<b>%{hovertext}</b><br><br>Proporcion Extranjera=0.04745698260290902<br>Extranjera=%{customdata[1]}<br>Latitud=%{lat}<br>Longitud=%{lon}<br>Española=%{customdata[0]}<extra></extra>",
         "hovertext": [
          "Palencia"
         ],
         "lat": [
          42.008
         ],
         "legendgroup": "0.04745698260290902",
         "lon": [
          -4.5235
         ],
         "marker": {
          "color": "#19d3f3",
          "size": [
           44928
          ],
          "sizemode": "area",
          "sizeref": 4630.6177777777775
         },
         "mode": "markers",
         "name": "0.04745698260290902",
         "showlegend": true,
         "subplot": "mapbox",
         "type": "scattermapbox"
        },
        {
         "customdata": [
          [
           308483,
           18606
          ]
         ],
         "hovertemplate": "<b>%{hovertext}</b><br><br>Proporcion Extranjera=0.05688360048794059<br>Extranjera=%{customdata[1]}<br>Latitud=%{lat}<br>Longitud=%{lon}<br>Española=%{customdata[0]}<extra></extra>",
         "hovertext": [
          "Pontevedra"
         ],
         "lat": [
          42.4385
         ],
         "legendgroup": "0.05688360048794059",
         "lon": [
          -8.6445
         ],
         "marker": {
          "color": "#FF6692",
          "size": [
           18606
          ],
          "sizemode": "area",
          "sizeref": 4630.6177777777775
         },
         "mode": "markers",
         "name": "0.05688360048794059",
         "showlegend": true,
         "subplot": "mapbox",
         "type": "scattermapbox"
        },
        {
         "customdata": [
          [
           906779,
           160394
          ]
         ],
         "hovertemplate": "<b>%{hovertext}</b><br><br>Proporcion Extranjera=0.15029803040369275<br>Extranjera=%{customdata[1]}<br>Latitud=%{lat}<br>Longitud=%{lon}<br>Española=%{customdata[0]}<extra></extra>",
         "hovertext": [
          "Salamanca"
         ],
         "lat": [
          40.9704
         ],
         "legendgroup": "0.15029803040369275",
         "lon": [
          -5.6635
         ],
         "marker": {
          "color": "#B6E880",
          "size": [
           160394
          ],
          "sizemode": "area",
          "sizeref": 4630.6177777777775
         },
         "mode": "markers",
         "name": "0.15029803040369275",
         "showlegend": true,
         "subplot": "mapbox",
         "type": "scattermapbox"
        },
        {
         "customdata": [
          [
           546676,
           41711
          ]
         ],
         "hovertemplate": "<b>%{hovertext}</b><br><br>Proporcion Extranjera=0.0708904173613625<br>Extranjera=%{customdata[1]}<br>Latitud=%{lat}<br>Longitud=%{lon}<br>Española=%{customdata[0]}<extra></extra>",
         "hovertext": [
          "Segovia"
         ],
         "lat": [
          28.4636
         ],
         "legendgroup": "0.0708904173613625",
         "lon": [
          -16.2519
         ],
         "marker": {
          "color": "#FF97FF",
          "size": [
           41711
          ],
          "sizemode": "area",
          "sizeref": 4630.6177777777775
         },
         "mode": "markers",
         "name": "0.0708904173613625",
         "showlegend": true,
         "subplot": "mapbox",
         "type": "scattermapbox"
        },
        {
         "customdata": [
          [
           135317,
           20015
          ]
         ],
         "hovertemplate": "<b>%{hovertext}</b><br><br>Proporcion Extranjera=0.1288530373651276<br>Extranjera=%{customdata[1]}<br>Latitud=%{lat}<br>Longitud=%{lon}<br>Española=%{customdata[0]}<extra></extra>",
         "hovertext": [
          "Sevilla"
         ],
         "lat": [
          40.9481
         ],
         "legendgroup": "0.1288530373651276",
         "lon": [
          -4.1075
         ],
         "marker": {
          "color": "#FECB52",
          "size": [
           20015
          ],
          "sizemode": "area",
          "sizeref": 4630.6177777777775
         },
         "mode": "markers",
         "name": "0.1288530373651276",
         "showlegend": true,
         "subplot": "mapbox",
         "type": "scattermapbox"
        },
        {
         "customdata": [
          [
           1869197,
           90197
          ]
         ],
         "hovertemplate": "<b>%{hovertext}</b><br><br>Proporcion Extranjera=0.04603311023714475<br>Extranjera=%{customdata[1]}<br>Latitud=%{lat}<br>Longitud=%{lon}<br>Española=%{customdata[0]}<extra></extra>",
         "hovertext": [
          "Soria"
         ],
         "lat": [
          37.3886
         ],
         "legendgroup": "0.04603311023714475",
         "lon": [
          -5.9823
         ],
         "marker": {
          "color": "#636efa",
          "size": [
           90197
          ],
          "sizemode": "area",
          "sizeref": 4630.6177777777775
         },
         "mode": "markers",
         "name": "0.04603311023714475",
         "showlegend": true,
         "subplot": "mapbox",
         "type": "scattermapbox"
        },
        {
         "customdata": [
          [
           79165,
           10363
          ]
         ],
         "hovertemplate": "<b>%{hovertext}</b><br><br>Proporcion Extranjera=0.11575149673845055<br>Extranjera=%{customdata[1]}<br>Latitud=%{lat}<br>Longitud=%{lon}<br>Española=%{customdata[0]}<extra></extra>",
         "hovertext": [
          "Tarragona"
         ],
         "lat": [
          41.7632
         ],
         "legendgroup": "0.11575149673845055",
         "lon": [
          -2.4676
         ],
         "marker": {
          "color": "#EF553B",
          "size": [
           10363
          ],
          "sizemode": "area",
          "sizeref": 4630.6177777777775
         },
         "mode": "markers",
         "name": "0.11575149673845055",
         "showlegend": true,
         "subplot": "mapbox",
         "type": "scattermapbox"
        },
        {
         "customdata": [
          [
           697156,
           151436
          ]
         ],
         "hovertemplate": "<b>%{hovertext}</b><br><br>Proporcion Extranjera=0.17845560646341233<br>Extranjera=%{customdata[1]}<br>Latitud=%{lat}<br>Longitud=%{lon}<br>Española=%{customdata[0]}<extra></extra>",
         "hovertext": [
          "Santa Cruz de Tenerife"
         ],
         "lat": [
          41.1189
         ],
         "legendgroup": "0.17845560646341233",
         "lon": [
          -1.9812
         ],
         "marker": {
          "color": "#00cc96",
          "size": [
           151436
          ],
          "sizemode": "area",
          "sizeref": 4630.6177777777775
         },
         "mode": "markers",
         "name": "0.17845560646341233",
         "showlegend": true,
         "subplot": "mapbox",
         "type": "scattermapbox"
        },
        {
         "customdata": [
          [
           118354,
           16692
          ]
         ],
         "hovertemplate": "<b>%{hovertext}</b><br><br>Proporcion Extranjera=0.12360232809561186<br>Extranjera=%{customdata[1]}<br>Latitud=%{lat}<br>Longitud=%{lon}<br>Española=%{customdata[0]}<extra></extra>",
         "hovertext": [
          "Teruel"
         ],
         "lat": [
          40.3451
         ],
         "legendgroup": "0.12360232809561186",
         "lon": [
          -1.1063
         ],
         "marker": {
          "color": "#ab63fa",
          "size": [
           16692
          ],
          "sizemode": "area",
          "sizeref": 4630.6177777777775
         },
         "mode": "markers",
         "name": "0.12360232809561186",
         "showlegend": true,
         "subplot": "mapbox",
         "type": "scattermapbox"
        },
        {
         "customdata": [
          [
           644114,
           86998
          ]
         ],
         "hovertemplate": "<b>%{hovertext}</b><br><br>Proporcion Extranjera=0.11899408025035836<br>Extranjera=%{customdata[1]}<br>Latitud=%{lat}<br>Longitud=%{lon}<br>Española=%{customdata[0]}<extra></extra>",
         "hovertext": [
          "Toledo"
         ],
         "lat": [
          39.8628
         ],
         "legendgroup": "0.11899408025035836",
         "lon": [
          -4.0273
         ],
         "marker": {
          "color": "#FFA15A",
          "size": [
           86998
          ],
          "sizemode": "area",
          "sizeref": 4630.6177777777775
         },
         "mode": "markers",
         "name": "0.11899408025035836",
         "showlegend": true,
         "subplot": "mapbox",
         "type": "scattermapbox"
        },
        {
         "customdata": [
          [
           2306155,
           350686
          ]
         ],
         "hovertemplate": "<b>%{hovertext}</b><br><br>Proporcion Extranjera=0.13199359690700346<br>Extranjera=%{customdata[1]}<br>Latitud=%{lat}<br>Longitud=%{lon}<br>Española=%{customdata[0]}<extra></extra>",
         "hovertext": [
          "Valencia"
         ],
         "lat": [
          39.4699
         ],
         "legendgroup": "0.13199359690700346",
         "lon": [
          -0.3763
         ],
         "marker": {
          "color": "#19d3f3",
          "size": [
           350686
          ],
          "sizemode": "area",
          "sizeref": 4630.6177777777775
         },
         "mode": "markers",
         "name": "0.13199359690700346",
         "showlegend": true,
         "subplot": "mapbox",
         "type": "scattermapbox"
        },
        {
         "customdata": [
          [
           487981,
           33352
          ]
         ],
         "hovertemplate": "<b>%{hovertext}</b><br><br>Proporcion Extranjera=0.06397446545681934<br>Extranjera=%{customdata[1]}<br>Latitud=%{lat}<br>Longitud=%{lon}<br>Española=%{customdata[0]}<extra></extra>",
         "hovertext": [
          "Valladolid"
         ],
         "lat": [
          41.6523
         ],
         "legendgroup": "0.06397446545681934",
         "lon": [
          -4.7245
         ],
         "marker": {
          "color": "#FF6692",
          "size": [
           33352
          ],
          "sizemode": "area",
          "sizeref": 4630.6177777777775
         },
         "mode": "markers",
         "name": "0.06397446545681934",
         "showlegend": true,
         "subplot": "mapbox",
         "type": "scattermapbox"
        },
        {
         "customdata": [
          [
           1054185,
           99097
          ]
         ],
         "hovertemplate": "<b>%{hovertext}</b><br><br>Proporcion Extranjera=0.08592607879079012<br>Extranjera=%{customdata[1]}<br>Latitud=%{lat}<br>Longitud=%{lon}<br>Española=%{customdata[0]}<extra></extra>",
         "hovertext": [
          "Vizcaya"
         ],
         "lat": [
          43.263
         ],
         "legendgroup": "0.08592607879079012",
         "lon": [
          -2.934
         ],
         "marker": {
          "color": "#B6E880",
          "size": [
           99097
          ],
          "sizemode": "area",
          "sizeref": 4630.6177777777775
         },
         "mode": "markers",
         "name": "0.08592607879079012",
         "showlegend": true,
         "subplot": "mapbox",
         "type": "scattermapbox"
        },
        {
         "customdata": [
          [
           159326,
           7601
          ]
         ],
         "hovertemplate": "<b>%{hovertext}</b><br><br>Proporcion Extranjera=0.0455348745259904<br>Extranjera=%{customdata[1]}<br>Latitud=%{lat}<br>Longitud=%{lon}<br>Española=%{customdata[0]}<extra></extra>",
         "hovertext": [
          "Zamora"
         ],
         "lat": [
          41.5037
         ],
         "legendgroup": "0.0455348745259904",
         "lon": [
          -5.7498
         ],
         "marker": {
          "color": "#FF97FF",
          "size": [
           7601
          ],
          "sizemode": "area",
          "sizeref": 4630.6177777777775
         },
         "mode": "markers",
         "name": "0.0455348745259904",
         "showlegend": true,
         "subplot": "mapbox",
         "type": "scattermapbox"
        },
        {
         "customdata": [
          [
           846939,
           132426
          ]
         ],
         "hovertemplate": "<b>%{hovertext}</b><br><br>Proporcion Extranjera=0.13521618599807017<br>Extranjera=%{customdata[1]}<br>Latitud=%{lat}<br>Longitud=%{lon}<br>Española=%{customdata[0]}<extra></extra>",
         "hovertext": [
          "Zaragoza"
         ],
         "lat": [
          41.6488
         ],
         "legendgroup": "0.13521618599807017",
         "lon": [
          -0.8891
         ],
         "marker": {
          "color": "#FECB52",
          "size": [
           132426
          ],
          "sizemode": "area",
          "sizeref": 4630.6177777777775
         },
         "mode": "markers",
         "name": "0.13521618599807017",
         "showlegend": true,
         "subplot": "mapbox",
         "type": "scattermapbox"
        }
       ],
       "layout": {
        "legend": {
         "itemsizing": "constant",
         "title": {
          "text": "Proporcion Extranjera"
         },
         "tracegroupgap": 0
        },
        "mapbox": {
         "center": {
          "lat": 40.01672448979591,
          "lon": -3.791671428571429
         },
         "domain": {
          "x": [
           0,
           1
          ],
          "y": [
           0,
           1
          ]
         },
         "style": "carto-positron",
         "zoom": 6
        },
        "margin": {
         "t": 60
        },
        "template": {
         "data": {
          "bar": [
           {
            "error_x": {
             "color": "#2a3f5f"
            },
            "error_y": {
             "color": "#2a3f5f"
            },
            "marker": {
             "line": {
              "color": "#E5ECF6",
              "width": 0.5
             },
             "pattern": {
              "fillmode": "overlay",
              "size": 10,
              "solidity": 0.2
             }
            },
            "type": "bar"
           }
          ],
          "barpolar": [
           {
            "marker": {
             "line": {
              "color": "#E5ECF6",
              "width": 0.5
             },
             "pattern": {
              "fillmode": "overlay",
              "size": 10,
              "solidity": 0.2
             }
            },
            "type": "barpolar"
           }
          ],
          "carpet": [
           {
            "aaxis": {
             "endlinecolor": "#2a3f5f",
             "gridcolor": "white",
             "linecolor": "white",
             "minorgridcolor": "white",
             "startlinecolor": "#2a3f5f"
            },
            "baxis": {
             "endlinecolor": "#2a3f5f",
             "gridcolor": "white",
             "linecolor": "white",
             "minorgridcolor": "white",
             "startlinecolor": "#2a3f5f"
            },
            "type": "carpet"
           }
          ],
          "choropleth": [
           {
            "colorbar": {
             "outlinewidth": 0,
             "ticks": ""
            },
            "type": "choropleth"
           }
          ],
          "contour": [
           {
            "colorbar": {
             "outlinewidth": 0,
             "ticks": ""
            },
            "colorscale": [
             [
              0,
              "#0d0887"
             ],
             [
              0.1111111111111111,
              "#46039f"
             ],
             [
              0.2222222222222222,
              "#7201a8"
             ],
             [
              0.3333333333333333,
              "#9c179e"
             ],
             [
              0.4444444444444444,
              "#bd3786"
             ],
             [
              0.5555555555555556,
              "#d8576b"
             ],
             [
              0.6666666666666666,
              "#ed7953"
             ],
             [
              0.7777777777777778,
              "#fb9f3a"
             ],
             [
              0.8888888888888888,
              "#fdca26"
             ],
             [
              1,
              "#f0f921"
             ]
            ],
            "type": "contour"
           }
          ],
          "contourcarpet": [
           {
            "colorbar": {
             "outlinewidth": 0,
             "ticks": ""
            },
            "type": "contourcarpet"
           }
          ],
          "heatmap": [
           {
            "colorbar": {
             "outlinewidth": 0,
             "ticks": ""
            },
            "colorscale": [
             [
              0,
              "#0d0887"
             ],
             [
              0.1111111111111111,
              "#46039f"
             ],
             [
              0.2222222222222222,
              "#7201a8"
             ],
             [
              0.3333333333333333,
              "#9c179e"
             ],
             [
              0.4444444444444444,
              "#bd3786"
             ],
             [
              0.5555555555555556,
              "#d8576b"
             ],
             [
              0.6666666666666666,
              "#ed7953"
             ],
             [
              0.7777777777777778,
              "#fb9f3a"
             ],
             [
              0.8888888888888888,
              "#fdca26"
             ],
             [
              1,
              "#f0f921"
             ]
            ],
            "type": "heatmap"
           }
          ],
          "heatmapgl": [
           {
            "colorbar": {
             "outlinewidth": 0,
             "ticks": ""
            },
            "colorscale": [
             [
              0,
              "#0d0887"
             ],
             [
              0.1111111111111111,
              "#46039f"
             ],
             [
              0.2222222222222222,
              "#7201a8"
             ],
             [
              0.3333333333333333,
              "#9c179e"
             ],
             [
              0.4444444444444444,
              "#bd3786"
             ],
             [
              0.5555555555555556,
              "#d8576b"
             ],
             [
              0.6666666666666666,
              "#ed7953"
             ],
             [
              0.7777777777777778,
              "#fb9f3a"
             ],
             [
              0.8888888888888888,
              "#fdca26"
             ],
             [
              1,
              "#f0f921"
             ]
            ],
            "type": "heatmapgl"
           }
          ],
          "histogram": [
           {
            "marker": {
             "pattern": {
              "fillmode": "overlay",
              "size": 10,
              "solidity": 0.2
             }
            },
            "type": "histogram"
           }
          ],
          "histogram2d": [
           {
            "colorbar": {
             "outlinewidth": 0,
             "ticks": ""
            },
            "colorscale": [
             [
              0,
              "#0d0887"
             ],
             [
              0.1111111111111111,
              "#46039f"
             ],
             [
              0.2222222222222222,
              "#7201a8"
             ],
             [
              0.3333333333333333,
              "#9c179e"
             ],
             [
              0.4444444444444444,
              "#bd3786"
             ],
             [
              0.5555555555555556,
              "#d8576b"
             ],
             [
              0.6666666666666666,
              "#ed7953"
             ],
             [
              0.7777777777777778,
              "#fb9f3a"
             ],
             [
              0.8888888888888888,
              "#fdca26"
             ],
             [
              1,
              "#f0f921"
             ]
            ],
            "type": "histogram2d"
           }
          ],
          "histogram2dcontour": [
           {
            "colorbar": {
             "outlinewidth": 0,
             "ticks": ""
            },
            "colorscale": [
             [
              0,
              "#0d0887"
             ],
             [
              0.1111111111111111,
              "#46039f"
             ],
             [
              0.2222222222222222,
              "#7201a8"
             ],
             [
              0.3333333333333333,
              "#9c179e"
             ],
             [
              0.4444444444444444,
              "#bd3786"
             ],
             [
              0.5555555555555556,
              "#d8576b"
             ],
             [
              0.6666666666666666,
              "#ed7953"
             ],
             [
              0.7777777777777778,
              "#fb9f3a"
             ],
             [
              0.8888888888888888,
              "#fdca26"
             ],
             [
              1,
              "#f0f921"
             ]
            ],
            "type": "histogram2dcontour"
           }
          ],
          "mesh3d": [
           {
            "colorbar": {
             "outlinewidth": 0,
             "ticks": ""
            },
            "type": "mesh3d"
           }
          ],
          "parcoords": [
           {
            "line": {
             "colorbar": {
              "outlinewidth": 0,
              "ticks": ""
             }
            },
            "type": "parcoords"
           }
          ],
          "pie": [
           {
            "automargin": true,
            "type": "pie"
           }
          ],
          "scatter": [
           {
            "fillpattern": {
             "fillmode": "overlay",
             "size": 10,
             "solidity": 0.2
            },
            "type": "scatter"
           }
          ],
          "scatter3d": [
           {
            "line": {
             "colorbar": {
              "outlinewidth": 0,
              "ticks": ""
             }
            },
            "marker": {
             "colorbar": {
              "outlinewidth": 0,
              "ticks": ""
             }
            },
            "type": "scatter3d"
           }
          ],
          "scattercarpet": [
           {
            "marker": {
             "colorbar": {
              "outlinewidth": 0,
              "ticks": ""
             }
            },
            "type": "scattercarpet"
           }
          ],
          "scattergeo": [
           {
            "marker": {
             "colorbar": {
              "outlinewidth": 0,
              "ticks": ""
             }
            },
            "type": "scattergeo"
           }
          ],
          "scattergl": [
           {
            "marker": {
             "colorbar": {
              "outlinewidth": 0,
              "ticks": ""
             }
            },
            "type": "scattergl"
           }
          ],
          "scattermapbox": [
           {
            "marker": {
             "colorbar": {
              "outlinewidth": 0,
              "ticks": ""
             }
            },
            "type": "scattermapbox"
           }
          ],
          "scatterpolar": [
           {
            "marker": {
             "colorbar": {
              "outlinewidth": 0,
              "ticks": ""
             }
            },
            "type": "scatterpolar"
           }
          ],
          "scatterpolargl": [
           {
            "marker": {
             "colorbar": {
              "outlinewidth": 0,
              "ticks": ""
             }
            },
            "type": "scatterpolargl"
           }
          ],
          "scatterternary": [
           {
            "marker": {
             "colorbar": {
              "outlinewidth": 0,
              "ticks": ""
             }
            },
            "type": "scatterternary"
           }
          ],
          "surface": [
           {
            "colorbar": {
             "outlinewidth": 0,
             "ticks": ""
            },
            "colorscale": [
             [
              0,
              "#0d0887"
             ],
             [
              0.1111111111111111,
              "#46039f"
             ],
             [
              0.2222222222222222,
              "#7201a8"
             ],
             [
              0.3333333333333333,
              "#9c179e"
             ],
             [
              0.4444444444444444,
              "#bd3786"
             ],
             [
              0.5555555555555556,
              "#d8576b"
             ],
             [
              0.6666666666666666,
              "#ed7953"
             ],
             [
              0.7777777777777778,
              "#fb9f3a"
             ],
             [
              0.8888888888888888,
              "#fdca26"
             ],
             [
              1,
              "#f0f921"
             ]
            ],
            "type": "surface"
           }
          ],
          "table": [
           {
            "cells": {
             "fill": {
              "color": "#EBF0F8"
             },
             "line": {
              "color": "white"
             }
            },
            "header": {
             "fill": {
              "color": "#C8D4E3"
             },
             "line": {
              "color": "white"
             }
            },
            "type": "table"
           }
          ]
         },
         "layout": {
          "annotationdefaults": {
           "arrowcolor": "#2a3f5f",
           "arrowhead": 0,
           "arrowwidth": 1
          },
          "autotypenumbers": "strict",
          "coloraxis": {
           "colorbar": {
            "outlinewidth": 0,
            "ticks": ""
           }
          },
          "colorscale": {
           "diverging": [
            [
             0,
             "#8e0152"
            ],
            [
             0.1,
             "#c51b7d"
            ],
            [
             0.2,
             "#de77ae"
            ],
            [
             0.3,
             "#f1b6da"
            ],
            [
             0.4,
             "#fde0ef"
            ],
            [
             0.5,
             "#f7f7f7"
            ],
            [
             0.6,
             "#e6f5d0"
            ],
            [
             0.7,
             "#b8e186"
            ],
            [
             0.8,
             "#7fbc41"
            ],
            [
             0.9,
             "#4d9221"
            ],
            [
             1,
             "#276419"
            ]
           ],
           "sequential": [
            [
             0,
             "#0d0887"
            ],
            [
             0.1111111111111111,
             "#46039f"
            ],
            [
             0.2222222222222222,
             "#7201a8"
            ],
            [
             0.3333333333333333,
             "#9c179e"
            ],
            [
             0.4444444444444444,
             "#bd3786"
            ],
            [
             0.5555555555555556,
             "#d8576b"
            ],
            [
             0.6666666666666666,
             "#ed7953"
            ],
            [
             0.7777777777777778,
             "#fb9f3a"
            ],
            [
             0.8888888888888888,
             "#fdca26"
            ],
            [
             1,
             "#f0f921"
            ]
           ],
           "sequentialminus": [
            [
             0,
             "#0d0887"
            ],
            [
             0.1111111111111111,
             "#46039f"
            ],
            [
             0.2222222222222222,
             "#7201a8"
            ],
            [
             0.3333333333333333,
             "#9c179e"
            ],
            [
             0.4444444444444444,
             "#bd3786"
            ],
            [
             0.5555555555555556,
             "#d8576b"
            ],
            [
             0.6666666666666666,
             "#ed7953"
            ],
            [
             0.7777777777777778,
             "#fb9f3a"
            ],
            [
             0.8888888888888888,
             "#fdca26"
            ],
            [
             1,
             "#f0f921"
            ]
           ]
          },
          "colorway": [
           "#636efa",
           "#EF553B",
           "#00cc96",
           "#ab63fa",
           "#FFA15A",
           "#19d3f3",
           "#FF6692",
           "#B6E880",
           "#FF97FF",
           "#FECB52"
          ],
          "font": {
           "color": "#2a3f5f"
          },
          "geo": {
           "bgcolor": "white",
           "lakecolor": "white",
           "landcolor": "#E5ECF6",
           "showlakes": true,
           "showland": true,
           "subunitcolor": "white"
          },
          "hoverlabel": {
           "align": "left"
          },
          "hovermode": "closest",
          "mapbox": {
           "style": "light"
          },
          "paper_bgcolor": "white",
          "plot_bgcolor": "#E5ECF6",
          "polar": {
           "angularaxis": {
            "gridcolor": "white",
            "linecolor": "white",
            "ticks": ""
           },
           "bgcolor": "#E5ECF6",
           "radialaxis": {
            "gridcolor": "white",
            "linecolor": "white",
            "ticks": ""
           }
          },
          "scene": {
           "xaxis": {
            "backgroundcolor": "#E5ECF6",
            "gridcolor": "white",
            "gridwidth": 2,
            "linecolor": "white",
            "showbackground": true,
            "ticks": "",
            "zerolinecolor": "white"
           },
           "yaxis": {
            "backgroundcolor": "#E5ECF6",
            "gridcolor": "white",
            "gridwidth": 2,
            "linecolor": "white",
            "showbackground": true,
            "ticks": "",
            "zerolinecolor": "white"
           },
           "zaxis": {
            "backgroundcolor": "#E5ECF6",
            "gridcolor": "white",
            "gridwidth": 2,
            "linecolor": "white",
            "showbackground": true,
            "ticks": "",
            "zerolinecolor": "white"
           }
          },
          "shapedefaults": {
           "line": {
            "color": "#2a3f5f"
           }
          },
          "ternary": {
           "aaxis": {
            "gridcolor": "white",
            "linecolor": "white",
            "ticks": ""
           },
           "baxis": {
            "gridcolor": "white",
            "linecolor": "white",
            "ticks": ""
           },
           "bgcolor": "#E5ECF6",
           "caxis": {
            "gridcolor": "white",
            "linecolor": "white",
            "ticks": ""
           }
          },
          "title": {
           "x": 0.05
          },
          "xaxis": {
           "automargin": true,
           "gridcolor": "white",
           "linecolor": "white",
           "ticks": "",
           "title": {
            "standoff": 15
           },
           "zerolinecolor": "white",
           "zerolinewidth": 2
          },
          "yaxis": {
           "automargin": true,
           "gridcolor": "white",
           "linecolor": "white",
           "ticks": "",
           "title": {
            "standoff": 15
           },
           "zerolinecolor": "white",
           "zerolinewidth": 2
          }
         }
        },
        "title": {
         "text": "Distribución de Población Nativa y Extranjera"
        }
       }
      }
     },
     "metadata": {},
     "output_type": "display_data"
    }
   ],
   "source": [
    "import plotly.express as px\n",
    "import pandas as pd\n",
    "\n",
    "# Datos de ejemplo\n",
    "df = datos_mapeo\n",
    "\n",
    "# Crear columna de proporción de extranjeros\n",
    "df[\"Proporcion Extranjera\"] = df[\"Extranjera\"] / (df['Total'])\n",
    "\n",
    "# Crear mapa interactivo\n",
    "fig = px.scatter_mapbox(\n",
    "    df,\n",
    "    lat=\"Latitud\",\n",
    "    lon=\"Longitud\",\n",
    "    size=\"Extranjera\",\n",
    "    color=\"Proporcion Extranjera\",\n",
    "    hover_name=\"Provincia\",\n",
    "    hover_data={\"Española\": True, \"Extranjera\": True},\n",
    "    color_continuous_scale=px.colors.sequential.Viridis,\n",
    "    size_max=15,\n",
    "    zoom=6,\n",
    "    mapbox_style=\"carto-positron\"  # Puedes cambiar el estilo del mapa\n",
    ")\n",
    "\n",
    "fig.update_layout(title=\"Distribución de Población Nativa y Extranjera\")\n",
    "fig.show()\n"
   ]
  },
  {
   "cell_type": "code",
   "execution_count": 9,
   "metadata": {},
   "outputs": [],
   "source": [
    "df[\"Extranjera\"] = pd.to_numeric(df[\"Extranjera\"], errors=\"coerce\")\n"
   ]
  }
 ],
 "metadata": {
  "kernelspec": {
   "display_name": "Python 3",
   "language": "python",
   "name": "python3"
  },
  "language_info": {
   "codemirror_mode": {
    "name": "ipython",
    "version": 3
   },
   "file_extension": ".py",
   "mimetype": "text/x-python",
   "name": "python",
   "nbconvert_exporter": "python",
   "pygments_lexer": "ipython3",
   "version": "3.10.7"
  }
 },
 "nbformat": 4,
 "nbformat_minor": 2
}
